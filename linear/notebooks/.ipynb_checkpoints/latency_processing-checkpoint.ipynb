{
 "cells": [
  {
   "cell_type": "code",
   "execution_count": 13,
   "id": "e30959d3",
   "metadata": {},
   "outputs": [],
   "source": [
    "import sys, re, os\n",
    "import numpy as np\n",
    "import pandas as pd\n",
    "\n",
    "import numpy as np\n",
    "import matplotlib.pyplot as plt\n",
    "from sklearn.linear_model import LinearRegression"
   ]
  },
  {
   "cell_type": "code",
   "execution_count": 14,
   "id": "0737b85c",
   "metadata": {},
   "outputs": [],
   "source": [
    "# Change the work directory to the parent\n",
    "try:\n",
    "    if chdir:\n",
    "        pass\n",
    "except:\n",
    "    current_dir = os.getcwd()\n",
    "    os.chdir(current_dir +\"/..\")\n",
    "    os.path.abspath(os.curdir)"
   ]
  },
  {
   "cell_type": "code",
   "execution_count": 15,
   "id": "a2bc8b3b",
   "metadata": {},
   "outputs": [],
   "source": [
    "chdir = True"
   ]
  },
  {
   "cell_type": "code",
   "execution_count": 66,
   "id": "c102a16d",
   "metadata": {},
   "outputs": [],
   "source": [
    "import pandas as pd\n",
    "\n",
    "for i in range(55,56):\n",
    "    # Read the CSV file with space-separated values and no header\n",
    "    df = pd.read_csv(\"..\\\\linear\\\\data\\\\intervention\\\\exp-{}\\\\latency.csv\".format(i), sep=' ', header=None)\n",
    "\n",
    "    # Drop the second column\n",
    "    df.drop(columns=[0], inplace=True)\n",
    "\n",
    "    # Save the new dataframe to a new CSV file\n",
    "    df.to_csv(\"..\\\\linear\\\\data\\\\intervention\\\\exp-{}\\\\latency.csv\".format(i), index=False, header=False)\n"
   ]
  },
  {
   "cell_type": "code",
   "execution_count": 18,
   "id": "11a86ef5",
   "metadata": {},
   "outputs": [],
   "source": [
    "import pandas as pd\n",
    "\n",
    "\n",
    "# Read the CSV file with space-separated values and no header\n",
    "df = pd.read_csv(\"..\\\\linear\\\\data\\\\incremental\\\\gaussian_rate\\\\latency.csv\", sep=' ', header=None)\n",
    "\n",
    "# Drop the second column\n",
    "df.drop(columns=[0], inplace=True)\n",
    "\n",
    "# Save the new dataframe to a new CSV file\n",
    "df.to_csv(\"..\\\\linear\\\\data\\\\incremental\\\\gaussian_rate\\\\latency.csv\", index=False, header=False)"
   ]
  },
  {
   "cell_type": "code",
   "execution_count": null,
   "id": "89b474f7",
   "metadata": {},
   "outputs": [],
   "source": [
    "#change maxmine value from 15000 to 12000\n",
    "import pandas as pd\n",
    "\n",
    "for i in range(3, 8):\n",
    "    for j in [1, 3]:\n",
    "        for k in range(1, 5):\n",
    "            # Read the CSV file with space-separated values and no header\n",
    "            df = pd.read_csv(\"..\\\\linear\\\\data_modify_latency\\\\resource_stimulus\\\\exp-{}-{}-{}\\\\latency.csv\".format(i, j, k), sep=' ', header=None)\n",
    "\n",
    "            # Modify the 'latency' column and set any value equal to 150000 to 120000\n",
    "            df = df.replace(15000000, 12000000)\n",
    "\n",
    "            # Save the new dataframe to a new CSV file\n",
    "            df.to_csv(\"..\\\\linear\\\\data_modify_latency\\\\resource_stimulus\\\\exp-{}-{}-{}\\\\latency.csv\".format(i, j, k), sep=' ', index=False, header=False)\n"
   ]
  },
  {
   "cell_type": "code",
   "execution_count": null,
   "id": "8545124c",
   "metadata": {},
   "outputs": [],
   "source": [
    "import pandas as pd\n",
    "df = pd.read_csv(\"..\\\\linear\\\\datasets\\\\resource_stimulus_global_A-B-C.csv\", sep=' ', header=None)\n",
    "# Modify the 'latency' column and set any value equal to 150000 to 120000\n",
    "df = df.replace(15000000,12000000)\n",
    "df.to_csv(\"..\\\\linear\\\\datasets\\\\resource_stimulus_global_A-B-C_modified.csv\", sep=' ', index=False, header=False)"
   ]
  },
  {
   "cell_type": "code",
   "execution_count": null,
   "id": "0a25b9a8",
   "metadata": {},
   "outputs": [],
   "source": [
    "import pandas as pd\n",
    "\n",
    "for i in range(3, 8):\n",
    "    for j in [1, 3]:\n",
    "        for k in range(1, 5):\n",
    "            # Read the CSV file with space-separated values and no header\n",
    "            df = pd.read_csv(\"..\\\\linear\\\\data\\\\load_stimulus\\\\random_rate_period\\\\latency.csv\", sep=' ', header=None)\n",
    "\n",
    "            # Modify the 'latency' column and set any value equal to 150000 to 120000\n",
    "            df = df.replace(15000000, 12000000)\n",
    "\n",
    "            # Save the new dataframe to a new CSV file\n",
    "            df.to_csv(\"..\\\\linear\\\\data_modify_latency\\\\load_stimulus\\\\random_rate_period\\\\latency.csv\", sep=' ', index=False, header=False)"
   ]
  }
 ],
 "metadata": {
  "kernelspec": {
   "display_name": "Python 3 (ipykernel)",
   "language": "python",
   "name": "python3"
  },
  "language_info": {
   "codemirror_mode": {
    "name": "ipython",
    "version": 3
   },
   "file_extension": ".py",
   "mimetype": "text/x-python",
   "name": "python",
   "nbconvert_exporter": "python",
   "pygments_lexer": "ipython3",
   "version": "3.10.9"
  }
 },
 "nbformat": 4,
 "nbformat_minor": 5
}
