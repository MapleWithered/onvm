{
 "cells": [
  {
   "cell_type": "code",
   "execution_count": 23,
   "id": "13fff055",
   "metadata": {},
   "outputs": [],
   "source": [
    "import sys, re, os\n",
    "import numpy as np\n",
    "import pandas as pd\n"
   ]
  },
  {
   "cell_type": "code",
   "execution_count": 24,
   "id": "e08f61f9",
   "metadata": {},
   "outputs": [],
   "source": [
    "# Change the work directory to the parent\n",
    "try:\n",
    "    if chdir:\n",
    "        pass\n",
    "except:\n",
    "    current_dir = os.getcwd()\n",
    "    os.chdir(current_dir +\"/..\")\n",
    "    os.path.abspath(os.curdir)"
   ]
  },
  {
   "cell_type": "code",
   "execution_count": 25,
   "id": "602b234e",
   "metadata": {},
   "outputs": [],
   "source": [
    "chdir = True"
   ]
  },
  {
   "cell_type": "code",
   "execution_count": 26,
   "id": "4fa64dec",
   "metadata": {},
   "outputs": [],
   "source": [
    "import zipfile\n",
    "\n",
    "def unzip_file(zip_file_path, destination_folder):\n",
    "    with zipfile.ZipFile(zip_file_path, 'r') as files:\n",
    "        files.extractall(destination_folder)"
   ]
  },
  {
   "cell_type": "code",
   "execution_count": 27,
   "id": "beb3a7b8",
   "metadata": {},
   "outputs": [
    {
     "name": "stdout",
     "output_type": "stream",
     "text": [
      "['load_stimulus_exp1.csv', 'load_stimulus_exp2.csv', 'load_stimulus_exp3.csv', 'load_stimulus_exp4.csv', 'load_stimulus_exp5.csv', 'load_stimulus_exp6.csv', 'load_stimulus_exp7.csv', 'load_stimulus_exp8.csv', 'load_stimulus_exp9.csv', 'load_stimulus_exp10.csv']\n"
     ]
    }
   ],
   "source": [
    "load_stimulus_global = pd.DataFrame()\n",
    "file_names = []\n",
    "\n",
    "for i in range(1, 11):\n",
    "    item = 'load_stimulus_exp{}.csv'.format(i)\n",
    "    file_names.append(item)\n",
    "\n",
    "\n",
    "print(file_names)"
   ]
  },
  {
   "cell_type": "code",
   "execution_count": 28,
   "id": "2491ab95",
   "metadata": {},
   "outputs": [
    {
     "name": "stdout",
     "output_type": "stream",
     "text": [
      "C:\\Users\\Qiong\\ml_for_highspeed_worlds\\linear\\datasets\n"
     ]
    }
   ],
   "source": [
    "file_path = os.path.abspath(os.path.join(\"../linear/datasets\"))\n",
    "print(file_path)\n",
    "combined_df =  pd.DataFrame()\n",
    "for file_name in file_names:\n",
    "    file_path = os.path.join(folder_path, file_name)\n",
    "    df = pd.read_csv(file_path)\n",
    "    load_stimulus_global = pd.concat([load_stimulus_global, df], ignore_index=True)\n",
    "\n",
    "    \n",
    "# Save the combined DataFrame as a new CSV file\n",
    "\n",
    "abs_path = os.path.join(\"..\\\\linear\\\\datasets\", 'load_stimulus_global.csv')\n",
    "df.to_csv(abs_path, index=False)"
   ]
  },
  {
   "cell_type": "code",
   "execution_count": null,
   "id": "eb73df22",
   "metadata": {},
   "outputs": [],
   "source": []
  }
 ],
 "metadata": {
  "kernelspec": {
   "display_name": "Python 3 (ipykernel)",
   "language": "python",
   "name": "python3"
  },
  "language_info": {
   "codemirror_mode": {
    "name": "ipython",
    "version": 3
   },
   "file_extension": ".py",
   "mimetype": "text/x-python",
   "name": "python",
   "nbconvert_exporter": "python",
   "pygments_lexer": "ipython3",
   "version": "3.10.9"
  }
 },
 "nbformat": 4,
 "nbformat_minor": 5
}
