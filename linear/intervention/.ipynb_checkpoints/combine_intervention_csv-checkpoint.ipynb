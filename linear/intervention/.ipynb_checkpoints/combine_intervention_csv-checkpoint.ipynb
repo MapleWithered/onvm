{
 "cells": [
  {
   "cell_type": "code",
   "execution_count": 20,
   "id": "beb3a7b8",
   "metadata": {},
   "outputs": [
    {
     "name": "stdout",
     "output_type": "stream",
     "text": [
      "C:\\Users\\Qiong\\ml_for_highspeed_worlds\\linear\n",
      "['load_stimulus_exp1.csv', 'load_stimulus_exp2.csv', 'load_stimulus_exp3.csv', 'load_stimulus_exp4.csv', 'load_stimulus_exp5.csv', 'load_stimulus_exp6.csv', 'load_stimulus_exp7.csv', 'load_stimulus_exp8.csv', 'load_stimulus_exp9.csv', 'load_stimulus_exp10.csv']\n"
     ]
    }
   ],
   "source": [
    "import pandas as pd\n",
    "import os\n",
    "folder_path='../linear'\n",
    "load_stimulus_global = pd.DataFrame()\n",
    "file_names = []\n",
    "\n",
    "for i in range(1, 11):\n",
    "    item = 'load_stimulus_exp{}.csv'.format(i)\n",
    "    file_names.append(item)\n",
    "\n",
    "print(os.getcwd())\n",
    "print(file_names)"
   ]
  },
  {
   "cell_type": "code",
   "execution_count": 22,
   "id": "2491ab95",
   "metadata": {},
   "outputs": [],
   "source": [
    "for file_name in file_names:\n",
    "    file_path = os.path.join(folder_path, file_name)\n",
    "    file_path = file_path.replace(\"\\\\\" , \"/\")\n",
    "    df = pd.read_csv(file_path)\n",
    "    load_stimulus_global = pd.concat([combined_df, df], ignore_index=True)\n",
    "\n",
    "    \n",
    "# Save the combined DataFrame as a new CSV file\n",
    "combined_df.to_csv('load_stimulus_global.csv', index=False)"
   ]
  },
  {
   "cell_type": "code",
   "execution_count": 23,
   "id": "e787c946",
   "metadata": {},
   "outputs": [
    {
     "name": "stdout",
     "output_type": "stream",
     "text": [
      "(1790, 64)\n",
      "   Unnamed: 0  input_rate  output_rate  latency  firewall_instructions  \\\n",
      "0           0  187.224333   185.229798    6.691           1.121128e+10   \n",
      "1           1  516.725065   528.201666    8.963           1.123944e+10   \n",
      "2           2  528.457327   528.471292    6.768           1.123918e+10   \n",
      "3           3  528.405466   528.386996    6.377           1.115283e+10   \n",
      "4           4  528.280111   528.273735    7.133           1.114634e+10   \n",
      "\n",
      "   nf_router_instructions  ndpi_stats_instructions  payload_scan_instructions  \\\n",
      "0            1.088710e+10             1.097567e+10               1.071371e+10   \n",
      "1            1.103156e+10             1.106136e+10               1.090837e+10   \n",
      "2            1.093461e+10             1.105879e+10               1.084090e+10   \n",
      "3            1.110961e+10             1.040465e+10               1.102334e+10   \n",
      "4            1.111768e+10             1.104884e+10               1.102454e+10   \n",
      "\n",
      "   bridge_instructions  firewall_branches  ...  firewall_LLC-stores  \\\n",
      "0         1.089431e+10       2.199691e+09  ...             834535.0   \n",
      "1         1.099876e+10       2.214683e+09  ...             859218.0   \n",
      "2         1.101288e+10       2.214670e+09  ...             874257.0   \n",
      "3         1.101689e+10       2.202532e+09  ...             859178.0   \n",
      "4         1.100556e+10       2.201304e+09  ...             865321.0   \n",
      "\n",
      "   nf_router_LLC-stores  ndpi_stats_LLC-stores  payload_scan_LLC-stores  \\\n",
      "0              895849.0               826518.0                 882691.0   \n",
      "1              914788.0               849676.0                 901211.0   \n",
      "2              933491.0               860351.0                 920450.0   \n",
      "3              928322.0               860363.0                 910669.0   \n",
      "4              915119.0               844880.0                 901566.0   \n",
      "\n",
      "   bridge_LLC-stores  firewall_LLC-loads  nf_router_LLC-loads  \\\n",
      "0           711973.0           1360317.0            1387358.0   \n",
      "1           733000.0           1391619.0            1499959.0   \n",
      "2           745286.0           1379152.0            1533535.0   \n",
      "3           742446.0           1371159.0            1514267.0   \n",
      "4           729822.0           1378034.0            1529598.0   \n",
      "\n",
      "   ndpi_stats_LLC-loads  payload_scan_LLC-loads  bridge_LLC-loads  \n",
      "0             1584910.0               2121682.0         1951730.0  \n",
      "1             1598652.0               2270153.0         1987013.0  \n",
      "2             1602503.0               2302810.0         2035047.0  \n",
      "3             1587722.0               2277497.0         2027721.0  \n",
      "4             1590916.0               2317227.0         2014587.0  \n",
      "\n",
      "[5 rows x 64 columns]\n"
     ]
    }
   ],
   "source": [
    "import pandas as pd\n",
    "import os\n",
    "\n",
    "folder_path = '../linear'\n",
    "combined_df = pd.DataFrame()\n",
    "\n",
    "file_names = []\n",
    "\n",
    "for i in range(1, 11):\n",
    "    item = 'load_stimulus_exp{}.csv'.format(i)\n",
    "    file_names.append(item)\n",
    "\n",
    "for file_name in file_names:\n",
    "    file_path = os.path.join(folder_path, file_name)\n",
    "    file_path = file_path.replace(\"\\\\\", \"/\")\n",
    "    df = pd.read_csv(file_path)\n",
    "    combined_df = pd.concat([combined_df, df], ignore_index=True)\n",
    "\n",
    "# Print the shape and sample records of the combined DataFrame\n",
    "print(combined_df.shape)\n",
    "print(combined_df.head())\n",
    "\n",
    "# Save the combined DataFrame as a new CSV file\n",
    "combined_df.to_csv('combined.csv', index=False)\n"
   ]
  },
  {
   "cell_type": "code",
   "execution_count": null,
   "id": "4fa64dec",
   "metadata": {},
   "outputs": [],
   "source": [
    "import zipfile as zf\n",
    "files = zf.ZipFile(\"intervention.zip\", 'r')\n",
    "files.extractall('intervention')\n",
    "files.close()"
   ]
  }
 ],
 "metadata": {
  "kernelspec": {
   "display_name": "Python 3 (ipykernel)",
   "language": "python",
   "name": "python3"
  },
  "language_info": {
   "codemirror_mode": {
    "name": "ipython",
    "version": 3
   },
   "file_extension": ".py",
   "mimetype": "text/x-python",
   "name": "python",
   "nbconvert_exporter": "python",
   "pygments_lexer": "ipython3",
   "version": "3.10.9"
  }
 },
 "nbformat": 4,
 "nbformat_minor": 5
}
