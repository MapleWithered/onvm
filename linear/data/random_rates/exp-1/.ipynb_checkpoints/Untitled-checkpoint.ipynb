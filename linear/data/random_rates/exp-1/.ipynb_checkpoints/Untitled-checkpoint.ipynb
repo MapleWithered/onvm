{
 "cells": [
  {
   "cell_type": "code",
   "execution_count": 1,
   "id": "55cb2c28",
   "metadata": {},
   "outputs": [],
   "source": [
    "import csv\n",
    "\n",
    "with open(\"latency.csv\", \"r\") as csvfile, open(\"latency_new.csv\", \"w\", newline='') as outfile:\n",
    "    reader = csv.reader(csvfile, delimiter=' ')\n",
    "    writer = csv.writer(outfile)\n",
    "    for row in reader:\n",
    "        if len(row) >= 2:\n",
    "            writer.writerow([row[1]])\n"
   ]
  },
  {
   "cell_type": "code",
   "execution_count": null,
   "id": "4fbbd182",
   "metadata": {},
   "outputs": [],
   "source": []
  }
 ],
 "metadata": {
  "kernelspec": {
   "display_name": "Python 3 (ipykernel)",
   "language": "python",
   "name": "python3"
  },
  "language_info": {
   "codemirror_mode": {
    "name": "ipython",
    "version": 3
   },
   "file_extension": ".py",
   "mimetype": "text/x-python",
   "name": "python",
   "nbconvert_exporter": "python",
   "pygments_lexer": "ipython3",
   "version": "3.10.9"
  }
 },
 "nbformat": 4,
 "nbformat_minor": 5
}
