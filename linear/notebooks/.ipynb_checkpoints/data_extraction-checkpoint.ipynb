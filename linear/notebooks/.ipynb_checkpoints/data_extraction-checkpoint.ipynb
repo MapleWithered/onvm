{
 "cells": [
  {
   "cell_type": "code",
   "execution_count": 1,
   "id": "9939eb58",
   "metadata": {},
   "outputs": [],
   "source": [
    "import pandas as pd\n",
    "import os, re"
   ]
  },
  {
   "cell_type": "code",
   "execution_count": 2,
   "id": "55826968",
   "metadata": {},
   "outputs": [],
   "source": [
    "# Change the work directory to the parent\n",
    "try:\n",
    "    if chdir:\n",
    "        pass\n",
    "except:\n",
    "    current_dir = os.getcwd()\n",
    "    os.chdir(current_dir +\"/..\")\n",
    "    os.path.abspath(os.curdir)"
   ]
  },
  {
   "cell_type": "code",
   "execution_count": 3,
   "id": "3ea5ec29",
   "metadata": {},
   "outputs": [],
   "source": [
    "chdir = True"
   ]
  },
  {
   "cell_type": "code",
   "execution_count": 4,
   "id": "c2b78803",
   "metadata": {},
   "outputs": [],
   "source": [
    "import matplotlib.pyplot as plt\n",
    "%matplotlib inline\n",
    "\n",
    "plt.rc('font', family='serif')\n",
    "plt.rcParams.update({'font.size': 11})\n",
    "\n",
    "plt.rcParams['figure.dpi'] = 200\n",
    "plt.rcParams['savefig.dpi'] = 300"
   ]
  },
  {
   "cell_type": "code",
   "execution_count": 5,
   "id": "fa7dad89",
   "metadata": {},
   "outputs": [],
   "source": [
    "# Metadata for specific SFC configurations\n",
    "exp_ls = \"exp10\"\n",
    "exp_rs = \"exp37\"\n",
    "vnfs = [\"firewall.csv\", \"nf_router.csv\", \"ndpi_stats.csv\", \"payload_scan.csv\", \"bridge.csv\"]"
   ]
  },
  {
   "cell_type": "code",
   "execution_count": 6,
   "id": "9702aca3",
   "metadata": {},
   "outputs": [],
   "source": [
    "def parse_seq(exp_type, exp_num, file, index=5):\n",
    "    \"Parse sequential data, specialized for the TX/RX/Latency experiments\"\n",
    "    tmp = []\n",
    "    \n",
    "    if file.startswith(\"latency.csv\"):\n",
    "        with open(os.path.join(exp_type, exp_num, file)) as f:\n",
    "            lines = f.readlines()[4:] if exp_type == \"load_stimulus\" else f.readlines()\n",
    "            for line in lines:\n",
    "                tmp.append(float(line.strip())/1000)\n",
    "    else:\n",
    "        with open(os.path.join(exp_type, exp_num, file)) as f:\n",
    "            next(f)\n",
    "            for l in f:\n",
    "                tmp.append(float(l.strip().split(\",\")[index]))\n",
    "                \n",
    "    return tmp"
   ]
  },
  {
   "cell_type": "code",
   "execution_count": 7,
   "id": "19ee79c2",
   "metadata": {},
   "outputs": [],
   "source": [
    "def parse_reg(exp_type, exp_num, file, stat_name, index=1):\n",
    "    \"Parse the Perf data\"\n",
    "    stat = []\n",
    "    with open(os.path.join(exp_type, exp_num, file)) as file:\n",
    "        for line in file:\n",
    "            if re.search(stat_name, line):\n",
    "                stat.append(line.strip().split(',')[index])\n",
    "    \n",
    "    return list(map(lambda x:float(x), stat[:-1]))"
   ]
  },
  {
   "cell_type": "code",
   "execution_count": 8,
   "id": "f5677589",
   "metadata": {},
   "outputs": [],
   "source": [
    "latency = parse_seq(\"load_stimulus\", exp_ls, \"latency.csv\")\n",
    "len(latency)"
   ]
  },
  {
   "cell_type": "code",
   "execution_count": 9,
   "id": "537f5a08",
   "metadata": {},
   "outputs": [],
   "source": [
    "latency_1 = parse_seq(\"resource_stimulus\", exp_rs, \"latency.csv\")\n",
    "len(latency_1)"
   ]
  },
  {
   "cell_type": "code",
   "execution_count": 10,
   "id": "b3de3fef",
   "metadata": {},
   "outputs": [],
   "source": [
    "tx_stats_1 = parse_seq(\"resource_stimulus\", exp_rs, \"tx_stats.csv\")\n",
    "len(tx_stats_1)"
   ]
  },
  {
   "cell_type": "code",
   "execution_count": 11,
   "id": "2c67471b",
   "metadata": {},
   "outputs": [],
   "source": [
    "tx_stats = parse_seq(\"load_stimulus\", exp_ls, \"tx_stats.csv\")\n",
    "len(tx_stats)"
   ]
  },
  {
   "cell_type": "code",
   "execution_count": 12,
   "id": "95fe69b7",
   "metadata": {},
   "outputs": [],
   "source": [
    "rx_stats = parse_seq(\"load_stimulus\", exp_ls, \"rx_stats.csv\")\n",
    "len(rx_stats)"
   ]
  },
  {
   "cell_type": "code",
   "execution_count": 13,
   "id": "2069d7f7",
   "metadata": {},
   "outputs": [],
   "source": [
    "firewall_instructions = parse_reg(\"load_stimulus\", exp_ls, \"firewall.csv\", \"instructions\", 1)\n",
    "len(firewall_instructions)"
   ]
  },
  {
   "cell_type": "code",
   "execution_count": 14,
   "id": "486f96ae",
   "metadata": {},
   "outputs": [],
   "source": [
    "features = [\"instructions\", \"branches,\", \"branch-misses,\", \"branch-load-misses,\", \"cache-misses\", \\\n",
    "            \"cache-references\", \",cycles,\", \"L1-dcache-load-misses\", \"L1-dcache-loads\", \"LLC-load-misses\", \\\n",
    "            \"LLC-stores\", \"LLC-loads\",]"
   ]
  },
  {
   "cell_type": "code",
   "execution_count": 15,
   "id": "c085a1b5",
   "metadata": {},
   "outputs": [],
   "source": [
    "def make_df():\n",
    "    tmp = []\n",
    "    dic = dict()\n",
    "    \n",
    "    tx_stats = parse_seq(\"load_stimulus\", exp_ls, \"tx_stats.csv\")\n",
    "    rx_stats = parse_seq(\"load_stimulus\", exp_ls, \"rx_stats.csv\")\n",
    "    \n",
    "    latency = parse_seq(\"load_stimulus\", exp_ls, \"latency.csv\")\n",
    "    #normalized_latency = []\n",
    "    #for i in range(0, len(latency)):\n",
    "        #if i % 2:\n",
    "            #normalized_latency.append(latency[i])\n",
    "    \n",
    "    seq_length = min([len(parse_reg(\"load_stimulus\", exp_ls, \"firewall.csv\", \"instructions\", 1)), \\\n",
    "                          len(tx_stats), \\\n",
    "                          len(rx_stats), \\\n",
    "                          len(latency)])\n",
    "    dic[\"input_rate\"] = tx_stats[:seq_length]\n",
    "    dic[\"output_rate\"] = rx_stats[:seq_length]\n",
    "    dic[\"latency\"] = latency[:seq_length]\n",
    "    \n",
    "    for f in features:\n",
    "        for v in vnfs:\n",
    "            tmp = parse_reg(\"load_stimulus\", exp_ls, v, f, 1)\n",
    "            \n",
    "            dic[v.split(\".\")[0]+\"_\"+f.replace(\",\",\"\")] = tmp[:seq_length]\n",
    "            \n",
    "    return pd.DataFrame(dic)"
   ]
  },
  {
   "cell_type": "code",
   "execution_count": 16,
   "id": "efeb9943",
   "metadata": {},
   "outputs": [],
   "source": [
    "df = make_df()"
   ]
  },
  {
   "cell_type": "code",
   "execution_count": 17,
   "id": "fdfe9289",
   "metadata": {},
   "outputs": [],
   "source": [
    "df[[\"firewall_cycles\",\"nf_router_cycles\",\"ndpi_stats_cycles\",\"payload_scan_cycles\",\"bridge_cycles\"]].plot()"
   ]
  },
  {
   "cell_type": "code",
   "execution_count": 18,
   "id": "1333a439",
   "metadata": {},
   "outputs": [],
   "source": [
    "df.to_csv(\"load_stimulus_\"+ exp_ls +\".csv\", sep=',')"
   ]
  },
  {
   "cell_type": "code",
   "execution_count": 19,
   "id": "d23d87a1",
   "metadata": {},
   "outputs": [],
   "source": [
    "df.to_csv(\"resource_stimulus_\"+ exp_rs +\".csv\", sep=',')"
   ]
  },
  {
   "cell_type": "code",
   "execution_count": null,
   "id": "629b4fa7",
   "metadata": {},
   "outputs": [],
   "source": []
  }
 ],
 "metadata": {
  "kernelspec": {
   "display_name": "Python 3 (ipykernel)",
   "language": "python",
   "name": "python3"
  },
  "language_info": {
   "codemirror_mode": {
    "name": "ipython",
    "version": 3
   },
   "file_extension": ".py",
   "mimetype": "text/x-python",
   "name": "python",
   "nbconvert_exporter": "python",
   "pygments_lexer": "ipython3",
   "version": "3.11.0"
  }
 },
 "nbformat": 4,
 "nbformat_minor": 5
}
