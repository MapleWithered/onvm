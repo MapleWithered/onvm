{
 "cells": [
  {
   "cell_type": "code",
   "execution_count": 1,
   "id": "a9e3a85b",
   "metadata": {},
   "outputs": [],
   "source": [
    "import pandas as pd\n",
    "import numpy as np\n",
    "import matplotlib.pyplot as plt\n",
    "import sys, re, os\n",
    "\n",
    "from sklearn.model_selection import train_test_split\n",
    "from sklearn.tree import DecisionTreeClassifier\n",
    "from sklearn.metrics import accuracy_score, classification_report\n",
    "from sklearn.tree import plot_tree\n",
    "from sklearn.tree import DecisionTreeRegressor\n",
    "from sklearn.metrics import mean_squared_error, r2_score\n",
    "from sklearn.linear_model import LinearRegression\n",
    "from sklearn.tree import DecisionTreeRegressor\n",
    "from sklearn.metrics import mean_absolute_percentage_error\n",
    "from sklearn.utils import shuffle\n",
    "from sklearn.preprocessing import StandardScaler\n",
    "from tensorflow.keras.models import Sequential\n",
    "from tensorflow.keras.layers import Dense\n",
    "from tensorflow.keras.optimizers import Adam\n",
    "from sklearn.ensemble import RandomForestRegressor"
   ]
  },
  {
   "cell_type": "code",
   "execution_count": 2,
   "id": "c70365ff",
   "metadata": {},
   "outputs": [],
   "source": [
    "%matplotlib inline\n",
    "\n",
    "plt.rc('font', family='serif')\n",
    "plt.rcParams.update({'font.size': 11})\n",
    "\n",
    "plt.rcParams['figure.dpi'] = 200\n",
    "plt.rcParams['savefig.dpi'] = 300"
   ]
  },
  {
   "cell_type": "code",
   "execution_count": 3,
   "id": "bc973dae",
   "metadata": {},
   "outputs": [],
   "source": [
    "# Change the work directory to the parent\n",
    "try:\n",
    "    if chdir:\n",
    "        pass\n",
    "except:\n",
    "    current_dir = os.getcwd()\n",
    "    os.chdir(current_dir +\"/..\")\n",
    "    os.path.abspath(os.curdir)"
   ]
  },
  {
   "cell_type": "code",
   "execution_count": 4,
   "id": "4530909a",
   "metadata": {},
   "outputs": [],
   "source": [
    "chdir = True"
   ]
  },
  {
   "cell_type": "code",
   "execution_count": 5,
   "id": "764ccf63",
   "metadata": {},
   "outputs": [],
   "source": [
    "import itertools\n",
    "marker = itertools.cycle(('x',',', '+', '.', 'o', '*'))\n",
    "cycol = itertools.cycle('bgrcmk')"
   ]
  },
  {
   "cell_type": "markdown",
   "id": "f47499f9",
   "metadata": {},
   "source": [
    "# Service chain configuration"
   ]
  },
  {
   "cell_type": "code",
   "execution_count": 6,
   "id": "356dcfe0",
   "metadata": {},
   "outputs": [
    {
     "data": {
      "text/html": [
       "\n",
       "        <iframe\n",
       "            width=\"900\"\n",
       "            height=\"600\"\n",
       "            src=\"../assets/testbed.png\"\n",
       "            frameborder=\"0\"\n",
       "            allowfullscreen\n",
       "            \n",
       "        ></iframe>\n",
       "        "
      ],
      "text/plain": [
       "<IPython.lib.display.IFrame at 0x21787e1b010>"
      ]
     },
     "execution_count": 6,
     "metadata": {},
     "output_type": "execute_result"
    }
   ],
   "source": [
    "from IPython.display import IFrame\n",
    "IFrame(\"../assets/testbed.png\", width=900, height=600)"
   ]
  },
  {
   "cell_type": "markdown",
   "id": "a71a542e",
   "metadata": {},
   "source": [
    "# load stimulus"
   ]
  },
  {
   "cell_type": "code",
   "execution_count": 16,
   "id": "2878ef2b",
   "metadata": {
    "scrolled": true
   },
   "outputs": [
    {
     "name": "stdout",
     "output_type": "stream",
     "text": [
      "<class 'pandas.core.frame.DataFrame'>\n",
      "Int64Index: 1662 entries, 0 to 207\n",
      "Data columns (total 63 columns):\n",
      " #   Column                              Non-Null Count  Dtype  \n",
      "---  ------                              --------------  -----  \n",
      " 0   input_rate                          1662 non-null   float64\n",
      " 1   output_rate                         1662 non-null   float64\n",
      " 2   latency                             1662 non-null   float64\n",
      " 3   flow_tracker_instructions           1662 non-null   float64\n",
      " 4   nf_router_instructions              1662 non-null   float64\n",
      " 5   ndpi_stats_instructions             1662 non-null   float64\n",
      " 6   payload_scan_instructions           1662 non-null   float64\n",
      " 7   bridge_instructions                 1662 non-null   float64\n",
      " 8   flow_tracker_branches               1662 non-null   float64\n",
      " 9   nf_router_branches                  1662 non-null   float64\n",
      " 10  ndpi_stats_branches                 1662 non-null   float64\n",
      " 11  payload_scan_branches               1662 non-null   float64\n",
      " 12  bridge_branches                     1662 non-null   float64\n",
      " 13  flow_tracker_branch-misses          1662 non-null   float64\n",
      " 14  nf_router_branch-misses             1662 non-null   float64\n",
      " 15  ndpi_stats_branch-misses            1662 non-null   float64\n",
      " 16  payload_scan_branch-misses          1662 non-null   float64\n",
      " 17  bridge_branch-misses                1662 non-null   float64\n",
      " 18  flow_tracker_branch-load-misses     1662 non-null   float64\n",
      " 19  nf_router_branch-load-misses        1662 non-null   float64\n",
      " 20  ndpi_stats_branch-load-misses       1662 non-null   float64\n",
      " 21  payload_scan_branch-load-misses     1662 non-null   float64\n",
      " 22  bridge_branch-load-misses           1662 non-null   float64\n",
      " 23  flow_tracker_cache-misses           1662 non-null   float64\n",
      " 24  nf_router_cache-misses              1662 non-null   float64\n",
      " 25  ndpi_stats_cache-misses             1662 non-null   float64\n",
      " 26  payload_scan_cache-misses           1662 non-null   float64\n",
      " 27  bridge_cache-misses                 1662 non-null   float64\n",
      " 28  flow_tracker_cache-references       1662 non-null   float64\n",
      " 29  nf_router_cache-references          1662 non-null   float64\n",
      " 30  ndpi_stats_cache-references         1662 non-null   float64\n",
      " 31  payload_scan_cache-references       1662 non-null   float64\n",
      " 32  bridge_cache-references             1662 non-null   float64\n",
      " 33  flow_tracker_cycles                 1662 non-null   float64\n",
      " 34  nf_router_cycles                    1662 non-null   float64\n",
      " 35  ndpi_stats_cycles                   1662 non-null   float64\n",
      " 36  payload_scan_cycles                 1662 non-null   float64\n",
      " 37  bridge_cycles                       1662 non-null   float64\n",
      " 38  flow_tracker_L1-dcache-load-misses  1662 non-null   float64\n",
      " 39  nf_router_L1-dcache-load-misses     1662 non-null   float64\n",
      " 40  ndpi_stats_L1-dcache-load-misses    1662 non-null   float64\n",
      " 41  payload_scan_L1-dcache-load-misses  1662 non-null   float64\n",
      " 42  bridge_L1-dcache-load-misses        1662 non-null   float64\n",
      " 43  flow_tracker_L1-dcache-loads        1662 non-null   float64\n",
      " 44  nf_router_L1-dcache-loads           1662 non-null   float64\n",
      " 45  ndpi_stats_L1-dcache-loads          1662 non-null   float64\n",
      " 46  payload_scan_L1-dcache-loads        1662 non-null   float64\n",
      " 47  bridge_L1-dcache-loads              1662 non-null   float64\n",
      " 48  flow_tracker_LLC-load-misses        1662 non-null   float64\n",
      " 49  nf_router_LLC-load-misses           1662 non-null   float64\n",
      " 50  ndpi_stats_LLC-load-misses          1662 non-null   float64\n",
      " 51  payload_scan_LLC-load-misses        1662 non-null   float64\n",
      " 52  bridge_LLC-load-misses              1662 non-null   float64\n",
      " 53  flow_tracker_LLC-stores             1662 non-null   float64\n",
      " 54  nf_router_LLC-stores                1662 non-null   float64\n",
      " 55  ndpi_stats_LLC-stores               1662 non-null   float64\n",
      " 56  payload_scan_LLC-stores             1662 non-null   float64\n",
      " 57  bridge_LLC-stores                   1662 non-null   float64\n",
      " 58  flow_tracker_LLC-loads              1662 non-null   float64\n",
      " 59  nf_router_LLC-loads                 1662 non-null   float64\n",
      " 60  ndpi_stats_LLC-loads                1662 non-null   float64\n",
      " 61  payload_scan_LLC-loads              1662 non-null   float64\n",
      " 62  bridge_LLC-loads                    1662 non-null   float64\n",
      "dtypes: float64(63)\n",
      "memory usage: 831.0 KB\n"
     ]
    }
   ],
   "source": [
    "current_dir = os.getcwd()\n",
    "#file_path = os.path.abspath('../linear/datasets/load_stimulus_global.csv')\n",
    "file_path = os.path.abspath('../Dag/dag-2/datasets/load_stimulus_global.csv')\n",
    "#file_path = os.path.abspath('../linear/datasets/random_rates_exp-1.csv')\n",
    "data = pd.read_csv(file_path, index_col=0)\n",
    "data = data.replace(['<not counted>'], np.nan)\n",
    "#data = data.drop('latency', axis=1)\n",
    "df = data.dropna()\n",
    "df.info()"
   ]
  },
  {
   "cell_type": "markdown",
   "id": "26b653e4",
   "metadata": {},
   "source": [
    "# DNN to predict rate (training set: global)"
   ]
  },
  {
   "cell_type": "code",
   "execution_count": 24,
   "id": "191f6304",
   "metadata": {},
   "outputs": [],
   "source": [
    "current_dir = os.getcwd()\n",
    "\n",
    "#file_path = os.path.abspath('../linear/datasets/load_stimulus_global.csv')\n",
    "file_path = os.path.abspath('../Dag/dag-2/datasets/load_stimulus_global.csv')\n",
    "#file_path = os.path.abspath('../Dag/dag-1/datasets/load_stimulus_global.csv')\n",
    "data = pd.read_csv(file_path, index_col=0)\n",
    "data = data.replace(['<not counted>'], np.nan)\n",
    "df = data.dropna()"
   ]
  },
  {
   "cell_type": "code",
   "execution_count": 25,
   "id": "21d95fc6",
   "metadata": {},
   "outputs": [],
   "source": [
    "# data set\n",
    "# load_stimulus_global.csv: exp1_exp10\n",
    "# load_stimulus_global_1.csv:exp1_exp10+fixed_5000+fixed_7500\n",
    "# load_stimulus_global_2.csv:exp1_exp10+fixed_5000+fixed_7500+random\n",
    "# load_stimulus_global_3.csv:exp1_exp10+random\n",
    "#load_stimulus_global_4.csv:exp1_exp10+stage_random\n",
    "# performance: global>3>2>1"
   ]
  },
  {
   "cell_type": "code",
   "execution_count": 26,
   "id": "23ce8ef9",
   "metadata": {},
   "outputs": [
    {
     "name": "stdout",
     "output_type": "stream",
     "text": [
      "1662\n"
     ]
    }
   ],
   "source": [
    "# training \n",
    "X = df.drop(['input_rate','output_rate', 'latency'], axis=1)\n",
    "X = df.drop(['input_rate','output_rate', 'latency','payload_scan_cycles','ndpi_stats_branch-load-misses',\n",
    "             'nf_router_cycles','bridge_cycles','payload_scan_LLC-load-misses','payload_scan_LLC-load-misses','bridge_LLC-load-misses',\n",
    "             'bridge_cache-misses','bridge_cache-misses','nf_router_cache-misses','nf_router_LLC-load-misses',\n",
    "             'ndpi_stats_LLC-load-misses','nf_router_branch-load-misses','nf_router_branch-misses','payload_scan_branch-load-misses',\n",
    "             'payload_scan_branch-misses','bridge_branch-misses','ndpi_stats_branch-load-misses','ndpi_stats_cache-misses'], axis=1)\n",
    "\n",
    "y = df['latency']\n",
    "\n",
    "X_train, X_test, y_train, y_test = train_test_split(X, y, test_size=0.3, random_state=0)\n",
    "\n",
    "column_order = X_train.columns\n",
    "X_test = X_test[column_order]\n",
    "\n",
    "\n",
    "# Standardize the features\n",
    "scaler = StandardScaler()\n",
    "X_train = scaler.fit_transform(X_train)\n",
    "X_test = scaler.transform(X_test)\n",
    "print(len(y))"
   ]
  },
  {
   "cell_type": "code",
   "execution_count": 27,
   "id": "cd3fdc82",
   "metadata": {},
   "outputs": [],
   "source": [
    "# model\n",
    "model = Sequential()\n",
    "\n",
    "# Add input layer and hidden layers\n",
    "model.add(Dense(64, activation='relu', input_shape=(X_train.shape[1],)))\n",
    "model.add(Dense(32, activation='relu'))\n",
    "\n",
    "# Add output layer\n",
    "model.add(Dense(1))"
   ]
  },
  {
   "cell_type": "code",
   "execution_count": 28,
   "id": "6e045fe4",
   "metadata": {
    "scrolled": false
   },
   "outputs": [
    {
     "name": "stdout",
     "output_type": "stream",
     "text": [
      "Epoch 1/100\n",
      "146/146 [==============================] - 1s 3ms/step - loss: 8020.8394\n",
      "Epoch 2/100\n",
      "146/146 [==============================] - 0s 3ms/step - loss: 7768.3896\n",
      "Epoch 3/100\n",
      "146/146 [==============================] - 0s 3ms/step - loss: 7662.5557\n",
      "Epoch 4/100\n",
      "146/146 [==============================] - 0s 3ms/step - loss: 7570.0586\n",
      "Epoch 5/100\n",
      "146/146 [==============================] - 1s 4ms/step - loss: 7714.0146\n",
      "Epoch 6/100\n",
      "146/146 [==============================] - 0s 3ms/step - loss: 7523.1958\n",
      "Epoch 7/100\n",
      "146/146 [==============================] - 0s 3ms/step - loss: 7567.5312\n",
      "Epoch 8/100\n",
      "146/146 [==============================] - 0s 3ms/step - loss: 7557.8115\n",
      "Epoch 9/100\n",
      "146/146 [==============================] - 1s 4ms/step - loss: 7433.6836\n",
      "Epoch 10/100\n",
      "146/146 [==============================] - 0s 3ms/step - loss: 7305.7979\n",
      "Epoch 11/100\n",
      "146/146 [==============================] - 0s 3ms/step - loss: 7445.1245\n",
      "Epoch 12/100\n",
      "146/146 [==============================] - 0s 3ms/step - loss: 7541.6826\n",
      "Epoch 13/100\n",
      "146/146 [==============================] - 1s 3ms/step - loss: 7349.0474\n",
      "Epoch 14/100\n",
      "146/146 [==============================] - 0s 3ms/step - loss: 7265.6812\n",
      "Epoch 15/100\n",
      "146/146 [==============================] - 0s 3ms/step - loss: 7386.9458\n",
      "Epoch 16/100\n",
      "146/146 [==============================] - 0s 3ms/step - loss: 7291.8340\n",
      "Epoch 17/100\n",
      "146/146 [==============================] - 0s 3ms/step - loss: 7123.2778\n",
      "Epoch 18/100\n",
      "146/146 [==============================] - 0s 3ms/step - loss: 7170.7178\n",
      "Epoch 19/100\n",
      "146/146 [==============================] - 0s 3ms/step - loss: 7251.7832\n",
      "Epoch 20/100\n",
      "146/146 [==============================] - 0s 3ms/step - loss: 7184.5356\n",
      "Epoch 21/100\n",
      "146/146 [==============================] - 0s 3ms/step - loss: 7260.4927\n",
      "Epoch 22/100\n",
      "146/146 [==============================] - 0s 3ms/step - loss: 7042.3027\n",
      "Epoch 23/100\n",
      "146/146 [==============================] - 0s 3ms/step - loss: 7092.6934\n",
      "Epoch 24/100\n",
      "146/146 [==============================] - 0s 3ms/step - loss: 7056.2427\n",
      "Epoch 25/100\n",
      "146/146 [==============================] - 0s 3ms/step - loss: 7081.4873\n",
      "Epoch 26/100\n",
      "146/146 [==============================] - 0s 3ms/step - loss: 7083.0391\n",
      "Epoch 27/100\n",
      "146/146 [==============================] - 0s 3ms/step - loss: 7000.9419\n",
      "Epoch 28/100\n",
      "146/146 [==============================] - 0s 3ms/step - loss: 7097.8765\n",
      "Epoch 29/100\n",
      "146/146 [==============================] - 1s 3ms/step - loss: 7028.8545\n",
      "Epoch 30/100\n",
      "146/146 [==============================] - 0s 3ms/step - loss: 6977.6343\n",
      "Epoch 31/100\n",
      "146/146 [==============================] - 0s 3ms/step - loss: 6871.9971\n",
      "Epoch 32/100\n",
      "146/146 [==============================] - 0s 3ms/step - loss: 7016.0752\n",
      "Epoch 33/100\n",
      "146/146 [==============================] - 0s 3ms/step - loss: 6913.8979\n",
      "Epoch 34/100\n",
      "146/146 [==============================] - 1s 4ms/step - loss: 6634.1235\n",
      "Epoch 35/100\n",
      "146/146 [==============================] - 1s 4ms/step - loss: 6801.8213\n",
      "Epoch 36/100\n",
      "146/146 [==============================] - 1s 4ms/step - loss: 6498.1401\n",
      "Epoch 37/100\n",
      "146/146 [==============================] - 0s 3ms/step - loss: 6580.7104\n",
      "Epoch 38/100\n",
      "146/146 [==============================] - 1s 3ms/step - loss: 6670.6582\n",
      "Epoch 39/100\n",
      "146/146 [==============================] - 0s 3ms/step - loss: 6543.9180\n",
      "Epoch 40/100\n",
      "146/146 [==============================] - 0s 3ms/step - loss: 6540.2402\n",
      "Epoch 41/100\n",
      "146/146 [==============================] - 1s 4ms/step - loss: 6639.9585\n",
      "Epoch 42/100\n",
      "146/146 [==============================] - 1s 4ms/step - loss: 6491.6602\n",
      "Epoch 43/100\n",
      "146/146 [==============================] - 1s 4ms/step - loss: 6344.8887\n",
      "Epoch 44/100\n",
      "146/146 [==============================] - 0s 3ms/step - loss: 6638.1714\n",
      "Epoch 45/100\n",
      "146/146 [==============================] - 1s 4ms/step - loss: 6405.0425\n",
      "Epoch 46/100\n",
      "146/146 [==============================] - 1s 4ms/step - loss: 6468.5483\n",
      "Epoch 47/100\n",
      "146/146 [==============================] - 0s 2ms/step - loss: 6341.9639\n",
      "Epoch 48/100\n",
      "146/146 [==============================] - 0s 2ms/step - loss: 6085.5918\n",
      "Epoch 49/100\n",
      "146/146 [==============================] - 0s 2ms/step - loss: 6275.0508\n",
      "Epoch 50/100\n",
      "146/146 [==============================] - 0s 3ms/step - loss: 6142.0737\n",
      "Epoch 51/100\n",
      "146/146 [==============================] - 0s 2ms/step - loss: 6096.5449\n",
      "Epoch 52/100\n",
      "146/146 [==============================] - 0s 3ms/step - loss: 5995.0723\n",
      "Epoch 53/100\n",
      "146/146 [==============================] - 0s 3ms/step - loss: 6048.4658\n",
      "Epoch 54/100\n",
      "146/146 [==============================] - 0s 2ms/step - loss: 6145.2788\n",
      "Epoch 55/100\n",
      "146/146 [==============================] - 0s 2ms/step - loss: 6495.7622\n",
      "Epoch 56/100\n",
      "146/146 [==============================] - 0s 3ms/step - loss: 6303.8359\n",
      "Epoch 57/100\n",
      "146/146 [==============================] - 0s 2ms/step - loss: 5929.8896\n",
      "Epoch 58/100\n",
      "146/146 [==============================] - 0s 1ms/step - loss: 5978.4854\n",
      "Epoch 59/100\n",
      "146/146 [==============================] - 0s 3ms/step - loss: 6023.3525\n",
      "Epoch 60/100\n",
      "146/146 [==============================] - 0s 2ms/step - loss: 6528.4585\n",
      "Epoch 61/100\n",
      "146/146 [==============================] - 0s 2ms/step - loss: 5829.8628\n",
      "Epoch 62/100\n",
      "146/146 [==============================] - 0s 3ms/step - loss: 6529.8359\n",
      "Epoch 63/100\n",
      "146/146 [==============================] - 1s 3ms/step - loss: 5862.5425\n",
      "Epoch 64/100\n",
      "146/146 [==============================] - 0s 2ms/step - loss: 6137.1221\n",
      "Epoch 65/100\n",
      "146/146 [==============================] - 0s 3ms/step - loss: 6025.4229\n",
      "Epoch 66/100\n",
      "146/146 [==============================] - 0s 2ms/step - loss: 5950.1475\n",
      "Epoch 67/100\n",
      "146/146 [==============================] - 0s 3ms/step - loss: 6105.3223\n",
      "Epoch 68/100\n",
      "146/146 [==============================] - 0s 2ms/step - loss: 5886.6636\n",
      "Epoch 69/100\n",
      "146/146 [==============================] - 0s 2ms/step - loss: 5899.9839\n",
      "Epoch 70/100\n",
      "146/146 [==============================] - 1s 3ms/step - loss: 6019.9976\n",
      "Epoch 71/100\n",
      "146/146 [==============================] - 0s 3ms/step - loss: 5872.5293\n",
      "Epoch 72/100\n",
      "146/146 [==============================] - 0s 3ms/step - loss: 5695.5679\n",
      "Epoch 73/100\n",
      "146/146 [==============================] - 0s 3ms/step - loss: 6347.2344\n",
      "Epoch 74/100\n",
      "146/146 [==============================] - 1s 3ms/step - loss: 6449.7471\n",
      "Epoch 75/100\n",
      "146/146 [==============================] - 0s 3ms/step - loss: 5940.9839\n",
      "Epoch 76/100\n",
      "146/146 [==============================] - 0s 2ms/step - loss: 6099.6191\n",
      "Epoch 77/100\n",
      "146/146 [==============================] - 0s 3ms/step - loss: 5840.4800\n",
      "Epoch 78/100\n",
      "146/146 [==============================] - 0s 3ms/step - loss: 5886.1714\n",
      "Epoch 79/100\n",
      "146/146 [==============================] - 0s 3ms/step - loss: 5790.6543\n",
      "Epoch 80/100\n",
      "146/146 [==============================] - 0s 3ms/step - loss: 5716.2827\n",
      "Epoch 81/100\n",
      "146/146 [==============================] - 0s 3ms/step - loss: 5623.4863\n",
      "Epoch 82/100\n",
      "146/146 [==============================] - 0s 2ms/step - loss: 5759.8892\n",
      "Epoch 83/100\n",
      "146/146 [==============================] - 0s 2ms/step - loss: 6065.4165\n",
      "Epoch 84/100\n",
      "146/146 [==============================] - 1s 3ms/step - loss: 5713.4351\n",
      "Epoch 85/100\n",
      "146/146 [==============================] - 0s 3ms/step - loss: 5921.8223\n",
      "Epoch 86/100\n",
      "146/146 [==============================] - 0s 3ms/step - loss: 5523.9473\n",
      "Epoch 87/100\n",
      "146/146 [==============================] - 0s 3ms/step - loss: 5541.8179\n",
      "Epoch 88/100\n",
      "146/146 [==============================] - 0s 3ms/step - loss: 5390.0806\n",
      "Epoch 89/100\n",
      "146/146 [==============================] - 0s 3ms/step - loss: 5868.6665\n",
      "Epoch 90/100\n",
      "146/146 [==============================] - 0s 3ms/step - loss: 5666.1885\n",
      "Epoch 91/100\n",
      "146/146 [==============================] - 0s 3ms/step - loss: 5546.8652\n",
      "Epoch 92/100\n",
      "146/146 [==============================] - 0s 3ms/step - loss: 5722.7949\n",
      "Epoch 93/100\n",
      "146/146 [==============================] - 0s 3ms/step - loss: 5449.7300\n",
      "Epoch 94/100\n",
      "146/146 [==============================] - 0s 3ms/step - loss: 5516.5615\n",
      "Epoch 95/100\n",
      "146/146 [==============================] - 0s 3ms/step - loss: 5837.0303\n",
      "Epoch 96/100\n"
     ]
    },
    {
     "name": "stdout",
     "output_type": "stream",
     "text": [
      "146/146 [==============================] - 0s 3ms/step - loss: 5407.7168\n",
      "Epoch 97/100\n",
      "146/146 [==============================] - 0s 3ms/step - loss: 5585.2178\n",
      "Epoch 98/100\n",
      "146/146 [==============================] - 0s 3ms/step - loss: 5889.2256\n",
      "Epoch 99/100\n",
      "146/146 [==============================] - 0s 3ms/step - loss: 5620.0889\n",
      "Epoch 100/100\n",
      "146/146 [==============================] - 0s 3ms/step - loss: 5369.6738\n"
     ]
    },
    {
     "data": {
      "text/plain": [
       "<keras.callbacks.History at 0x217d7b02590>"
      ]
     },
     "execution_count": 28,
     "metadata": {},
     "output_type": "execute_result"
    }
   ],
   "source": [
    "# Compile the model\n",
    "model.compile(optimizer=Adam(learning_rate=0.01), loss='mean_squared_error')\n",
    "model.fit(X_train, y_train, batch_size=8, epochs=100, verbose=1)"
   ]
  },
  {
   "cell_type": "code",
   "execution_count": 29,
   "id": "c99297b5",
   "metadata": {
    "scrolled": false
   },
   "outputs": [
    {
     "name": "stdout",
     "output_type": "stream",
     "text": [
      "16/16 [==============================] - 0s 3ms/step\n",
      "R-squared: -0.13954764712661327\n",
      "[0.0, 9.619238476953909, 21.8436873747495, 31.863727454909817, 41.48296593186373, 49.09819639278557, 55.11022044088176, 60.72144288577155, 64.92985971943888, 69.13827655310621, 72.94589178356713]\n"
     ]
    },
    {
     "data": {
      "image/png": "[encoded data removed]",
      "text/plain": [
       "<Figure size 320x240 with 1 Axes>"
      ]
     },
     "metadata": {},
     "output_type": "display_data"
    }
   ],
   "source": [
    "# Make predictions on the test set\n",
    "import matplotlib.ticker as mticker\n",
    "\n",
    "y_pred = model.predict(X_test)\n",
    "mse = mean_squared_error(y_test, y_pred)\n",
    "r2 = r2_score(y_test, y_pred)\n",
    "print(\"R-squared:\", r2)\n",
    "# accuracy\n",
    "threshold = 0.05  \n",
    "y_pred=np.array(y_pred)\n",
    "y_pred = [item for subset in y_pred for item in subset]\n",
    "y_test=np.array(y_test)\n",
    "distances = [abs(real - pred) / real for real, pred in zip(y_test, y_pred)]\n",
    "accuracy_within_threshold = sum(dist <= threshold for dist in distances) / len(distances) * 100\n",
    "accuracy_cdf=[]\n",
    "# plot cdf of accurancy\n",
    "for threshold in range(11):\n",
    "    threshold = threshold/10\n",
    "    distances = [abs(real - pred) / real for real, pred in zip(y_test, y_pred)]\n",
    "    accuracy_within_threshold = sum(dist <= threshold for dist in distances) / len(distances) * 100\n",
    "    accuracy_cdf.append(accuracy_within_threshold)\n",
    "print(accuracy_cdf)\n",
    "\n",
    "# plot\n",
    "\n",
    "fig, ax = plt.subplots(facecolor='white', figsize=(4,3))\n",
    "#ax.set_facecolor('white')\n",
    "plt.style.use('classic')\n",
    "\n",
    "plt.plot(y_pred[0:100], marker='o',c='r',markersize = 2, linewidth = 0.8, linestyle='-', markeredgecolor='red', dashes=(5, 3),label='Prediction')\n",
    "plt.plot(y_test.tolist()[0:100], c='b',linestyle='-',linewidth = 0.8,label='Real')\n",
    "\n",
    "\n",
    "plt.legend(loc=\"upper right\", fontsize=10)\n",
    "fig.text(0.5, 0.01, 'Series', size='12', ha='center')\n",
    "fig.text(0.01, 0.5, 'Values', size='12', va='center', rotation='vertical')\n",
    "plt.subplots_adjust(left=0.12, right=0.9, bottom=0.15, top=0.9, wspace=0.3, hspace=0.4)\n",
    "#plt.grid()\n",
    "ax.set_facecolor('white')\n",
    "\n",
    "# Set y-axis tick format\n",
    "formatter = mticker.FuncFormatter(lambda x, pos: f\"{int(x/1000)}\")\n",
    "ax.yaxis.set_major_formatter(formatter)\n",
    "# Set text in the upper left corner of the figure\n",
    "fig.text(0.12, 0.98, '1e3', size='12', ha='left', va='top')\n",
    "\n",
    "\n",
    "\n",
    "plt.show()"
   ]
  },
  {
   "cell_type": "code",
   "execution_count": 23,
   "id": "8b5f388f",
   "metadata": {},
   "outputs": [
    {
     "name": "stdout",
     "output_type": "stream",
     "text": [
      "R-squared: -0.3071133224928637\n"
     ]
    }
   ],
   "source": [
    "r2 = r2_score(y_test, y_pred)\n",
    "print(\"R-squared:\", r2)"
   ]
  },
  {
   "cell_type": "markdown",
   "id": "e9297bac",
   "metadata": {},
   "source": [
    "# resource stimulus"
   ]
  },
  {
   "cell_type": "code",
   "execution_count": 101,
   "id": "9e8d8a61",
   "metadata": {},
   "outputs": [],
   "source": [
    "current_dir = os.getcwd()\n",
    "file_path = os.path.abspath('../linear/datasets/resource_stimulus_global_A-B-C.csv')\n",
    "\n",
    "data = pd.read_csv(file_path, index_col=0)\n",
    "data = data.replace(['<not counted>'], np.nan)\n",
    "df = data.dropna()"
   ]
  },
  {
   "cell_type": "code",
   "execution_count": 102,
   "id": "4d56396e",
   "metadata": {},
   "outputs": [
    {
     "name": "stdout",
     "output_type": "stream",
     "text": [
      "2239\n"
     ]
    }
   ],
   "source": [
    "# training \n",
    "X = df.drop(['input_rate', 'latency', 'nf_router_LLC-load-misses','nf_router_cache-misses',\\\n",
    "             'firewall_LLC-load-misses','ndpi_stats_cache-misses','ndpi_stats_LLC-load-misses','bridge_cache-misses',\\\n",
    "             'bridge_instructions','bridge_branches','firewall_instructions' ], axis=1)\n",
    "#X=df.drop(['input_rate', 'latency'], axis=1)\n",
    "y = df['latency']\n",
    "\n",
    "X_train, X_test, y_train, y_test = train_test_split(X, y, test_size=0.3, random_state=0)\n",
    "\n",
    "column_order = X_train.columns\n",
    "X_test = X_test[column_order]\n",
    "\n",
    "\n",
    "# Standardize the features\n",
    "scaler = StandardScaler()\n",
    "X_train = scaler.fit_transform(X_train)\n",
    "X_test = scaler.transform(X_test)\n",
    "print(len(y))"
   ]
  },
  {
   "cell_type": "code",
   "execution_count": 103,
   "id": "7626d84e",
   "metadata": {},
   "outputs": [],
   "source": [
    "# model\n",
    "model = Sequential()\n",
    "\n",
    "# Add input layer and hidden layers\n",
    "model.add(Dense(32, activation='sigmoid', input_shape=(X_train.shape[1],)))\n",
    "model.add(Dense(16, activation='relu'))\n",
    "\n",
    "# Add output layer, force prediction larger than zero\n",
    "model.add(Dense(1,activation = 'softplus'))"
   ]
  },
  {
   "cell_type": "code",
   "execution_count": 104,
   "id": "bc95af79",
   "metadata": {},
   "outputs": [],
   "source": [
    "import keras\n",
    "from keras.callbacks import LearningRateScheduler\n",
    "# learning rate regular\n",
    "def lr_schedule(epoch):\n",
    "    if epoch < 10:\n",
    "        return 0.01\n",
    "    elif epoch < 20:\n",
    "        return 0.001\n",
    "    else:\n",
    "        return 0.0001\n",
    "lr_scheduler = LearningRateScheduler(lr_schedule)"
   ]
  },
  {
   "cell_type": "code",
   "execution_count": 105,
   "id": "8353d7eb",
   "metadata": {
    "scrolled": false
   },
   "outputs": [
    {
     "name": "stdout",
     "output_type": "stream",
     "text": [
      "Epoch 1/100\n",
      "196/196 [==============================] - 1s 3ms/step - loss: 53259108.0000\n",
      "Epoch 2/100\n",
      "196/196 [==============================] - 1s 3ms/step - loss: 40088824.0000\n",
      "Epoch 3/100\n",
      "196/196 [==============================] - 1s 3ms/step - loss: 27875826.0000\n",
      "Epoch 4/100\n",
      "196/196 [==============================] - 1s 3ms/step - loss: 23728784.0000\n",
      "Epoch 5/100\n",
      "196/196 [==============================] - 1s 3ms/step - loss: 22879420.0000\n",
      "Epoch 6/100\n",
      "196/196 [==============================] - 1s 3ms/step - loss: 22790568.0000\n",
      "Epoch 7/100\n",
      "196/196 [==============================] - 1s 4ms/step - loss: 22654294.0000\n",
      "Epoch 8/100\n",
      "196/196 [==============================] - 1s 4ms/step - loss: 22605712.0000\n",
      "Epoch 9/100\n",
      "196/196 [==============================] - 1s 3ms/step - loss: 22456298.0000\n",
      "Epoch 10/100\n",
      "196/196 [==============================] - 1s 3ms/step - loss: 22434212.0000\n",
      "Epoch 11/100\n",
      "196/196 [==============================] - 1s 3ms/step - loss: 22508100.0000\n",
      "Epoch 12/100\n",
      "196/196 [==============================] - 1s 3ms/step - loss: 22312376.0000\n",
      "Epoch 13/100\n",
      "196/196 [==============================] - 1s 3ms/step - loss: 22351438.0000\n",
      "Epoch 14/100\n",
      "196/196 [==============================] - 1s 3ms/step - loss: 22328176.0000\n",
      "Epoch 15/100\n",
      "196/196 [==============================] - 1s 3ms/step - loss: 22293244.0000\n",
      "Epoch 16/100\n",
      "196/196 [==============================] - 1s 3ms/step - loss: 22276584.0000\n",
      "Epoch 17/100\n",
      "196/196 [==============================] - 1s 3ms/step - loss: 22262476.0000\n",
      "Epoch 18/100\n",
      "196/196 [==============================] - 1s 3ms/step - loss: 22215138.0000\n",
      "Epoch 19/100\n",
      "196/196 [==============================] - 1s 3ms/step - loss: 22162314.0000\n",
      "Epoch 20/100\n",
      "196/196 [==============================] - 1s 3ms/step - loss: 22120598.0000\n",
      "Epoch 21/100\n",
      "196/196 [==============================] - 1s 4ms/step - loss: 22071380.0000\n",
      "Epoch 22/100\n",
      "196/196 [==============================] - 1s 5ms/step - loss: 22089160.0000\n",
      "Epoch 23/100\n",
      "196/196 [==============================] - 1s 5ms/step - loss: 22032750.0000\n",
      "Epoch 24/100\n",
      "196/196 [==============================] - 1s 5ms/step - loss: 21939080.0000\n",
      "Epoch 25/100\n",
      "196/196 [==============================] - 1s 4ms/step - loss: 22012524.0000\n",
      "Epoch 26/100\n",
      "196/196 [==============================] - 1s 4ms/step - loss: 22015696.0000\n",
      "Epoch 27/100\n",
      "196/196 [==============================] - 1s 3ms/step - loss: 21989288.0000\n",
      "Epoch 28/100\n",
      "196/196 [==============================] - 1s 3ms/step - loss: 21841684.0000\n",
      "Epoch 29/100\n",
      "196/196 [==============================] - 1s 3ms/step - loss: 21907598.0000\n",
      "Epoch 30/100\n",
      "196/196 [==============================] - 1s 3ms/step - loss: 21891794.0000\n",
      "Epoch 31/100\n",
      "196/196 [==============================] - 1s 3ms/step - loss: 21925136.0000\n",
      "Epoch 32/100\n",
      "196/196 [==============================] - 1s 3ms/step - loss: 21869138.0000\n",
      "Epoch 33/100\n",
      "196/196 [==============================] - 1s 3ms/step - loss: 22151080.0000\n",
      "Epoch 34/100\n",
      "196/196 [==============================] - 1s 3ms/step - loss: 21916406.0000\n",
      "Epoch 35/100\n",
      "196/196 [==============================] - 1s 4ms/step - loss: 21893766.0000\n",
      "Epoch 36/100\n",
      "196/196 [==============================] - 1s 4ms/step - loss: 21899980.0000\n",
      "Epoch 37/100\n",
      "196/196 [==============================] - 1s 4ms/step - loss: 21796272.0000\n",
      "Epoch 38/100\n",
      "196/196 [==============================] - 1s 4ms/step - loss: 21679998.0000\n",
      "Epoch 39/100\n",
      "196/196 [==============================] - 1s 4ms/step - loss: 21648202.0000\n",
      "Epoch 40/100\n",
      "196/196 [==============================] - 1s 4ms/step - loss: 21627938.0000\n",
      "Epoch 41/100\n",
      "196/196 [==============================] - 1s 4ms/step - loss: 21604280.0000\n",
      "Epoch 42/100\n",
      "196/196 [==============================] - 1s 4ms/step - loss: 21510754.0000\n",
      "Epoch 43/100\n",
      "196/196 [==============================] - 1s 4ms/step - loss: 21641216.0000\n",
      "Epoch 44/100\n",
      "196/196 [==============================] - 1s 4ms/step - loss: 21572280.0000\n",
      "Epoch 45/100\n",
      "196/196 [==============================] - 1s 4ms/step - loss: 21473788.0000\n",
      "Epoch 46/100\n",
      "196/196 [==============================] - 1s 4ms/step - loss: 21466304.0000\n",
      "Epoch 47/100\n",
      "196/196 [==============================] - 1s 4ms/step - loss: 21453216.0000\n",
      "Epoch 48/100\n",
      "196/196 [==============================] - 1s 4ms/step - loss: 21541416.0000\n",
      "Epoch 49/100\n",
      "196/196 [==============================] - 1s 4ms/step - loss: 21392004.0000\n",
      "Epoch 50/100\n",
      "196/196 [==============================] - 1s 4ms/step - loss: 21370504.0000\n",
      "Epoch 51/100\n",
      "196/196 [==============================] - 1s 4ms/step - loss: 21426288.0000\n",
      "Epoch 52/100\n",
      "196/196 [==============================] - 1s 4ms/step - loss: 21401440.0000\n",
      "Epoch 53/100\n",
      "196/196 [==============================] - 1s 4ms/step - loss: 21336676.0000\n",
      "Epoch 54/100\n",
      "196/196 [==============================] - 1s 4ms/step - loss: 21313360.0000\n",
      "Epoch 55/100\n",
      "196/196 [==============================] - 1s 4ms/step - loss: 21327180.0000\n",
      "Epoch 56/100\n",
      "196/196 [==============================] - 1s 4ms/step - loss: 21123300.0000\n",
      "Epoch 57/100\n",
      "196/196 [==============================] - 1s 4ms/step - loss: 21311004.0000\n",
      "Epoch 58/100\n",
      "196/196 [==============================] - 1s 4ms/step - loss: 21243808.0000\n",
      "Epoch 59/100\n",
      "196/196 [==============================] - 1s 4ms/step - loss: 21269448.0000\n",
      "Epoch 60/100\n",
      "196/196 [==============================] - 1s 4ms/step - loss: 21250948.0000\n",
      "Epoch 61/100\n",
      "196/196 [==============================] - 1s 4ms/step - loss: 21131316.0000\n",
      "Epoch 62/100\n",
      "196/196 [==============================] - 1s 4ms/step - loss: 21024548.0000\n",
      "Epoch 63/100\n",
      "196/196 [==============================] - 1s 4ms/step - loss: 21200686.0000\n",
      "Epoch 64/100\n",
      "196/196 [==============================] - 1s 4ms/step - loss: 21120166.0000\n",
      "Epoch 65/100\n",
      "196/196 [==============================] - 1s 4ms/step - loss: 21103136.0000\n",
      "Epoch 66/100\n",
      "196/196 [==============================] - 1s 4ms/step - loss: 21040644.0000\n",
      "Epoch 67/100\n",
      "196/196 [==============================] - 1s 4ms/step - loss: 21058010.0000\n",
      "Epoch 68/100\n",
      "196/196 [==============================] - 1s 4ms/step - loss: 21112106.0000\n",
      "Epoch 69/100\n",
      "196/196 [==============================] - 1s 4ms/step - loss: 21008834.0000\n",
      "Epoch 70/100\n",
      "196/196 [==============================] - 1s 4ms/step - loss: 21016148.0000\n",
      "Epoch 71/100\n",
      "196/196 [==============================] - 1s 4ms/step - loss: 21038162.0000\n",
      "Epoch 72/100\n",
      "196/196 [==============================] - 1s 4ms/step - loss: 20980178.0000\n",
      "Epoch 73/100\n",
      "196/196 [==============================] - 1s 4ms/step - loss: 20868386.0000\n",
      "Epoch 74/100\n",
      "196/196 [==============================] - 1s 4ms/step - loss: 20831600.0000\n",
      "Epoch 75/100\n",
      "196/196 [==============================] - 1s 4ms/step - loss: 20962948.0000\n",
      "Epoch 76/100\n",
      "196/196 [==============================] - 1s 4ms/step - loss: 20871642.0000\n",
      "Epoch 77/100\n",
      "196/196 [==============================] - 1s 4ms/step - loss: 20833008.0000\n",
      "Epoch 78/100\n",
      "196/196 [==============================] - 1s 4ms/step - loss: 20770318.0000\n",
      "Epoch 79/100\n",
      "196/196 [==============================] - 1s 4ms/step - loss: 20821588.0000\n",
      "Epoch 80/100\n",
      "196/196 [==============================] - 1s 4ms/step - loss: 20938324.0000\n",
      "Epoch 81/100\n",
      "196/196 [==============================] - 1s 4ms/step - loss: 20865572.0000\n",
      "Epoch 82/100\n",
      "196/196 [==============================] - 1s 4ms/step - loss: 20674814.0000\n",
      "Epoch 83/100\n",
      "196/196 [==============================] - 1s 4ms/step - loss: 20844162.0000\n",
      "Epoch 84/100\n",
      "196/196 [==============================] - 1s 4ms/step - loss: 20761244.0000\n",
      "Epoch 85/100\n",
      "196/196 [==============================] - 1s 4ms/step - loss: 20714168.0000\n",
      "Epoch 86/100\n",
      "196/196 [==============================] - 1s 4ms/step - loss: 20640860.0000\n",
      "Epoch 87/100\n",
      "196/196 [==============================] - 1s 4ms/step - loss: 20637286.0000\n",
      "Epoch 88/100\n",
      "196/196 [==============================] - 1s 4ms/step - loss: 20656552.0000\n",
      "Epoch 89/100\n",
      "196/196 [==============================] - 1s 4ms/step - loss: 20677624.0000\n",
      "Epoch 90/100\n",
      "196/196 [==============================] - 1s 4ms/step - loss: 20666364.0000\n",
      "Epoch 91/100\n",
      "196/196 [==============================] - 1s 4ms/step - loss: 20581090.0000\n",
      "Epoch 92/100\n"
     ]
    },
    {
     "name": "stdout",
     "output_type": "stream",
     "text": [
      "196/196 [==============================] - 1s 3ms/step - loss: 20757176.0000\n",
      "Epoch 93/100\n",
      "196/196 [==============================] - 1s 3ms/step - loss: 20598804.0000\n",
      "Epoch 94/100\n",
      "196/196 [==============================] - 1s 3ms/step - loss: 20537514.0000\n",
      "Epoch 95/100\n",
      "196/196 [==============================] - 1s 3ms/step - loss: 20494178.0000\n",
      "Epoch 96/100\n",
      "196/196 [==============================] - 1s 3ms/step - loss: 20525628.0000\n",
      "Epoch 97/100\n",
      "196/196 [==============================] - 1s 3ms/step - loss: 20517262.0000\n",
      "Epoch 98/100\n",
      "196/196 [==============================] - 1s 3ms/step - loss: 20560614.0000\n",
      "Epoch 99/100\n",
      "196/196 [==============================] - 1s 4ms/step - loss: 20528980.0000\n",
      "Epoch 100/100\n",
      "196/196 [==============================] - 1s 5ms/step - loss: 20595282.0000\n"
     ]
    },
    {
     "data": {
      "text/plain": [
       "<keras.callbacks.History at 0x20b712f6cb0>"
      ]
     },
     "execution_count": 105,
     "metadata": {},
     "output_type": "execute_result"
    }
   ],
   "source": [
    "# Compile the model\n",
    "model.compile(optimizer=Adam(learning_rate=0.01), loss='mean_squared_error')\n",
    "\n",
    "#model.fit(X_train, y_train, epochs=30, batch_size=32, callbacks=[lr_scheduler])\n",
    "\n",
    "model.fit(X_train, y_train, batch_size=8, epochs=100, verbose=1)"
   ]
  },
  {
   "cell_type": "code",
   "execution_count": 115,
   "id": "afb29bc8",
   "metadata": {},
   "outputs": [
    {
     "name": "stdout",
     "output_type": "stream",
     "text": [
      "2/2 [==============================] - 0s 2ms/step\n"
     ]
    },
    {
     "data": {
      "image/png": "[encoded data removed]",
      "text/plain": [
       "<Figure size 320x240 with 1 Axes>"
      ]
     },
     "metadata": {},
     "output_type": "display_data"
    },
    {
     "name": "stdout",
     "output_type": "stream",
     "text": [
      "[1.5204000e+01 8.9000000e+00 7.6930000e+00 9.5390000e+00 9.2830000e+00\n",
      " 7.4620000e+00 1.1226000e+01 8.4360000e+00 1.0128000e+01 9.7020000e+00\n",
      " 1.9053000e+01 1.1248000e+01 1.5255000e+01 1.1597000e+01 1.9289000e+01\n",
      " 1.1348000e+01 1.5777523e+04 8.2050000e+00 1.5716774e+04 1.5000000e+04\n",
      " 1.5754143e+04 1.5719004e+04 8.4190000e+00 1.5000000e+04 5.7331600e+02\n",
      " 8.3200000e+00 1.0672000e+01 4.2846300e+03 1.6503000e+01 8.0881820e+03\n",
      " 1.5668607e+04 1.5000000e+04 1.2096000e+01 1.5000000e+04 1.1360000e+01\n",
      " 1.5000000e+04 9.6380000e+00 9.3830000e+00 1.2912000e+01 9.9870000e+00\n",
      " 8.8320000e+00 1.1616000e+01 9.1680000e+00 8.6750000e+00 8.3230000e+00\n",
      " 1.4422000e+01]\n"
     ]
    }
   ],
   "source": [
    "# Make predictions on the test set\n",
    "import matplotlib.ticker as mticker\n",
    "\n",
    "y_pred = model.predict(X_test)\n",
    "mse = mean_squared_error(y_test, y_pred)\n",
    "r2 = r2_score(y_test, y_pred)\n",
    "\n",
    "# accuracy\n",
    "threshold = 0.05  \n",
    "y_pred=np.array(y_pred)\n",
    "y_pred = [item for subset in y_pred for item in subset]\n",
    "y_test=np.array(y_test)\n",
    "distances = [abs(real - pred) / real for real, pred in zip(y_test, y_pred)]\n",
    "accuracy_within_threshold = sum(dist <= threshold for dist in distances) / len(distances) * 100\n",
    "accuracy_cdf=[]\n",
    "\n",
    "# plot\n",
    "\n",
    "fig, ax = plt.subplots(facecolor='white', figsize=(4,3))\n",
    "#ax.set_facecolor('white')\n",
    "plt.style.use('classic')\n",
    "\n",
    "plt.plot(y_pred[0:100], marker='o',c='r',markersize = 2, linewidth = 0.8, linestyle='-', markeredgecolor='red', dashes=(5, 3),label='Prediction')\n",
    "plt.plot(y_test.tolist()[0:100], c='b',linestyle='-',linewidth = 0.8,label='Real')\n",
    "\n",
    "\n",
    "plt.legend(loc=\"upper right\", fontsize=10)\n",
    "fig.text(0.5, 0.01, 'Series', size='12', ha='center')\n",
    "fig.text(0.01, 0.5, 'Values', size='12', va='center', rotation='vertical')\n",
    "plt.subplots_adjust(left=0.12, right=0.9, bottom=0.15, top=0.9, wspace=0.3, hspace=0.4)\n",
    "#plt.grid()\n",
    "ax.set_facecolor('white')\n",
    "\n",
    "# Set y-axis tick format\n",
    "formatter = mticker.FuncFormatter(lambda x, pos: f\"{int(x/1000)}\")\n",
    "ax.yaxis.set_major_formatter(formatter)\n",
    "# Set text in the upper left corner of the figure\n",
    "fig.text(0.12, 0.98, '1e3', size='12', ha='left', va='top')\n",
    "\n",
    "#save figure\n",
    "folder_path = 'figure/latency_prediction'\n",
    "if not os.path.exists(folder_path):\n",
    "    os.makedirs(folder_path)\n",
    "file_path = os.path.join(folder_path, 'accuracy-linear-testset-resource.pdf' )\n",
    "plt.savefig(file_path)\n",
    "\n",
    "plt.show()\n",
    "print(y_test)"
   ]
  },
  {
   "cell_type": "code",
   "execution_count": 116,
   "id": "a76359d4",
   "metadata": {},
   "outputs": [
    {
     "name": "stdout",
     "output_type": "stream",
     "text": [
      "R-squared: 0.18806936067408075\n"
     ]
    }
   ],
   "source": [
    "#y_test[y_test == 15000000] = 12000000\n",
    "from sklearn.metrics import r2_score\n",
    "\n",
    "r2 = r2_score(y_test, y_pred)\n",
    "print(\"R-squared:\", r2)"
   ]
  },
  {
   "cell_type": "code",
   "execution_count": 117,
   "id": "b2e7100c",
   "metadata": {},
   "outputs": [
    {
     "name": "stdout",
     "output_type": "stream",
     "text": [
      "2/2 [==============================] - 0s 5ms/step\n",
      "accurancy with thoreshold 5%:[0.]\n",
      "[array([0.]), array([0.]), array([2.17391304]), array([17.39130435]), array([19.56521739]), array([21.73913043]), array([21.73913043]), array([21.73913043]), array([21.73913043]), array([21.73913043]), array([50.])]\n"
     ]
    },
    {
     "data": {
      "image/png": "[encoded data removed]",
      "text/plain": [
       "<Figure size 320x240 with 1 Axes>"
      ]
     },
     "metadata": {},
     "output_type": "display_data"
    }
   ],
   "source": [
    "# predict dataset 'linear'\n",
    "\n",
    "# read the CSV file\n",
    "path = '../linear/datasets/resource_stimulus_exp-4-1-5.csv'\n",
    "\n",
    "df = pd.read_csv(path)\n",
    "df = df.replace(['<not counted>'], np.nan)\n",
    "df = df.dropna()\n",
    "\n",
    "# separate the features and target variable\n",
    "\n",
    "\n",
    "# Now you can access the 'columns' attribute\n",
    "#X_test = df.drop(['Unnamed: 0','input_rate','latency'], axis=1)\n",
    "X_test = df.drop(['Unnamed: 0','input_rate','latency', 'nf_router_LLC-load-misses','nf_router_cache-misses',\\\n",
    "             'firewall_LLC-load-misses','ndpi_stats_cache-misses','ndpi_stats_LLC-load-misses','bridge_cache-misses',\\\n",
    "             'bridge_instructions','bridge_branches','firewall_instructions' ], axis=1)\n",
    "y_test =df['latency'].values\n",
    "\n",
    "# standardize the features\n",
    "scaler = StandardScaler()\n",
    "X_test = scaler.fit_transform(X_test)\n",
    "\n",
    "# evaluate\n",
    "y_pred = model.predict(X_test)\n",
    "y_pred = np.array(y_pred)\n",
    "mse = mean_squared_error(y_test, y_pred)\n",
    "\n",
    "# accuracy\n",
    "threshold = 0.05\n",
    "distances = [abs(real - pred) / real for real, pred in zip(y_test, y_pred)]\n",
    "accuracy_within_threshold = sum(dist <= threshold for dist in distances) / len(distances) * 100\n",
    "print(f'accurancy with thoreshold 5%:{accuracy_within_threshold}')\n",
    "\n",
    "accuracy_cdf=[]\n",
    "# plot cdf of accurancy\n",
    "for threshold in range(11):\n",
    "    threshold = threshold/10\n",
    "    distances = [abs(real - pred) / real for real, pred in zip(y_test, y_pred)]\n",
    "    accuracy_within_threshold = sum(dist <= threshold for dist in distances) / len(distances) * 100\n",
    "    accuracy_cdf.append(accuracy_within_threshold)\n",
    "print(accuracy_cdf)\n",
    "\n",
    "# plot\n",
    "\n",
    "fig, ax = plt.subplots(facecolor='white', figsize=(4,3))\n",
    "#ax.set_facecolor('white')\n",
    "plt.style.use('classic')\n",
    "\n",
    "plt.plot(y_pred, marker='o', c='r',markersize = 2,linewidth = 0.8,  markeredgecolor='red', linestyle='-', dashes=(5, 3),label='Prediction')\n",
    "plt.plot(y_test.tolist(), c='b',linestyle='-',linewidth = 0.8, label='Real')\n",
    "\n",
    "plt.legend(loc=\"upper right\", fontsize=10)\n",
    "fig.text(0.5, 0.01, 'Series', size='14', ha='center')\n",
    "fig.text(0.01, 0.5, 'Values', size='14', va='center', rotation='vertical')\n",
    "plt.subplots_adjust(left=0.12, right=0.9, bottom=0.15, top=0.9, wspace=0.3, hspace=0.4)\n",
    "#plt.grid()\n",
    "ax.set_facecolor('white')\n",
    "\n",
    "# Set x-axis and y-axis limits\n",
    "plt.xlim(0, 45)\n",
    "\n",
    "\n",
    "# Set y-axis tick format\n",
    "formatter = mticker.FuncFormatter(lambda x, pos: f\"{x/10000:.0e}\")\n",
    "ax.yaxis.set_major_formatter(formatter)\n",
    "# Set text in the upper left corner of the figure\n",
    "fig.text(0.12, 0.98, '1e4', size='12', ha='left', va='top')\n",
    "\n",
    "\n",
    "\n",
    "#save figure\n",
    "folder_path = 'figure/latency_prediction'\n",
    "if not os.path.exists(folder_path):\n",
    "    os.makedirs(folder_path)\n",
    "file_path = os.path.join(folder_path, 'accuracy-latency-linear-resource.pdf' )\n",
    "plt.savefig(file_path)\n",
    "plt.show()"
   ]
  },
  {
   "cell_type": "code",
   "execution_count": 118,
   "id": "79de8ade",
   "metadata": {},
   "outputs": [],
   "source": [
    "# Metadata for specific SFC configurations\n",
    "exp_rs = \"exp-4-1-3\"\n",
    "vnfs = [\"firewall.csv\", \"nf_router.csv\", \"ndpi_stats.csv\", \"payload_scan.csv\", \"bridge.csv\"]"
   ]
  },
  {
   "cell_type": "code",
   "execution_count": 119,
   "id": "cf938c88",
   "metadata": {},
   "outputs": [],
   "source": [
    "# Some helper functions\n",
    "def get_stat(stat_name, source=\"general/fastclick-varied-cbr-rates.csv\", index=1):\n",
    "    stat = []\n",
    "    with open(source) as file:\n",
    "        for line in file:\n",
    "            if re.search(stat_name, line):\n",
    "                stat.append(line.strip().split(',')[index])\n",
    "    \n",
    "    return list(map(lambda x:float(x), stat[:-1]))\n",
    "\n",
    "def plot_stat(stat_name, ax, source, index=1):\n",
    "    stat = get_stat(stat_name, source, index)\n",
    "    ax.plot(stat)\n",
    "    ax.grid(True)\n",
    "    ax.set_title(stat_name)\n",
    "\n",
    "def plot_stats(stat_names, source=\"fastclick-varied-cbr-rates.csv\", index=1):\n",
    "    i = 1\n",
    "    fig, ax = plt.subplots(len(stat_names),2)\n",
    "    for s in stat_names:\n",
    "        ax = plt.subplot(len(stat_names),1, i)\n",
    "        plot_stat(s, ax, source, index)\n",
    "        i+=1\n",
    "    fig.tight_layout()\n",
    "    "
   ]
  },
  {
   "cell_type": "code",
   "execution_count": 120,
   "id": "10b37452",
   "metadata": {},
   "outputs": [],
   "source": [
    "def parse_seq(exp_type, exp_num, file, index=5):\n",
    "    \"Parse sequential data, specialized for the TX/RX/Latency experiments\"\n",
    "    tmp = []\n",
    "    \n",
    "    if file.startswith(\"latency.csv\"):\n",
    "        with open(os.path.join(\"..\\\\linear\\\\data_modify_latency\", exp_type, exp_num, file)) as f:\n",
    "            lines = f.readlines()[4:] if exp_type == \"load_stimulus\" else f.readlines()\n",
    "            for i in range(len(lines)):\n",
    "                if i % 2 != 0:  # Check if the index is odd\n",
    "                    value = float(lines[i].strip()) / 1000\n",
    "                    tmp.append(value)\n",
    "    else:\n",
    "        with open(os.path.join(\"..\\\\linear\\\\data_modify_latency\", exp_type, exp_num, file)) as f:\n",
    "            next(f)\n",
    "            for l in f:\n",
    "                try:\n",
    "                    value = float(l.strip().split(\",\")[index])\n",
    "                except ValueError:\n",
    "                    value = \"N/A\"\n",
    "                tmp.append(value)\n",
    "                \n",
    "    return tmp"
   ]
  },
  {
   "cell_type": "code",
   "execution_count": 121,
   "id": "6fc616a2",
   "metadata": {},
   "outputs": [],
   "source": [
    "def parse_reg(exp_type, exp_num, file, stat_name, index=1):\n",
    "    \"Parse the Perf data\"\n",
    "    stat = []\n",
    "    with open(os.path.join(\"..\\\\linear\\\\data_modify_latency\", exp_type, exp_num, file)) as f:\n",
    "        for line in f:\n",
    "            if re.search(stat_name, line):\n",
    "                stat.append(line.strip().split(',')[index])\n",
    "    \n",
    "    return list(map(lambda x:float(x), stat[:-1]))"
   ]
  },
  {
   "cell_type": "code",
   "execution_count": 123,
   "id": "5367fcb0",
   "metadata": {},
   "outputs": [
    {
     "name": "stdout",
     "output_type": "stream",
     "text": [
      "46\n",
      "46\n"
     ]
    },
    {
     "name": "stderr",
     "output_type": "stream",
     "text": [
      "C:\\Users\\Qiong\\AppData\\Local\\Temp\\ipykernel_28336\\2600858362.py:30: UserWarning: FixedFormatter should only be used together with FixedLocator\n",
      "  ax.set_yticklabels(left_y_vals)\n",
      "C:\\Users\\Qiong\\AppData\\Local\\Temp\\ipykernel_28336\\2600858362.py:34: UserWarning: FixedFormatter should only be used together with FixedLocator\n",
      "  ax2.set_yticklabels(right_y_vals)\n"
     ]
    },
    {
     "data": {
      "image/png": "[encoded data removed]",
      "text/plain": [
       "<Figure size 560x160 with 2 Axes>"
      ]
     },
     "metadata": {},
     "output_type": "display_data"
    }
   ],
   "source": [
    "\n",
    "fig, ax = plt.subplots(facecolor='white', figsize=(7,2))\n",
    "plt.style.use('classic')\n",
    "#ax.grid(True)\n",
    "\n",
    "line_width = 1.4\n",
    "\n",
    "\n",
    "ax.set_xlabel(\"Time sequence (seconds)\")\n",
    "ax.set_ylabel(\"Throughput (Mbps)\")\n",
    "\n",
    "ax2 = ax.twinx()\n",
    "ax2.tick_params(axis='y', colors='red')\n",
    "ax2.set_ylabel(\"End-to-end latency [us]\", color=\"red\")\n",
    "\n",
    "l = ax.plot(parse_seq(\"resource_stimulus\", exp_rs, \"tx_stats.csv\"), marker=next(marker), color='black', label=\"Input rate\",linewidth=line_width,)\n",
    "l1 = ax.plot(parse_seq(\"resource_stimulus\", exp_rs, \"rx_stats.csv\"), color='darkgreen', label=\"Throughput\",linewidth=line_width,)\n",
    "lat = parse_seq(\"resource_stimulus\", exp_rs, \"latency.csv\")\n",
    "\n",
    "print(len(lat))\n",
    "print(len(y_pred))\n",
    "l2 = ax2.plot(np.arange(0, len(lat)), lat, color=\"blue\", label=\"Latency\", marker='+',linewidth=line_width,)\n",
    "l3 = ax2.plot(np.arange(0, len(lat)), y_pred, color=\"red\", label=\"Latency prediction\", marker=next(marker), linestyle=\"dashed\", markersize=8, markerfacecolor='red', markeredgecolor='black', linewidth=line_width)\n",
    "\n",
    "lns = l + l1 + l2 + l3\n",
    "labs = [l.get_label() for l in lns]\n",
    "\n",
    "\n",
    "# Divide left y-axis values by 1000\n",
    "left_y_vals = ax.get_yticks() / 1000\n",
    "ax.set_yticklabels(left_y_vals)\n",
    "\n",
    "# Divide right y-axis values by 10000\n",
    "right_y_vals = ax2.get_yticks() / 10000\n",
    "ax2.set_yticklabels(right_y_vals)\n",
    "plt.grid()\n",
    "# Add labels in the top corners\n",
    "ax.text(0.01, 1.1, \"1e3\", transform=ax.transAxes, ha=\"left\", va=\"top\")\n",
    "ax2.text(1, 1.1, \"1e4\", transform=ax2.transAxes, ha=\"right\", va=\"top\")\n",
    "plt.legend(lns, labs, loc='upper center',fontsize=9, bbox_to_anchor=(0.16,0.85), fancybox=True, shadow=True)\n",
    "plt.savefig('resource_latency_prediction_new.pdf', bbox_inches='tight')\n",
    "\n"
   ]
  },
  {
   "cell_type": "code",
   "execution_count": 114,
   "id": "4b50b495",
   "metadata": {},
   "outputs": [
    {
     "name": "stdout",
     "output_type": "stream",
     "text": [
      "0.18806936067408075\n"
     ]
    }
   ],
   "source": [
    "r2 = r2_score(y_test, y_pred)\n",
    "print(r2)"
   ]
  },
  {
   "cell_type": "code",
   "execution_count": 162,
   "id": "c2da3c4b",
   "metadata": {},
   "outputs": [
    {
     "name": "stdout",
     "output_type": "stream",
     "text": [
      "46\n",
      "46\n"
     ]
    },
    {
     "name": "stderr",
     "output_type": "stream",
     "text": [
      "C:\\Users\\Qiong\\AppData\\Local\\Temp\\ipykernel_28336\\2663845219.py:30: UserWarning: FixedFormatter should only be used together with FixedLocator\n",
      "  ax.set_yticklabels(left_y_vals)\n",
      "C:\\Users\\Qiong\\AppData\\Local\\Temp\\ipykernel_28336\\2663845219.py:34: UserWarning: FixedFormatter should only be used together with FixedLocator\n",
      "  ax2.set_yticklabels(right_y_vals)\n"
     ]
    },
    {
     "data": {
      "image/png": "[encoded data removed]",
      "text/plain": [
       "<Figure size 560x160 with 2 Axes>"
      ]
     },
     "metadata": {},
     "output_type": "display_data"
    }
   ],
   "source": [
    "\n",
    "fig, ax = plt.subplots(facecolor='white', figsize=(7,2))\n",
    "plt.style.use('classic')\n",
    "#ax.grid(True)\n",
    "\n",
    "line_width = 1.4\n",
    "\n",
    "\n",
    "ax.set_xlabel(\"Time sequence (seconds)\")\n",
    "ax.set_ylabel(\"Throughput (Mbps)\")\n",
    "\n",
    "ax2 = ax.twinx()\n",
    "ax2.tick_params(axis='y', colors='red')\n",
    "ax2.set_ylabel(\"End-to-end latency [us]\", color=\"red\")\n",
    "\n",
    "l = ax.plot(parse_seq(\"resource_stimulus\", exp_rs, \"tx_stats.csv\"), color='black', label=\"Input rate\", linewidth=line_width, marker='x', markerfacecolor='black', markeredgecolor='black')\n",
    "l1 = ax.plot(parse_seq(\"resource_stimulus\", exp_rs, \"rx_stats.csv\"), color='darkgreen', marker='+', label=\"Throughput\", linewidth=line_width, markerfacecolor='darkgreen', markeredgecolor='darkgreen')\n",
    "lat = parse_seq(\"resource_stimulus\", exp_rs, \"latency.csv\")\n",
    "\n",
    "print(len(lat))\n",
    "print(len(y_pred))\n",
    "l2 = ax2.plot(np.arange(0, len(lat)), lat, color=\"blue\", label=\"Latency\",linewidth=line_width,)\n",
    "l3 = ax2.plot(np.arange(0, len(lat)), y_pred, color=\"red\", label=\"Latency prediction\", marker=next(marker), linestyle=\"dashed\", markersize=10, markerfacecolor='red', markeredgecolor='black', linewidth=line_width)\n",
    "\n",
    "lns = l + l1 + l2 + l3\n",
    "labs = [l.get_label() for l in lns]\n",
    "\n",
    "\n",
    "# Divide left y-axis values by 1000\n",
    "left_y_vals = ax.get_yticks() / 1000\n",
    "ax.set_yticklabels(left_y_vals)\n",
    "\n",
    "# Divide right y-axis values by 10000\n",
    "right_y_vals = ax2.get_yticks() / 10000\n",
    "ax2.set_yticklabels(right_y_vals)\n",
    "plt.grid()\n",
    "# Add labels in the top corners\n",
    "ax.text(0.01, 1.1, \"1e3\", transform=ax.transAxes, ha=\"left\", va=\"top\")\n",
    "ax2.text(1, 1.1, \"1e4\", transform=ax2.transAxes, ha=\"right\", va=\"top\")\n",
    "plt.legend(lns, labs, loc='upper center',fontsize=9, bbox_to_anchor=(0.16,0.85), fancybox=True, shadow=True)\n",
    "plt.savefig('resource_latency_prediction_new.pdf', bbox_inches='tight')\n",
    "\n"
   ]
  },
  {
   "cell_type": "code",
   "execution_count": null,
   "id": "e876f832",
   "metadata": {},
   "outputs": [],
   "source": []
  },
  {
   "cell_type": "code",
   "execution_count": null,
   "id": "707b499e",
   "metadata": {},
   "outputs": [],
   "source": []
  }
 ],
 "metadata": {
  "kernelspec": {
   "display_name": "Python 3 (ipykernel)",
   "language": "python",
   "name": "python3"
  },
  "language_info": {
   "codemirror_mode": {
    "name": "ipython",
    "version": 3
   },
   "file_extension": ".py",
   "mimetype": "text/x-python",
   "name": "python",
   "nbconvert_exporter": "python",
   "pygments_lexer": "ipython3",
   "version": "3.10.9"
  }
 },
 "nbformat": 4,
 "nbformat_minor": 5
}
