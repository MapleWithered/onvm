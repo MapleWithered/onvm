{
 "cells": [
  {
   "cell_type": "code",
   "execution_count": 25,
   "id": "9939eb58",
   "metadata": {},
   "outputs": [],
   "source": [
    "import pandas as pd\n",
    "import os, re\n",
    "import csv"
   ]
  },
  {
   "cell_type": "code",
   "execution_count": 26,
   "id": "55826968",
   "metadata": {},
   "outputs": [],
   "source": [
    "# Change the work directory to the parent\n",
    "try:\n",
    "    if chdir:\n",
    "        pass\n",
    "except:\n",
    "    current_dir = os.getcwd()\n",
    "    os.chdir(current_dir +\"/..\")\n",
    "    os.path.abspath(os.curdir)"
   ]
  },
  {
   "cell_type": "code",
   "execution_count": 27,
   "id": "3ea5ec29",
   "metadata": {},
   "outputs": [],
   "source": [
    "chdir = True"
   ]
  },
  {
   "cell_type": "code",
   "execution_count": 28,
   "id": "c2b78803",
   "metadata": {},
   "outputs": [],
   "source": [
    "import matplotlib.pyplot as plt\n",
    "%matplotlib inline\n",
    "\n",
    "plt.rc('font', family='serif')\n",
    "plt.rcParams.update({'font.size': 11})\n",
    "\n",
    "plt.rcParams['figure.dpi'] = 200\n",
    "plt.rcParams['savefig.dpi'] = 300"
   ]
  },
  {
   "cell_type": "code",
   "execution_count": 78,
   "id": "fa7dad89",
   "metadata": {},
   "outputs": [],
   "source": [
    "# Metadata for specific SFC configurations\n",
    "exp_ls = \"per-vnf-performance\"\n",
    "vnfs = [\"firewall.csv\", \"nf_router.csv\", \"ndpi_stats.csv\", \"payload_scan.csv\", \"bridge.csv\"]"
   ]
  },
  {
   "cell_type": "code",
   "execution_count": 79,
   "id": "4f4de67f",
   "metadata": {},
   "outputs": [],
   "source": [
    "def parse_seq(exp_type, exp_num, file, index=5):\n",
    "    \"Parse sequential data, specialized for the TX/RX/Latency experiments\"\n",
    "    tmp = []\n",
    "\n",
    "    if file.startswith(\"latency.csv\"):\n",
    "        with open(os.path.join(exp_type, exp_num, file)) as f:\n",
    "            lines = f.readlines()[4:] if exp_type == \"incremental\" else f.readlines()\n",
    "            for line in lines:\n",
    "                try:\n",
    "                    value = float(line.strip()) / 1000\n",
    "                except ValueError:\n",
    "                    value = \"N/A\"\n",
    "                tmp.append(value)\n",
    "    else:\n",
    "        with open(os.path.join(exp_type, exp_num, file)) as f:\n",
    "            next(f)\n",
    "            for l in f:\n",
    "                try:\n",
    "                    value = float(l.strip().split(\",\")[index])\n",
    "                except ValueError:\n",
    "                    value = \"N/A\"\n",
    "                tmp.append(value)\n",
    "\n",
    "    return tmp\n"
   ]
  },
  {
   "cell_type": "code",
   "execution_count": 80,
   "id": "730f08d0",
   "metadata": {},
   "outputs": [],
   "source": [
    "def parse_reg(exp_type, exp_num, file, stat_name, index=1):\n",
    "    \"Parse the Perf data\"\n",
    "    stat = []\n",
    "    with open(os.path.join(exp_type, exp_num, file)) as file:\n",
    "        for line in file:\n",
    "            if re.search(stat_name, line):\n",
    "                try:\n",
    "                    value = float(line.strip().split(',')[index])\n",
    "                except ValueError:\n",
    "                    value = \"N/A\"\n",
    "                stat.append(value)\n",
    "\n",
    "    return stat\n"
   ]
  },
  {
   "cell_type": "code",
   "execution_count": 81,
   "id": "f5677589",
   "metadata": {},
   "outputs": [
    {
     "data": {
      "text/plain": [
       "2058"
      ]
     },
     "execution_count": 81,
     "metadata": {},
     "output_type": "execute_result"
    }
   ],
   "source": [
    "latency = parse_seq(\"incremental\", exp_ls, \"latency.csv\")\n",
    "len(latency)"
   ]
  },
  {
   "cell_type": "code",
   "execution_count": 82,
   "id": "2c67471b",
   "metadata": {},
   "outputs": [
    {
     "data": {
      "text/plain": [
       "2060"
      ]
     },
     "execution_count": 82,
     "metadata": {},
     "output_type": "execute_result"
    }
   ],
   "source": [
    "tx_stats = parse_seq(\"incremental\", exp_ls, \"tx_stats.csv\")\n",
    "len(tx_stats)"
   ]
  },
  {
   "cell_type": "code",
   "execution_count": 83,
   "id": "95fe69b7",
   "metadata": {},
   "outputs": [
    {
     "data": {
      "text/plain": [
       "2060"
      ]
     },
     "execution_count": 83,
     "metadata": {},
     "output_type": "execute_result"
    }
   ],
   "source": [
    "rx_stats = parse_seq(\"incremental\", exp_ls, \"rx_stats.csv\")\n",
    "len(rx_stats)"
   ]
  },
  {
   "cell_type": "code",
   "execution_count": 84,
   "id": "2069d7f7",
   "metadata": {},
   "outputs": [
    {
     "data": {
      "text/plain": [
       "2059"
      ]
     },
     "execution_count": 84,
     "metadata": {},
     "output_type": "execute_result"
    }
   ],
   "source": [
    "firewall_instructions = parse_reg(\"incremental\", exp_ls, \"firewall.csv\", \"instructions\", 1)\n",
    "len(firewall_instructions)"
   ]
  },
  {
   "cell_type": "code",
   "execution_count": 85,
   "id": "486f96ae",
   "metadata": {},
   "outputs": [],
   "source": [
    "features = [\"instructions\", \"branches,\", \"branch-misses,\", \"branch-load-misses,\", \"cache-misses\", \\\n",
    "            \"cache-references\", \",cycles,\", \"L1-dcache-load-misses\", \"L1-dcache-loads\", \"LLC-load-misses\", \\\n",
    "            \"LLC-stores\", \"LLC-loads\",]"
   ]
  },
  {
   "cell_type": "code",
   "execution_count": 86,
   "id": "c085a1b5",
   "metadata": {},
   "outputs": [],
   "source": [
    "def make_df():\n",
    "    tmp = []\n",
    "    dic = dict()\n",
    "    \n",
    "    tx_stats = parse_seq(\"incremental\", exp_ls, \"tx_stats.csv\")\n",
    "    rx_stats = parse_seq(\"incremental\", exp_ls, \"rx_stats.csv\")\n",
    "    \n",
    "    latency = parse_seq(\"incremental\", exp_ls, \"latency.csv\")\n",
    " \n",
    "    \n",
    "    seq_length = min([len(parse_reg(\"incremental\", exp_ls, \"firewall.csv\", \"instructions\", 1)), \\\n",
    "                          len(tx_stats), \\\n",
    "                          len(rx_stats), \\\n",
    "                          len(latency)])\n",
    "    dic[\"input_rate\"] = tx_stats[:seq_length]\n",
    "    dic[\"output_rate\"] = rx_stats[:seq_length]\n",
    "    dic[\"latency\"] = latency[:seq_length]\n",
    "    \n",
    "    for f in features:\n",
    "        for v in vnfs:\n",
    "            tmp = parse_reg(\"load_stimulus\", exp_ls, v, f, 1)\n",
    "            \n",
    "            dic[v.split(\".\")[0]+\"_\"+f.replace(\",\",\"\")] = tmp[:seq_length]\n",
    "            \n",
    "    return pd.DataFrame(dic)"
   ]
  },
  {
   "cell_type": "code",
   "execution_count": 87,
   "id": "b177cff1",
   "metadata": {},
   "outputs": [],
   "source": [
    "def make_df():\n",
    "    tmp = []\n",
    "    dic = dict()\n",
    "    \n",
    "    tx_stats = parse_seq(\"incremental\", exp_ls, \"tx_stats.csv\")\n",
    "    rx_stats = parse_seq(\"incremental\", exp_ls, \"rx_stats.csv\")\n",
    "    latency = parse_seq(\"incremental\", exp_ls, \"latency.csv\")\n",
    "\n",
    "    seq_length = min(len(parse_reg(\"incremental\", exp_ls, \"firewall.csv\", \"instructions\", 1)), len(tx_stats), len(rx_stats), len(latency))\n",
    "    \n",
    "    # Get data for each feature and VNF\n",
    "    for f in features:\n",
    "        for v in vnfs:\n",
    "            tmp = parse_reg(\"incremental\", exp_ls, v, f, 1)\n",
    "            if len(tmp) < seq_length:\n",
    "                tmp += [\"N/A\"] * (seq_length - len(tmp))  # Add \"N/A\" values if list is too short\n",
    "            dic[v.split(\".\")[0] + \"_\" + f.replace(\",\", \"\")] = tmp[:seq_length]\n",
    "\n",
    "    # Add remaining data to dictionary\n",
    "    dic[\"input_rate\"] = tx_stats[:seq_length]\n",
    "    dic[\"output_rate\"] = rx_stats[:seq_length]\n",
    "    dic[\"latency\"] = latency[:seq_length]\n",
    "    \n",
    "    return pd.DataFrame(dic)\n"
   ]
  },
  {
   "cell_type": "code",
   "execution_count": 88,
   "id": "efeb9943",
   "metadata": {},
   "outputs": [],
   "source": [
    "df = make_df()"
   ]
  },
  {
   "cell_type": "code",
   "execution_count": 89,
   "id": "fdfe9289",
   "metadata": {},
   "outputs": [
    {
     "ename": "TypeError",
     "evalue": "no numeric data to plot",
     "output_type": "error",
     "traceback": [
      "\u001b[1;31m---------------------------------------------------------------------------\u001b[0m",
      "\u001b[1;31mTypeError\u001b[0m                                 Traceback (most recent call last)",
      "Cell \u001b[1;32mIn[89], line 1\u001b[0m\n\u001b[1;32m----> 1\u001b[0m \u001b[43mdf\u001b[49m\u001b[43m[\u001b[49m\u001b[43m[\u001b[49m\u001b[38;5;124;43m\"\u001b[39;49m\u001b[38;5;124;43mfirewall_cycles\u001b[39;49m\u001b[38;5;124;43m\"\u001b[39;49m\u001b[43m,\u001b[49m\u001b[38;5;124;43m\"\u001b[39;49m\u001b[38;5;124;43mnf_router_cycles\u001b[39;49m\u001b[38;5;124;43m\"\u001b[39;49m\u001b[43m,\u001b[49m\u001b[38;5;124;43m\"\u001b[39;49m\u001b[38;5;124;43mndpi_stats_cycles\u001b[39;49m\u001b[38;5;124;43m\"\u001b[39;49m\u001b[43m,\u001b[49m\u001b[38;5;124;43m\"\u001b[39;49m\u001b[38;5;124;43mpayload_scan_cycles\u001b[39;49m\u001b[38;5;124;43m\"\u001b[39;49m\u001b[43m,\u001b[49m\u001b[38;5;124;43m\"\u001b[39;49m\u001b[38;5;124;43mbridge_cycles\u001b[39;49m\u001b[38;5;124;43m\"\u001b[39;49m\u001b[43m]\u001b[49m\u001b[43m]\u001b[49m\u001b[38;5;241;43m.\u001b[39;49m\u001b[43mplot\u001b[49m\u001b[43m(\u001b[49m\u001b[43m)\u001b[49m\n",
      "File \u001b[1;32m~\\AppData\\Roaming\\Python\\Python310\\site-packages\\pandas\\plotting\\_core.py:1000\u001b[0m, in \u001b[0;36mPlotAccessor.__call__\u001b[1;34m(self, *args, **kwargs)\u001b[0m\n\u001b[0;32m    997\u001b[0m             label_name \u001b[38;5;241m=\u001b[39m label_kw \u001b[38;5;129;01mor\u001b[39;00m data\u001b[38;5;241m.\u001b[39mcolumns\n\u001b[0;32m    998\u001b[0m             data\u001b[38;5;241m.\u001b[39mcolumns \u001b[38;5;241m=\u001b[39m label_name\n\u001b[1;32m-> 1000\u001b[0m \u001b[38;5;28;01mreturn\u001b[39;00m plot_backend\u001b[38;5;241m.\u001b[39mplot(data, kind\u001b[38;5;241m=\u001b[39mkind, \u001b[38;5;241m*\u001b[39m\u001b[38;5;241m*\u001b[39mkwargs)\n",
      "File \u001b[1;32m~\\AppData\\Roaming\\Python\\Python310\\site-packages\\pandas\\plotting\\_matplotlib\\__init__.py:71\u001b[0m, in \u001b[0;36mplot\u001b[1;34m(data, kind, **kwargs)\u001b[0m\n\u001b[0;32m     69\u001b[0m         kwargs[\u001b[38;5;124m\"\u001b[39m\u001b[38;5;124max\u001b[39m\u001b[38;5;124m\"\u001b[39m] \u001b[38;5;241m=\u001b[39m \u001b[38;5;28mgetattr\u001b[39m(ax, \u001b[38;5;124m\"\u001b[39m\u001b[38;5;124mleft_ax\u001b[39m\u001b[38;5;124m\"\u001b[39m, ax)\n\u001b[0;32m     70\u001b[0m plot_obj \u001b[38;5;241m=\u001b[39m PLOT_CLASSES[kind](data, \u001b[38;5;241m*\u001b[39m\u001b[38;5;241m*\u001b[39mkwargs)\n\u001b[1;32m---> 71\u001b[0m \u001b[43mplot_obj\u001b[49m\u001b[38;5;241;43m.\u001b[39;49m\u001b[43mgenerate\u001b[49m\u001b[43m(\u001b[49m\u001b[43m)\u001b[49m\n\u001b[0;32m     72\u001b[0m plot_obj\u001b[38;5;241m.\u001b[39mdraw()\n\u001b[0;32m     73\u001b[0m \u001b[38;5;28;01mreturn\u001b[39;00m plot_obj\u001b[38;5;241m.\u001b[39mresult\n",
      "File \u001b[1;32m~\\AppData\\Roaming\\Python\\Python310\\site-packages\\pandas\\plotting\\_matplotlib\\core.py:450\u001b[0m, in \u001b[0;36mMPLPlot.generate\u001b[1;34m(self)\u001b[0m\n\u001b[0;32m    448\u001b[0m \u001b[38;5;28;01mdef\u001b[39;00m \u001b[38;5;21mgenerate\u001b[39m(\u001b[38;5;28mself\u001b[39m) \u001b[38;5;241m-\u001b[39m\u001b[38;5;241m>\u001b[39m \u001b[38;5;28;01mNone\u001b[39;00m:\n\u001b[0;32m    449\u001b[0m     \u001b[38;5;28mself\u001b[39m\u001b[38;5;241m.\u001b[39m_args_adjust()\n\u001b[1;32m--> 450\u001b[0m     \u001b[38;5;28;43mself\u001b[39;49m\u001b[38;5;241;43m.\u001b[39;49m\u001b[43m_compute_plot_data\u001b[49m\u001b[43m(\u001b[49m\u001b[43m)\u001b[49m\n\u001b[0;32m    451\u001b[0m     \u001b[38;5;28mself\u001b[39m\u001b[38;5;241m.\u001b[39m_setup_subplots()\n\u001b[0;32m    452\u001b[0m     \u001b[38;5;28mself\u001b[39m\u001b[38;5;241m.\u001b[39m_make_plot()\n",
      "File \u001b[1;32m~\\AppData\\Roaming\\Python\\Python310\\site-packages\\pandas\\plotting\\_matplotlib\\core.py:635\u001b[0m, in \u001b[0;36mMPLPlot._compute_plot_data\u001b[1;34m(self)\u001b[0m\n\u001b[0;32m    633\u001b[0m \u001b[38;5;66;03m# no non-numeric frames or series allowed\u001b[39;00m\n\u001b[0;32m    634\u001b[0m \u001b[38;5;28;01mif\u001b[39;00m is_empty:\n\u001b[1;32m--> 635\u001b[0m     \u001b[38;5;28;01mraise\u001b[39;00m \u001b[38;5;167;01mTypeError\u001b[39;00m(\u001b[38;5;124m\"\u001b[39m\u001b[38;5;124mno numeric data to plot\u001b[39m\u001b[38;5;124m\"\u001b[39m)\n\u001b[0;32m    637\u001b[0m \u001b[38;5;28mself\u001b[39m\u001b[38;5;241m.\u001b[39mdata \u001b[38;5;241m=\u001b[39m numeric_data\u001b[38;5;241m.\u001b[39mapply(\u001b[38;5;28mself\u001b[39m\u001b[38;5;241m.\u001b[39m_convert_to_ndarray)\n",
      "\u001b[1;31mTypeError\u001b[0m: no numeric data to plot"
     ]
    }
   ],
   "source": [
    "df[[\"firewall_cycles\",\"nf_router_cycles\",\"ndpi_stats_cycles\",\"payload_scan_cycles\",\"bridge_cycles\"]].plot()"
   ]
  },
  {
   "cell_type": "code",
   "execution_count": 90,
   "id": "1333a439",
   "metadata": {},
   "outputs": [],
   "source": [
    "df.to_csv(\"load_stimulus_\"+ exp_ls +\".csv\", sep=',')"
   ]
  },
  {
   "cell_type": "code",
   "execution_count": 91,
   "id": "629b4fa7",
   "metadata": {},
   "outputs": [
    {
     "name": "stderr",
     "output_type": "stream",
     "text": [
      "C:\\Users\\Qiong\\AppData\\Local\\Temp\\ipykernel_24940\\3264640588.py:18: DeprecationWarning: In a future version, `df.iloc[:, i] = newvals` will attempt to set the values inplace instead of always setting a new array. To retain the old behavior, use either `df[df.columns[i]] = newvals` or, if columns are non-unique, `df.isetitem(i, newvals)`\n",
      "  df.loc[:, \"input_rate\"] = fixed_input_rate\n"
     ]
    }
   ],
   "source": [
    "# delete N/A, and delete the first column\n",
    "import pandas as pd\n",
    "\n",
    "def process_csv(input_file, output_file, fixed_input_rate):\n",
    "    # Read CSV file into a DataFrame\n",
    "    df = pd.read_csv(input_file)\n",
    "    \n",
    "    # Drop the first column\n",
    "    df = df.drop(df.columns[0], axis=1)\n",
    "    \n",
    "    # Drop the first two rows\n",
    "    df = df.iloc[2:]\n",
    "    \n",
    "    # Drop the last row\n",
    "    df = df.iloc[:-1]\n",
    "    \n",
    "    # Set the \"input_rate\" column to a fixed value\n",
    "    df.loc[:, \"input_rate\"] = fixed_input_rate\n",
    "    \n",
    "    # Write the processed DataFrame to a new CSV file\n",
    "    df.to_csv(output_file, index=False)\n",
    "   \n",
    "    \n",
    "    \n",
    "process_csv(\"load_stimulus_fixed_rate_7500.csv\", \"load_stimulus_fixed_rate_7500_modified.csv\", 5250)"
   ]
  },
  {
   "cell_type": "code",
   "execution_count": 92,
   "id": "9b4a0021",
   "metadata": {},
   "outputs": [
    {
     "data": {
      "text/plain": [
       "<Axes: >"
      ]
     },
     "execution_count": 92,
     "metadata": {},
     "output_type": "execute_result"
    },
    {
     "data": {
      "image/png": "[encoded data removed]",
      "text/plain": [
       "<Figure size 1280x960 with 1 Axes>"
      ]
     },
     "metadata": {},
     "output_type": "display_data"
    }
   ],
   "source": [
    "df[[\"input_rate\"]].plot()"
   ]
  },
  {
   "cell_type": "code",
   "execution_count": null,
   "id": "05e5b7fe",
   "metadata": {},
   "outputs": [],
   "source": []
  },
  {
   "cell_type": "code",
   "execution_count": null,
   "id": "0731fd06",
   "metadata": {},
   "outputs": [],
   "source": []
  },
  {
   "cell_type": "code",
   "execution_count": null,
   "id": "2e0ff96e",
   "metadata": {},
   "outputs": [],
   "source": []
  },
  {
   "cell_type": "code",
   "execution_count": null,
   "id": "7c7784dd",
   "metadata": {},
   "outputs": [],
   "source": []
  }
 ],
 "metadata": {
  "kernelspec": {
   "display_name": "Python 3 (ipykernel)",
   "language": "python",
   "name": "python3"
  },
  "language_info": {
   "codemirror_mode": {
    "name": "ipython",
    "version": 3
   },
   "file_extension": ".py",
   "mimetype": "text/x-python",
   "name": "python",
   "nbconvert_exporter": "python",
   "pygments_lexer": "ipython3",
   "version": "3.10.9"
  }
 },
 "nbformat": 4,
 "nbformat_minor": 5
}
