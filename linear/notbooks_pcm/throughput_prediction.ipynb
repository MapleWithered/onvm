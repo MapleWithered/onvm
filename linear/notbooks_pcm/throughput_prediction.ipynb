{
 "cells": [
  {
   "cell_type": "code",
   "execution_count": 1,
   "id": "79e2a866",
   "metadata": {},
   "outputs": [],
   "source": [
    "import pandas as pd\n",
    "import numpy as np\n",
    "import matplotlib.pyplot as plt\n",
    "import sys, re, os\n",
    "\n",
    "from sklearn.model_selection import train_test_split\n",
    "from sklearn.tree import DecisionTreeClassifier\n",
    "from sklearn.metrics import accuracy_score, classification_report\n",
    "from sklearn.tree import plot_tree\n",
    "from sklearn.tree import DecisionTreeRegressor\n",
    "from sklearn.metrics import mean_squared_error, r2_score\n",
    "from sklearn.linear_model import LinearRegression\n",
    "from sklearn.tree import DecisionTreeRegressor\n",
    "from sklearn.metrics import mean_absolute_percentage_error\n",
    "from sklearn.utils import shuffle\n",
    "from sklearn.preprocessing import StandardScaler\n",
    "from tensorflow.keras.models import Sequential\n",
    "from tensorflow.keras.layers import Dense\n",
    "from tensorflow.keras.optimizers import Adam\n",
    "from sklearn.ensemble import RandomForestRegressor"
   ]
  },
  {
   "cell_type": "code",
   "execution_count": 2,
   "id": "3618f856",
   "metadata": {},
   "outputs": [],
   "source": [
    "%matplotlib inline\n",
    "\n",
    "plt.rc('font', family='serif')\n",
    "plt.rcParams.update({'font.size': 11})\n",
    "\n",
    "plt.rcParams['figure.dpi'] = 200\n",
    "plt.rcParams['savefig.dpi'] = 300"
   ]
  },
  {
   "cell_type": "code",
   "execution_count": 3,
   "id": "6e96a975",
   "metadata": {},
   "outputs": [],
   "source": [
    "# Change the work directory to the parent\n",
    "try:\n",
    "    if chdir:\n",
    "        pass\n",
    "except:\n",
    "    current_dir = os.getcwd()\n",
    "    os.chdir(current_dir +\"/..\")\n",
    "    os.path.abspath(os.curdir)"
   ]
  },
  {
   "cell_type": "code",
   "execution_count": 4,
   "id": "cede32a9",
   "metadata": {},
   "outputs": [],
   "source": [
    "chdir = True"
   ]
  },
  {
   "cell_type": "code",
   "execution_count": 5,
   "id": "e0f4954b",
   "metadata": {},
   "outputs": [],
   "source": [
    "import itertools\n",
    "marker = itertools.cycle(('x',',', '+', '.', 'o', '*'))\n",
    "cycol = itertools.cycle('bgrcmk')"
   ]
  },
  {
   "cell_type": "markdown",
   "id": "7e30743c",
   "metadata": {},
   "source": [
    "# Service chain configuration"
   ]
  },
  {
   "cell_type": "code",
   "execution_count": 9,
   "id": "07132917",
   "metadata": {
    "scrolled": false
   },
   "outputs": [
    {
     "data": {
      "text/html": [
       "\n",
       "        <iframe\n",
       "            width=\"850\"\n",
       "            height=\"480\"\n",
       "            src=\"../assets/testbed.png\"\n",
       "            frameborder=\"0\"\n",
       "            allowfullscreen\n",
       "            \n",
       "        ></iframe>\n",
       "        "
      ],
      "text/plain": [
       "<IPython.lib.display.IFrame at 0x2518d497c10>"
      ]
     },
     "execution_count": 9,
     "metadata": {},
     "output_type": "execute_result"
    }
   ],
   "source": [
    "from IPython.display import IFrame\n",
    "IFrame(\"../assets/testbed.png\", width=850, height=480)"
   ]
  },
  {
   "cell_type": "code",
   "execution_count": 19,
   "id": "837a58c3",
   "metadata": {},
   "outputs": [
    {
     "name": "stdout",
     "output_type": "stream",
     "text": [
      "<class 'pandas.core.frame.DataFrame'>\n",
      "Int64Index: 1472 entries, 0 to 1471\n",
      "Columns: 169 entries, input_rate to packetsize\n",
      "dtypes: float64(166), int64(1), object(2)\n",
      "memory usage: 1.9+ MB\n"
     ]
    }
   ],
   "source": [
    "current_dir = os.getcwd()\n",
    "file_path = os.path.abspath('../linear/datasets_pcm/random_input_exp-7.csv')\n",
    "\n",
    "data = pd.read_csv(file_path, index_col=0)\n",
    "data = data.replace(['<not counted>'], np.nan)\n",
    "#data = data.dropna()\n",
    "data.info()"
   ]
  },
  {
   "cell_type": "code",
   "execution_count": 26,
   "id": "1b139e06",
   "metadata": {},
   "outputs": [
    {
     "name": "stdout",
     "output_type": "stream",
     "text": [
      "0       0.0\n",
      "1       0.0\n",
      "2       0.0\n",
      "3       0.0\n",
      "4       0.0\n",
      "       ... \n",
      "1467    0.0\n",
      "1468    0.0\n",
      "1469    0.0\n",
      "1470    0.0\n",
      "1471    0.0\n",
      "Name: ndpi_stats-pcm_processed_Socket 0-L3MPI, Length: 1472, dtype: float64\n"
     ]
    }
   ],
   "source": [
    "data[\"ndpi_stats-pcm_processed_Socket 0-L3MPI\"] = data[\"ndpi_stats-pcm_processed_Socket 0-L3MPI\"].astype(float)\n",
    "print(data[\"ndpi_stats-pcm_processed_Socket 0-L3MPI\"])"
   ]
  },
  {
   "cell_type": "code",
   "execution_count": 51,
   "id": "0e18e16a",
   "metadata": {
    "scrolled": false
   },
   "outputs": [
    {
     "name": "stdout",
     "output_type": "stream",
     "text": [
      "Correlation between output_rate and ndpi_stats-pcm_processed_Socket 0-EXEC: 0.74\n",
      "Correlation between output_rate and ndpi_stats-pcm_processed_Socket 0-IPC: 0.78\n",
      "Correlation between output_rate and ndpi_stats-pcm_processed_Socket 0-L2MISS: 0.86\n",
      "Correlation between output_rate and ndpi_stats-pcm_processed_Socket 0-L2MPI: 0.86\n",
      "Correlation between output_rate and ndpi_stats-pcm_processed_Socket 0-WRITE: 0.76\n",
      "Correlation between output_rate and ndpi_stats-pcm_processed_Socket 0-INST: 0.76\n",
      "Correlation between output_rate and ndpi_stats-pcm_processed_Socket 0-PhysIPC: 0.78\n",
      "Correlation between output_rate and ndpi_stats-pcm_processed_Socket 0-PhysIPC%: 0.78\n",
      "Correlation between output_rate and ndpi_stats-pcm_processed_Socket 0-INSTnom: 0.75\n",
      "Correlation between output_rate and ndpi_stats-pcm_processed_Socket 0-INSTnom%: 0.76\n",
      "Correlation between output_rate and ndpi_stats-pcm_processed_Socket 1-L2MISS: 0.80\n",
      "Correlation between output_rate and ndpi_stats-pcm_processed_Socket 1-L2MPI: 0.76\n",
      "Correlation between output_rate and ndpi_stats-pcm_processed_Socket 1-READ: 0.84\n",
      "Correlation between output_rate and ndpi_stats-pcm_processed_DRAM Energy (Joules)-SKT1: 0.79\n",
      "Correlation between output_rate and ndpi_stats-pcm_processed_Core5 (Socket 0)-EXEC: 0.81\n",
      "Correlation between output_rate and ndpi_stats-pcm_processed_Core5 (Socket 0)-IPC: 0.84\n",
      "Correlation between output_rate and ndpi_stats-pcm_processed_Core5 (Socket 0)-L2MISS: 0.86\n",
      "Correlation between output_rate and ndpi_stats-pcm_processed_Core5 (Socket 0)-L2MPI: 0.87\n",
      "Correlation between output_rate and ndpi_stats-pcm_processed_Core5 (Socket 0)-INST: 0.81\n",
      "Correlation between output_rate and ndpi_stats-pcm_processed_Core5 (Socket 0)-PhysIPC: 0.84\n",
      "Correlation between output_rate and ndpi_stats-pcm_processed_Core5 (Socket 0)-PhysIPC%: 0.84\n",
      "Correlation between output_rate and ndpi_stats-pcm_processed_Core5 (Socket 0)-INSTnom: 0.81\n",
      "Correlation between output_rate and ndpi_stats-pcm_processed_Core5 (Socket 0)-INSTnom%: 0.81\n",
      "Correlation between output_rate and pcm-memory_processed_SKT0-Ch0Write: 0.78\n",
      "Correlation between output_rate and pcm-memory_processed_SKT0-Mem Write (MB/s): 0.72\n",
      "Correlation between output_rate and pcm-memory_processed_SKT1-Ch0Read: 0.81\n",
      "Correlation between output_rate and pcm-memory_processed_SKT1-Ch1Read: 0.81\n",
      "Correlation between output_rate and pcm-memory_processed_SKT1-Mem Read (MB/s): 0.81\n",
      "Correlation between output_rate and pcm-memory_processed_SKT1-Memory (MB/s): 0.80\n",
      "Correlation between output_rate and pcm-memory_processed_System-Write: 0.71\n",
      "Correlation between output_rate and tx_stats_PacketRate: 1.00\n",
      "Correlation between output_rate and tx_stats_Mbit: 1.00\n",
      "Correlation between output_rate and tx_stats_MbitWithFraming: 1.00\n",
      "Correlation between output_rate and packetsize: 0.94\n"
     ]
    },
    {
     "name": "stderr",
     "output_type": "stream",
     "text": [
      "C:\\Users\\Qiong\\AppData\\Local\\Temp\\ipykernel_5256\\1263336079.py:1: FutureWarning: The default value of numeric_only in DataFrame.corr is deprecated. In a future version, it will default to False. Select only valid columns or specify the value of numeric_only to silence this warning.\n",
      "  corr = data.corr()\n"
     ]
    }
   ],
   "source": [
    "corr = data.corr()\n",
    "\n",
    "correlation_list = []\n",
    "for i in range(1,2):  # Iterate through all but the last column\n",
    "    for j in range(i+1, len(corr.columns)):  # Compare with subsequent columns\n",
    "        # Only add to the list if absolute correlation is greater than 0.76\n",
    "        if abs(corr.iloc[i, j]) > 0.7:\n",
    "            correlation_list.append((corr.columns[i], corr.columns[j], abs(corr.iloc[i, j])))\n",
    "\n",
    "# No need to sort if you're only interested in correlations greater than 0.76\n",
    "for correlation in correlation_list:\n",
    "    print(f\"Correlation between {correlation[0]} and {correlation[1]}: {correlation[2]:.2f}\")"
   ]
  },
  {
   "cell_type": "code",
   "execution_count": 56,
   "id": "ff6b3fb4",
   "metadata": {},
   "outputs": [
    {
     "name": "stdout",
     "output_type": "stream",
     "text": [
      "['ndpi_stats-pcm_processed_Socket 0-EXEC', 'ndpi_stats-pcm_processed_Socket 0-IPC', 'ndpi_stats-pcm_processed_Socket 0-L2MISS', 'ndpi_stats-pcm_processed_Socket 0-L2MPI', 'ndpi_stats-pcm_processed_Socket 0-WRITE', 'ndpi_stats-pcm_processed_Socket 0-INST', 'ndpi_stats-pcm_processed_Socket 0-PhysIPC', 'ndpi_stats-pcm_processed_Socket 0-PhysIPC%', 'ndpi_stats-pcm_processed_Socket 0-INSTnom', 'ndpi_stats-pcm_processed_Socket 0-INSTnom%', 'ndpi_stats-pcm_processed_Socket 1-L2MISS', 'ndpi_stats-pcm_processed_Socket 1-L2MPI', 'ndpi_stats-pcm_processed_Socket 1-READ', 'ndpi_stats-pcm_processed_DRAM Energy (Joules)-SKT1', 'ndpi_stats-pcm_processed_Core5 (Socket 0)-EXEC', 'ndpi_stats-pcm_processed_Core5 (Socket 0)-IPC', 'ndpi_stats-pcm_processed_Core5 (Socket 0)-L2MISS', 'ndpi_stats-pcm_processed_Core5 (Socket 0)-L2MPI', 'ndpi_stats-pcm_processed_Core5 (Socket 0)-INST', 'ndpi_stats-pcm_processed_Core5 (Socket 0)-PhysIPC', 'ndpi_stats-pcm_processed_Core5 (Socket 0)-PhysIPC%', 'ndpi_stats-pcm_processed_Core5 (Socket 0)-INSTnom', 'ndpi_stats-pcm_processed_Core5 (Socket 0)-INSTnom%', 'pcm-memory_processed_SKT0-Ch0Write', 'pcm-memory_processed_SKT0-Mem Write (MB/s)', 'pcm-memory_processed_SKT1-Ch0Read', 'pcm-memory_processed_SKT1-Ch1Read', 'pcm-memory_processed_SKT1-Mem Read (MB/s)', 'pcm-memory_processed_SKT1-Memory (MB/s)', 'pcm-memory_processed_System-Write']\n"
     ]
    }
   ],
   "source": [
    "# Filter out specific items from the list\n",
    "corr_throughput = [item for item in corr_throughput if item not in [\"tx_stats_Mbit\",\"tx_stats_PacketRate\", \"tx_stats_MbitWithFraming\", \"packetsize\"]]\n",
    "print(corr_throughput)\n"
   ]
  },
  {
   "cell_type": "markdown",
   "id": "08fbb043",
   "metadata": {},
   "source": [
    "# several ML algorithm to predict rate"
   ]
  },
  {
   "cell_type": "code",
   "execution_count": 62,
   "id": "e66b9ad7",
   "metadata": {},
   "outputs": [],
   "source": [
    "#!pip install lightgbm\n",
    "import lightgbm as lgb\n",
    "from sklearn.model_selection import train_test_split\n"
   ]
  },
  {
   "cell_type": "code",
   "execution_count": 79,
   "id": "8e91ef41",
   "metadata": {},
   "outputs": [
    {
     "name": "stdout",
     "output_type": "stream",
     "text": [
      "[LightGBM] [Warning] Found whitespace in feature_names, replace with underlines\n",
      "[LightGBM] [Info] Auto-choosing col-wise multi-threading, the overhead of testing was 0.000705 seconds.\n",
      "You can set `force_col_wise=true` to remove the overhead.\n",
      "[LightGBM] [Info] Total Bins 4654\n",
      "[LightGBM] [Info] Number of data points in the train set: 1030, number of used features: 30\n",
      "[LightGBM] [Info] Start training from score 4667.199406\n",
      "Accuracy within 5% threshold: 42.30769230769231\n",
      "[0.0, 62.66968325791855, 78.50678733031674, 85.52036199095022, 89.36651583710407, 92.53393665158372, 94.11764705882352, 95.47511312217195, 95.92760180995475, 96.38009049773756, 96.83257918552036]\n"
     ]
    }
   ],
   "source": [
    "# training  \n",
    "\n",
    "X = data[corr_throughput]\n",
    "y = data['output_rate']\n",
    "\n",
    "X_train, X_test, y_train, y_test = train_test_split(X, y, test_size=0.3, random_state=0)\n",
    "\n",
    "# ML model\n",
    "#model = DecisionTreeRegressor(random_state=0)\n",
    "model = lgb.LGBMRegressor(random_state=0)\n",
    "#model = LinearRegression()\n",
    "#model = RandomForestRegressor(n_estimators=100, random_state=42)\n",
    "\n",
    "# train the regressor\n",
    "model.fit(X_train, y_train)\n",
    "y_pred = model.predict(X_test)\n",
    "\n",
    "\n",
    "# Evaluate\n",
    "mse = mean_squared_error(y_test, y_pred)\n",
    "r2 = r2_score(y_test, y_pred)\n",
    "\n",
    "#accuracy\n",
    "threshold = 0.05 \n",
    "distances = [abs(real - pred) / real for real, pred in zip(y_test.values.tolist(), y_pred)]\n",
    "accuracy_within_threshold = sum(dist <= threshold for dist in distances) / len(distances) * 100\n",
    "print(\"Accuracy within 5% threshold:\", accuracy_within_threshold)\n",
    "\n",
    "\n",
    "accuracy_cdf=[]\n",
    "for threshold in range(11):\n",
    "    threshold = threshold/10\n",
    "    distances = [abs(real - pred) / real for real, pred in zip(y_test.values.tolist(), y_pred)]\n",
    "    accuracy_within_threshold = sum(dist <= threshold for dist in distances) / len(distances) * 100\n",
    "    accuracy_cdf.append(accuracy_within_threshold)\n",
    "print(accuracy_cdf)"
   ]
  },
  {
   "cell_type": "markdown",
   "id": "3c479755",
   "metadata": {},
   "source": [
    "# ANN to predict throughput (training set: random_set_7)"
   ]
  },
  {
   "cell_type": "code",
   "execution_count": 80,
   "id": "ae75561c",
   "metadata": {},
   "outputs": [
    {
     "name": "stdout",
     "output_type": "stream",
     "text": [
      "1472\n"
     ]
    }
   ],
   "source": [
    "X_train, X_test, y_train, y_test = train_test_split(X, y, test_size=0.3, random_state=0)\n",
    "\n",
    "column_order = X_train.columns\n",
    "X_test = X_test[column_order]\n",
    "\n",
    "\n",
    "# Standardize the features\n",
    "scaler = StandardScaler()\n",
    "X_train = scaler.fit_transform(X_train)\n",
    "X_test = scaler.transform(X_test)\n",
    "print(len(y))"
   ]
  },
  {
   "cell_type": "code",
   "execution_count": 81,
   "id": "9d8c314a",
   "metadata": {},
   "outputs": [],
   "source": [
    "# model\n",
    "model = Sequential()\n",
    "\n",
    "# Add input layer and hidden layers\n",
    "model.add(Dense(32, activation='relu', input_shape=(X_train.shape[1],)))\n",
    "model.add(Dense(32, activation='relu'))\n",
    "model.add(Dense(32, activation='relu'))\n",
    "# Add output layer\n",
    "model.add(Dense(1))"
   ]
  },
  {
   "cell_type": "code",
   "execution_count": 82,
   "id": "887af6db",
   "metadata": {
    "scrolled": true
   },
   "outputs": [
    {
     "name": "stdout",
     "output_type": "stream",
     "text": [
      "Epoch 1/100\n",
      "258/258 [==============================] - 1s 2ms/step - loss: 7067421.0000\n",
      "Epoch 2/100\n",
      "258/258 [==============================] - 0s 2ms/step - loss: 1114293.2500\n",
      "Epoch 3/100\n",
      "258/258 [==============================] - 0s 2ms/step - loss: 814771.1250\n",
      "Epoch 4/100\n",
      "258/258 [==============================] - 0s 2ms/step - loss: 870919.1250\n",
      "Epoch 5/100\n",
      "258/258 [==============================] - 0s 2ms/step - loss: 822560.1250\n",
      "Epoch 6/100\n",
      "258/258 [==============================] - 0s 2ms/step - loss: 795622.8750\n",
      "Epoch 7/100\n",
      "258/258 [==============================] - 1s 2ms/step - loss: 837040.8750\n",
      "Epoch 8/100\n",
      "258/258 [==============================] - 1s 3ms/step - loss: 834196.1250\n",
      "Epoch 9/100\n",
      "258/258 [==============================] - 0s 2ms/step - loss: 786785.1250\n",
      "Epoch 10/100\n",
      "258/258 [==============================] - 0s 2ms/step - loss: 789878.4375\n",
      "Epoch 11/100\n",
      "258/258 [==============================] - 1s 3ms/step - loss: 827112.5625\n",
      "Epoch 12/100\n",
      "258/258 [==============================] - 1s 2ms/step - loss: 793193.8125\n",
      "Epoch 13/100\n",
      "258/258 [==============================] - 1s 2ms/step - loss: 769095.8750\n",
      "Epoch 14/100\n",
      "258/258 [==============================] - 0s 2ms/step - loss: 830098.4375\n",
      "Epoch 15/100\n",
      "258/258 [==============================] - 1s 2ms/step - loss: 755232.6875\n",
      "Epoch 16/100\n",
      "258/258 [==============================] - 0s 2ms/step - loss: 834929.3750\n",
      "Epoch 17/100\n",
      "258/258 [==============================] - 1s 2ms/step - loss: 793489.6250\n",
      "Epoch 18/100\n",
      "258/258 [==============================] - 1s 2ms/step - loss: 779233.0625\n",
      "Epoch 19/100\n",
      "258/258 [==============================] - 1s 3ms/step - loss: 827903.9375\n",
      "Epoch 20/100\n",
      "258/258 [==============================] - 1s 2ms/step - loss: 778141.4375\n",
      "Epoch 21/100\n",
      "258/258 [==============================] - 1s 2ms/step - loss: 803624.3750\n",
      "Epoch 22/100\n",
      "258/258 [==============================] - 1s 2ms/step - loss: 771909.4375\n",
      "Epoch 23/100\n",
      "258/258 [==============================] - 1s 2ms/step - loss: 760279.4375\n",
      "Epoch 24/100\n",
      "258/258 [==============================] - 0s 2ms/step - loss: 803802.2500\n",
      "Epoch 25/100\n",
      "258/258 [==============================] - 0s 1ms/step - loss: 757670.2500\n",
      "Epoch 26/100\n",
      "258/258 [==============================] - 0s 1ms/step - loss: 759162.6250\n",
      "Epoch 27/100\n",
      "258/258 [==============================] - 0s 1ms/step - loss: 753082.0625\n",
      "Epoch 28/100\n",
      "258/258 [==============================] - 0s 1ms/step - loss: 740668.4375\n",
      "Epoch 29/100\n",
      "258/258 [==============================] - 0s 1ms/step - loss: 763339.6875\n",
      "Epoch 30/100\n",
      "258/258 [==============================] - 0s 1ms/step - loss: 781776.5000\n",
      "Epoch 31/100\n",
      "258/258 [==============================] - 0s 1ms/step - loss: 760959.4375\n",
      "Epoch 32/100\n",
      "258/258 [==============================] - 0s 2ms/step - loss: 801382.5000\n",
      "Epoch 33/100\n",
      "258/258 [==============================] - 1s 2ms/step - loss: 750103.4375\n",
      "Epoch 34/100\n",
      "258/258 [==============================] - 1s 2ms/step - loss: 776237.5625\n",
      "Epoch 35/100\n",
      "258/258 [==============================] - 1s 2ms/step - loss: 775139.2500\n",
      "Epoch 36/100\n",
      "258/258 [==============================] - 1s 2ms/step - loss: 752344.8125\n",
      "Epoch 37/100\n",
      "258/258 [==============================] - 1s 2ms/step - loss: 781453.1250\n",
      "Epoch 38/100\n",
      "258/258 [==============================] - 0s 1ms/step - loss: 744832.3125\n",
      "Epoch 39/100\n",
      "258/258 [==============================] - 0s 1ms/step - loss: 736519.1250\n",
      "Epoch 40/100\n",
      "258/258 [==============================] - 0s 2ms/step - loss: 799989.1875\n",
      "Epoch 41/100\n",
      "258/258 [==============================] - 0s 1ms/step - loss: 778658.0000\n",
      "Epoch 42/100\n",
      "258/258 [==============================] - 0s 2ms/step - loss: 788640.9375\n",
      "Epoch 43/100\n",
      "258/258 [==============================] - 0s 2ms/step - loss: 758245.1875\n",
      "Epoch 44/100\n",
      "258/258 [==============================] - 0s 2ms/step - loss: 794061.6250\n",
      "Epoch 45/100\n",
      "258/258 [==============================] - 0s 2ms/step - loss: 818186.6250\n",
      "Epoch 46/100\n",
      "258/258 [==============================] - 1s 3ms/step - loss: 725091.1875\n",
      "Epoch 47/100\n",
      "258/258 [==============================] - 1s 2ms/step - loss: 753794.3750\n",
      "Epoch 48/100\n",
      "258/258 [==============================] - 1s 2ms/step - loss: 741078.0000\n",
      "Epoch 49/100\n",
      "258/258 [==============================] - 1s 2ms/step - loss: 728006.8750\n",
      "Epoch 50/100\n",
      "258/258 [==============================] - 1s 2ms/step - loss: 770896.3750\n",
      "Epoch 51/100\n",
      "258/258 [==============================] - 0s 2ms/step - loss: 772318.0000\n",
      "Epoch 52/100\n",
      "258/258 [==============================] - 0s 2ms/step - loss: 741021.5000\n",
      "Epoch 53/100\n",
      "258/258 [==============================] - 1s 2ms/step - loss: 746323.1250\n",
      "Epoch 54/100\n",
      "258/258 [==============================] - 0s 2ms/step - loss: 779113.4375\n",
      "Epoch 55/100\n",
      "258/258 [==============================] - 1s 3ms/step - loss: 749686.9375\n",
      "Epoch 56/100\n",
      "258/258 [==============================] - 1s 4ms/step - loss: 729741.9375\n",
      "Epoch 57/100\n",
      "258/258 [==============================] - 1s 3ms/step - loss: 744481.1875\n",
      "Epoch 58/100\n",
      "258/258 [==============================] - 1s 3ms/step - loss: 752036.8750\n",
      "Epoch 59/100\n",
      "258/258 [==============================] - 1s 3ms/step - loss: 685657.6875\n",
      "Epoch 60/100\n",
      "258/258 [==============================] - 1s 3ms/step - loss: 718898.7500\n",
      "Epoch 61/100\n",
      "258/258 [==============================] - 1s 3ms/step - loss: 712829.4375\n",
      "Epoch 62/100\n",
      "258/258 [==============================] - 1s 3ms/step - loss: 732080.0000\n",
      "Epoch 63/100\n",
      "258/258 [==============================] - 1s 2ms/step - loss: 704886.1250\n",
      "Epoch 64/100\n",
      "258/258 [==============================] - 1s 2ms/step - loss: 700416.6250\n",
      "Epoch 65/100\n",
      "258/258 [==============================] - 1s 2ms/step - loss: 699852.2500\n",
      "Epoch 66/100\n",
      "258/258 [==============================] - 1s 2ms/step - loss: 740561.6875\n",
      "Epoch 67/100\n",
      "258/258 [==============================] - 1s 3ms/step - loss: 717764.0000\n",
      "Epoch 68/100\n",
      "258/258 [==============================] - 1s 3ms/step - loss: 715438.1250\n",
      "Epoch 69/100\n",
      "258/258 [==============================] - 1s 3ms/step - loss: 739993.1875\n",
      "Epoch 70/100\n",
      "258/258 [==============================] - 1s 3ms/step - loss: 704919.1875\n",
      "Epoch 71/100\n",
      "258/258 [==============================] - 1s 2ms/step - loss: 700020.8125\n",
      "Epoch 72/100\n",
      "258/258 [==============================] - 1s 2ms/step - loss: 712068.0000\n",
      "Epoch 73/100\n",
      "258/258 [==============================] - 1s 2ms/step - loss: 734477.8125\n",
      "Epoch 74/100\n",
      "258/258 [==============================] - 1s 3ms/step - loss: 686210.3750\n",
      "Epoch 75/100\n",
      "258/258 [==============================] - 1s 3ms/step - loss: 667039.6250\n",
      "Epoch 76/100\n",
      "258/258 [==============================] - 1s 3ms/step - loss: 717838.1875\n",
      "Epoch 77/100\n",
      "258/258 [==============================] - 1s 3ms/step - loss: 732314.3125\n",
      "Epoch 78/100\n",
      "258/258 [==============================] - 1s 3ms/step - loss: 707163.7500\n",
      "Epoch 79/100\n",
      "258/258 [==============================] - 1s 2ms/step - loss: 673379.3125\n",
      "Epoch 80/100\n",
      "258/258 [==============================] - 1s 2ms/step - loss: 682720.5625\n",
      "Epoch 81/100\n",
      "258/258 [==============================] - 1s 2ms/step - loss: 743490.6250\n",
      "Epoch 82/100\n",
      "258/258 [==============================] - 1s 2ms/step - loss: 693985.5625\n",
      "Epoch 83/100\n",
      "258/258 [==============================] - 1s 3ms/step - loss: 702009.6875\n",
      "Epoch 84/100\n",
      "258/258 [==============================] - 1s 3ms/step - loss: 721570.1250\n",
      "Epoch 85/100\n",
      "258/258 [==============================] - 1s 3ms/step - loss: 667063.1875\n",
      "Epoch 86/100\n",
      "258/258 [==============================] - 1s 3ms/step - loss: 703975.8750\n",
      "Epoch 87/100\n",
      "258/258 [==============================] - 1s 3ms/step - loss: 692910.1875\n",
      "Epoch 88/100\n",
      "258/258 [==============================] - 1s 3ms/step - loss: 670472.0625\n",
      "Epoch 89/100\n",
      "258/258 [==============================] - 1s 5ms/step - loss: 688140.9375\n",
      "Epoch 90/100\n",
      "258/258 [==============================] - 1s 2ms/step - loss: 665015.0000\n",
      "Epoch 91/100\n",
      "258/258 [==============================] - 1s 2ms/step - loss: 684332.5625\n",
      "Epoch 92/100\n",
      "258/258 [==============================] - 1s 3ms/step - loss: 693863.1250\n",
      "Epoch 93/100\n",
      "258/258 [==============================] - 1s 3ms/step - loss: 668345.2500\n",
      "Epoch 94/100\n"
     ]
    },
    {
     "name": "stdout",
     "output_type": "stream",
     "text": [
      "258/258 [==============================] - 1s 3ms/step - loss: 688153.8125\n",
      "Epoch 95/100\n",
      "258/258 [==============================] - 1s 3ms/step - loss: 648737.8125\n",
      "Epoch 96/100\n",
      "258/258 [==============================] - 1s 2ms/step - loss: 651009.3125\n",
      "Epoch 97/100\n",
      "258/258 [==============================] - 1s 2ms/step - loss: 689911.1250\n",
      "Epoch 98/100\n",
      "258/258 [==============================] - 1s 2ms/step - loss: 672066.3750\n",
      "Epoch 99/100\n",
      "258/258 [==============================] - 1s 2ms/step - loss: 626487.2500\n",
      "Epoch 100/100\n",
      "258/258 [==============================] - 1s 3ms/step - loss: 654719.2500\n"
     ]
    },
    {
     "data": {
      "text/plain": [
       "<keras.callbacks.History at 0x251e1b3d0c0>"
      ]
     },
     "execution_count": 82,
     "metadata": {},
     "output_type": "execute_result"
    }
   ],
   "source": [
    "# Compile the model\n",
    "model.compile(optimizer=Adam(learning_rate=0.01), loss='mean_squared_error')\n",
    "model.fit(X_train, y_train, batch_size=4, epochs=100, verbose=1)"
   ]
  },
  {
   "cell_type": "code",
   "execution_count": 77,
   "id": "37bbd530",
   "metadata": {
    "scrolled": false
   },
   "outputs": [
    {
     "name": "stdout",
     "output_type": "stream",
     "text": [
      "14/14 [==============================] - 0s 3ms/step\n",
      "[0.0, 65.38461538461539, 83.0316742081448, 88.68778280542986, 91.8552036199095, 93.66515837104072, 95.24886877828054, 95.47511312217195, 95.70135746606336, 95.92760180995475, 96.38009049773756]\n"
     ]
    },
    {
     "data": {
      "image/png": "[encoded data removed]",
      "text/plain": [
       "<Figure size 640x480 with 1 Axes>"
      ]
     },
     "metadata": {},
     "output_type": "display_data"
    }
   ],
   "source": [
    "# Make predictions on the test set\n",
    "import matplotlib.ticker as mticker\n",
    "\n",
    "y_pred = model.predict(X_test)\n",
    "mse = mean_squared_error(y_test, y_pred)\n",
    "r2 = r2_score(y_test, y_pred)\n",
    "\n",
    "# accuracy\n",
    "threshold = 0.05  \n",
    "y_pred=np.array(y_pred)\n",
    "y_pred = [item for subset in y_pred for item in subset]\n",
    "y_test=np.array(y_test)\n",
    "distances = [abs(real - pred) / real for real, pred in zip(y_test, y_pred)]\n",
    "accuracy_within_threshold = sum(dist <= threshold for dist in distances) / len(distances) * 100\n",
    "accuracy_cdf=[]\n",
    "# plot cdf of accurancy\n",
    "for threshold in range(11):\n",
    "    threshold = threshold/10\n",
    "    distances = [abs(real - pred) / real for real, pred in zip(y_test, y_pred)]\n",
    "    accuracy_within_threshold = sum(dist <= threshold for dist in distances) / len(distances) * 100\n",
    "    accuracy_cdf.append(accuracy_within_threshold)\n",
    "print(accuracy_cdf)\n",
    "\n",
    "# plot\n",
    "\n",
    "fig, ax = plt.subplots(facecolor='white', figsize=(8,6))\n",
    "#ax.set_facecolor('white')\n",
    "plt.style.use('classic')\n",
    "\n",
    "plt.plot(y_pred[0:100], marker='o',c='r',markersize = 2, linewidth = 0.8, linestyle='-', markeredgecolor='red', dashes=(5, 3),label='Prediction')\n",
    "plt.plot(y_test.tolist()[0:100], c='b',linestyle='-',linewidth = 0.8,label='Real data')\n",
    "\n",
    "\n",
    "plt.legend(loc=\"upper right\", fontsize=8)\n",
    "fig.text(0.5, 0.01, 'Series', size='12', ha='center')\n",
    "fig.text(0.01, 0.5, 'Values', size='12', va='center', rotation='vertical')\n",
    "plt.subplots_adjust(left=0.12, right=0.9, bottom=0.15, top=0.9, wspace=0.3, hspace=0.4)\n",
    "#plt.grid()\n",
    "ax.set_facecolor('white')\n",
    "\n",
    "# Set y-axis tick format\n",
    "formatter = mticker.FuncFormatter(lambda x, pos: f\"{int(x/1000)}\")\n",
    "ax.yaxis.set_major_formatter(formatter)\n",
    "# Set text in the upper left corner of the figure\n",
    "fig.text(0.12, 0.98, '1e3', size='12', ha='left', va='top')\n",
    "\n",
    "#save figure\n",
    "#folder_path = 'figure/rate_prediction'\n",
    "#if not os.path.exists(folder_path):\n",
    "#    os.makedirs(folder_path)\n",
    "#file_path = os.path.join(folder_path, 'accuracy-linear.pdf' )\n",
    "#plt.savefig(file_path)\n",
    "\n",
    "plt.show()\n"
   ]
  },
  {
   "cell_type": "markdown",
   "id": "cf24a1f6",
   "metadata": {},
   "source": [
    "# K-fold cross over"
   ]
  },
  {
   "cell_type": "code",
   "execution_count": 86,
   "id": "c5f18c1c",
   "metadata": {},
   "outputs": [],
   "source": [
    "from sklearn.model_selection import KFold\n",
    "import numpy as np\n",
    "from keras.models import Sequential\n",
    "from keras.layers import Dense\n",
    "import pandas as pd\n",
    "\n",
    "def create_model(input_shape):\n",
    "    model = Sequential()\n",
    "    model.add(Dense(32, activation='relu', input_shape=(input_shape,)))\n",
    "    model.add(Dense(32, activation='relu'))\n",
    "    model.add(Dense(32, activation='relu'))\n",
    "    model.add(Dense(1))\n",
    "    model.compile(optimizer='adam', loss='mean_squared_error')\n",
    "    return model\n",
    "\n",
    "kf = KFold(n_splits=5, shuffle=True, random_state=0)  # 5-fold\n",
    "\n",
    "scores = []\n",
    "\n",
    "for train_index, test_index in kf.split(X):\n",
    "    X_train, X_test = X.iloc[train_index], X.iloc[test_index]\n",
    "    y_train, y_test = y.iloc[train_index], y.iloc[test_index]\n",
    "\n",
    "    \n",
    "    model = create_model(X_train.shape[1])\n",
    "    \n",
    "    model.fit(X_train, y_train, epochs=100, batch_size=10, verbose=0)\n",
    "    \n",
    "  #  scores.append(model.evaluate(X_test, y_test, verbose=0))\n",
    "\n",
    "#print(\"平均分数：\", np.mean(scores))\n"
   ]
  },
  {
   "cell_type": "code",
   "execution_count": 87,
   "id": "b20163e6",
   "metadata": {},
   "outputs": [
    {
     "name": "stdout",
     "output_type": "stream",
     "text": [
      "10/10 [==============================] - 0s 2ms/step\n",
      "[0.0, 59.183673469387756, 76.19047619047619, 84.6938775510204, 89.79591836734694, 92.51700680272108, 95.91836734693877, 97.61904761904762, 98.29931972789116, 98.29931972789116, 98.29931972789116]\n"
     ]
    },
    {
     "data": {
      "image/png": "[encoded data removed]",
      "text/plain": [
       "<Figure size 640x480 with 1 Axes>"
      ]
     },
     "metadata": {},
     "output_type": "display_data"
    }
   ],
   "source": [
    "# Make predictions on the test set\n",
    "import matplotlib.ticker as mticker\n",
    "\n",
    "y_pred = model.predict(X_test)\n",
    "mse = mean_squared_error(y_test, y_pred)\n",
    "r2 = r2_score(y_test, y_pred)\n",
    "\n",
    "# accuracy\n",
    "threshold = 0.05  \n",
    "y_pred=np.array(y_pred)\n",
    "y_pred = [item for subset in y_pred for item in subset]\n",
    "y_test=np.array(y_test)\n",
    "distances = [abs(real - pred) / real for real, pred in zip(y_test, y_pred)]\n",
    "accuracy_within_threshold = sum(dist <= threshold for dist in distances) / len(distances) * 100\n",
    "accuracy_cdf=[]\n",
    "# plot cdf of accurancy\n",
    "for threshold in range(11):\n",
    "    threshold = threshold/10\n",
    "    distances = [abs(real - pred) / real for real, pred in zip(y_test, y_pred)]\n",
    "    accuracy_within_threshold = sum(dist <= threshold for dist in distances) / len(distances) * 100\n",
    "    accuracy_cdf.append(accuracy_within_threshold)\n",
    "print(accuracy_cdf)\n",
    "\n",
    "# plot\n",
    "\n",
    "fig, ax = plt.subplots(facecolor='white', figsize=(8,6))\n",
    "#ax.set_facecolor('white')\n",
    "plt.style.use('classic')\n",
    "\n",
    "plt.plot(y_pred[0:100], marker='o',c='r',markersize = 2, linewidth = 0.8, linestyle='-', markeredgecolor='red', dashes=(5, 3),label='Prediction')\n",
    "plt.plot(y_test.tolist()[0:100], c='b',linestyle='-',linewidth = 0.8,label='Real data')\n",
    "\n",
    "\n",
    "plt.legend(loc=\"upper right\", fontsize=8)\n",
    "fig.text(0.5, 0.01, 'Series', size='12', ha='center')\n",
    "fig.text(0.01, 0.5, 'Values', size='12', va='center', rotation='vertical')\n",
    "plt.subplots_adjust(left=0.12, right=0.9, bottom=0.15, top=0.9, wspace=0.3, hspace=0.4)\n",
    "#plt.grid()\n",
    "ax.set_facecolor('white')\n",
    "\n",
    "# Set y-axis tick format\n",
    "formatter = mticker.FuncFormatter(lambda x, pos: f\"{int(x/1000)}\")\n",
    "ax.yaxis.set_major_formatter(formatter)\n",
    "# Set text in the upper left corner of the figure\n",
    "fig.text(0.12, 0.98, '1e3', size='12', ha='left', va='top')\n",
    "\n",
    "#save figure\n",
    "#folder_path = 'figure/rate_prediction'\n",
    "#if not os.path.exists(folder_path):\n",
    "#    os.makedirs(folder_path)\n",
    "#file_path = os.path.join(folder_path, 'accuracy-linear.pdf' )\n",
    "#plt.savefig(file_path)\n",
    "\n",
    "plt.show()\n"
   ]
  },
  {
   "cell_type": "markdown",
   "id": "b3a0f3b4",
   "metadata": {},
   "source": [
    "# RNN"
   ]
  },
  {
   "cell_type": "code",
   "execution_count": 88,
   "id": "4722c300",
   "metadata": {},
   "outputs": [],
   "source": [
    "from keras.models import Sequential\n",
    "from keras.layers import LSTM, Dense\n",
    "import numpy as np"
   ]
  },
  {
   "cell_type": "code",
   "execution_count": 91,
   "id": "22430eff",
   "metadata": {
    "scrolled": true
   },
   "outputs": [
    {
     "ename": "ValueError",
     "evalue": "cannot reshape array of size 30900 into shape (1030,1,1)",
     "output_type": "error",
     "traceback": [
      "\u001b[1;31m---------------------------------------------------------------------------\u001b[0m",
      "\u001b[1;31mValueError\u001b[0m                                Traceback (most recent call last)",
      "Cell \u001b[1;32mIn[91], line 20\u001b[0m\n\u001b[0;32m     17\u001b[0m y_test_np \u001b[38;5;241m=\u001b[39m y_test_seq\u001b[38;5;241m.\u001b[39mto_numpy()\n\u001b[0;32m     19\u001b[0m \u001b[38;5;66;03m# Assuming the scaling and splitting have been done as previously described\u001b[39;00m\n\u001b[1;32m---> 20\u001b[0m X_train \u001b[38;5;241m=\u001b[39m \u001b[43mX_train_np\u001b[49m\u001b[38;5;241;43m.\u001b[39;49m\u001b[43mreshape\u001b[49m\u001b[43m(\u001b[49m\u001b[43m(\u001b[49m\u001b[43mX_train\u001b[49m\u001b[38;5;241;43m.\u001b[39;49m\u001b[43mshape\u001b[49m\u001b[43m[\u001b[49m\u001b[38;5;241;43m0\u001b[39;49m\u001b[43m]\u001b[49m\u001b[43m,\u001b[49m\u001b[43m \u001b[49m\u001b[38;5;241;43m1\u001b[39;49m\u001b[43m,\u001b[49m\u001b[43m \u001b[49m\u001b[43mX_train\u001b[49m\u001b[38;5;241;43m.\u001b[39;49m\u001b[43mshape\u001b[49m\u001b[43m[\u001b[49m\u001b[38;5;241;43m1\u001b[39;49m\u001b[43m]\u001b[49m\u001b[43m)\u001b[49m\u001b[43m)\u001b[49m\n\u001b[0;32m     21\u001b[0m X_test \u001b[38;5;241m=\u001b[39m X_test_np\u001b[38;5;241m.\u001b[39mreshape((X_test\u001b[38;5;241m.\u001b[39mshape[\u001b[38;5;241m0\u001b[39m], \u001b[38;5;241m1\u001b[39m, X_test\u001b[38;5;241m.\u001b[39mshape[\u001b[38;5;241m1\u001b[39m]))\n\u001b[0;32m     24\u001b[0m \u001b[38;5;66;03m# train the regressor\u001b[39;00m\n",
      "\u001b[1;31mValueError\u001b[0m: cannot reshape array of size 30900 into shape (1030,1,1)"
     ]
    }
   ],
   "source": [
    "# training  \n",
    "\n",
    "X = data[corr_throughput]\n",
    "y = data['output_rate']\n",
    "\n",
    "# Define the split point\n",
    "split_point = int(len(X) * 0.7)  # For a 70-30 split\n",
    "\n",
    "# Split the data sequentially\n",
    "X_train_seq = X.iloc[:split_point]\n",
    "X_test_seq = X.iloc[split_point:]\n",
    "y_train_seq = y.iloc[:split_point]\n",
    "y_test_seq = y.iloc[split_point:]\n",
    "X_train_np = X_train_seq.to_numpy().reshape((X_train_seq.shape[0], 1, X_train_seq.shape[1]))\n",
    "X_test_np = X_test_seq.to_numpy().reshape((X_test_seq.shape[0], 1, X_test_seq.shape[1]))\n",
    "y_train_np = y_train_seq.to_numpy()\n",
    "y_test_np = y_test_seq.to_numpy()\n",
    "\n",
    "# Assuming the scaling and splitting have been done as previously described\n",
    "X_train = X_train_np.reshape((X_train.shape[0], 1, X_train.shape[1]))\n",
    "X_test = X_test_np.reshape((X_test.shape[0], 1, X_test.shape[1]))\n",
    "\n",
    "\n",
    "# train the regressor\n",
    "model = Sequential()\n",
    "model.add(LSTM(50, activation='relu', input_shape=(1, X_train.shape[2])))  # 1 time step\n",
    "model.add(Dense(1))\n",
    "model.compile(optimizer='adam', loss='mean_squared_error')\n",
    "model.fit(X_train, y_train, epochs=100, batch_size=32, verbose=2)\n",
    "\n",
    "y_pred_scaled = model.predict(X_test)\n",
    "\n",
    "# Evaluate\n",
    "# Assuming y_pred_scaled and y_test are scaled predictions and targets\n",
    "scaler_y = MinMaxScaler()\n",
    "y_scaled = scaler_y.fit_transform(y_test_np.values.reshape(-1, 1))\n",
    "y_pred = scaler_y.inverse_transform(y_pred_scaled)  # Inverse transform predictions\n",
    "y_test_original = scaler_y.inverse_transform(y_test_np.reshape(-1, 1))  # Inverse transform true targets if scaled\n",
    "\n",
    "mse = mean_squared_error(y_test_original, y_pred)\n",
    "r2 = r2_score(y_test_original, y_pred)\n",
    "\n",
    "#accuracy\n",
    "threshold = 0.05 \n",
    "distances = [abs(real - pred) / real for real, pred in zip(y_test.values.tolist(), y_pred)]\n",
    "accuracy_within_threshold = sum(dist <= threshold for dist in distances) / len(distances) * 100\n",
    "print(\"Accuracy within 5% threshold:\", accuracy_within_threshold)\n",
    "\n",
    "\n",
    "accuracy_cdf=[]\n",
    "for threshold in range(11):\n",
    "    threshold = threshold/10\n",
    "    distances = [abs(real - pred) / real for real, pred in zip(y_test.values.tolist(), y_pred)]\n",
    "    accuracy_within_threshold = sum(dist <= threshold for dist in distances) / len(distances) * 100\n",
    "    accuracy_cdf.append(accuracy_within_threshold)\n",
    "print(accuracy_cdf)"
   ]
  },
  {
   "cell_type": "code",
   "execution_count": null,
   "id": "9a04b299",
   "metadata": {},
   "outputs": [],
   "source": []
  }
 ],
 "metadata": {
  "kernelspec": {
   "display_name": "Python 3 (ipykernel)",
   "language": "python",
   "name": "python3"
  },
  "language_info": {
   "codemirror_mode": {
    "name": "ipython",
    "version": 3
   },
   "file_extension": ".py",
   "mimetype": "text/x-python",
   "name": "python",
   "nbconvert_exporter": "python",
   "pygments_lexer": "ipython3",
   "version": "3.10.9"
  }
 },
 "nbformat": 4,
 "nbformat_minor": 5
}
