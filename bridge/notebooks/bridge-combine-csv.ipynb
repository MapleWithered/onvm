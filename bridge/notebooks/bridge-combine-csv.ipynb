{
 "cells": [
  {
   "cell_type": "code",
   "execution_count": 4,
   "id": "db4fe776",
   "metadata": {},
   "outputs": [],
   "source": [
    "import os\n",
    "import pandas as pd\n",
    "import numpy as np\n",
    "import matplotlib.pyplot as plt"
   ]
  },
  {
   "cell_type": "code",
   "execution_count": 5,
   "id": "a02d678a",
   "metadata": {},
   "outputs": [],
   "source": [
    "file_names = []\n",
    "for i in range(1, 11):\n",
    "    item = 'load_stimulus_exp-{}.csv'.format(i)\n",
    "    file_names.append(item)\n",
    "\n",
    "folder_path = os.path.abspath(os.path.join(\"../datasets\"))\n",
    "load_stimulus_global = pd.DataFrame()\n",
    "\n",
    "for file_name in file_names:\n",
    "    file_path = os.path.join(folder_path, file_name)\n",
    "    df = pd.read_csv(file_path)\n",
    "    load_stimulus_global = pd.concat([load_stimulus_global, df], ignore_index=True)\n",
    "\n",
    "# Save the combined DataFrame as a new CSV file\n",
    "abs_path = os.path.join(\"..\\\\datasets\", 'load_stimulus_global.csv')\n",
    "load_stimulus_global.to_csv(abs_path, index=False)\n"
   ]
  },
  {
   "cell_type": "code",
   "execution_count": 6,
   "id": "e4dc561c",
   "metadata": {},
   "outputs": [
    {
     "name": "stdout",
     "output_type": "stream",
     "text": [
      "<class 'pandas.core.frame.DataFrame'>\n",
      "Int64Index: 7793 entries, 0 to 1018\n",
      "Data columns (total 19 columns):\n",
      " #   Column                        Non-Null Count  Dtype  \n",
      "---  ------                        --------------  -----  \n",
      " 0   input_rate                    7793 non-null   float64\n",
      " 1   output_rate                   7793 non-null   float64\n",
      " 2   latency                       7793 non-null   float64\n",
      " 3   bridge_instructions           7793 non-null   float64\n",
      " 4   bridge_branches               7793 non-null   float64\n",
      " 5   bridge_branch-misses          7793 non-null   float64\n",
      " 6   bridge_branch-load-misses     7793 non-null   float64\n",
      " 7   bridge_cache-misses           7793 non-null   float64\n",
      " 8   bridge_cache-references       7793 non-null   float64\n",
      " 9   bridge_cycles                 7793 non-null   float64\n",
      " 10  bridge_L1-dcache-load-misses  7793 non-null   float64\n",
      " 11  bridge_L1-dcache-loads        7793 non-null   float64\n",
      " 12  bridge_LLC-load-misses        7793 non-null   float64\n",
      " 13  bridge_LLC-stores             7793 non-null   float64\n",
      " 14  bridge_LLC-loads              7793 non-null   float64\n",
      " 15  bridge_mem-stores             7793 non-null   float64\n",
      " 16  bridge_iTLB-loads             7793 non-null   float64\n",
      " 17  bridge_mem-loads              7793 non-null   float64\n",
      " 18  bridge_bus-cycles             7793 non-null   float64\n",
      "dtypes: float64(19)\n",
      "memory usage: 1.2 MB\n"
     ]
    }
   ],
   "source": [
    "current_dir = os.getcwd()\n",
    "\n",
    "exp_ls = \"load_stimulus_global.csv\"\n",
    "#exp_ls=\"load_stimulus_exp1.csv\"\n",
    "file_path = os.path.abspath(os.path.join(\"..\\\\datasets\", exp_ls))\n",
    "\n",
    "data = pd.read_csv(file_path, index_col=0)\n",
    "data = data.replace(['<not counted>'], np.nan)\n",
    "data.info()"
   ]
  },
  {
   "cell_type": "code",
   "execution_count": null,
   "id": "750b8e53",
   "metadata": {},
   "outputs": [],
   "source": []
  }
 ],
 "metadata": {
  "kernelspec": {
   "display_name": "Python 3 (ipykernel)",
   "language": "python",
   "name": "python3"
  },
  "language_info": {
   "codemirror_mode": {
    "name": "ipython",
    "version": 3
   },
   "file_extension": ".py",
   "mimetype": "text/x-python",
   "name": "python",
   "nbconvert_exporter": "python",
   "pygments_lexer": "ipython3",
   "version": "3.10.9"
  }
 },
 "nbformat": 4,
 "nbformat_minor": 5
}
