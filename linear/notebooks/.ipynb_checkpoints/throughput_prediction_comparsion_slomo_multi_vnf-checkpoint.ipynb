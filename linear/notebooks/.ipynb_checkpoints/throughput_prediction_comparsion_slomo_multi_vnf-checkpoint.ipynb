{
 "cells": [
  {
   "cell_type": "code",
   "execution_count": null,
   "id": "a9e3a85b",
   "metadata": {},
   "outputs": [],
   "source": [
    "import pandas as pd\n",
    "import numpy as np\n",
    "import matplotlib.pyplot as plt\n",
    "import sys, re, os\n",
    "\n",
    "from sklearn.model_selection import train_test_split\n",
    "from sklearn.tree import DecisionTreeClassifier\n",
    "from sklearn.metrics import accuracy_score, classification_report\n",
    "from sklearn.tree import plot_tree\n",
    "from sklearn.tree import DecisionTreeRegressor\n",
    "from sklearn.metrics import mean_squared_error, r2_score\n",
    "from sklearn.linear_model import LinearRegression\n",
    "from sklearn.tree import DecisionTreeRegressor\n",
    "from sklearn.metrics import mean_absolute_percentage_error\n",
    "from sklearn.utils import shuffle\n",
    "from sklearn.preprocessing import StandardScaler\n",
    "from tensorflow.keras.models import Sequential\n",
    "from tensorflow.keras.layers import Dense\n",
    "from tensorflow.keras.optimizers import Adam\n",
    "from sklearn.ensemble import RandomForestRegressor"
   ]
  },
  {
   "cell_type": "code",
   "execution_count": 3,
   "id": "c70365ff",
   "metadata": {},
   "outputs": [],
   "source": [
    "%matplotlib inline\n",
    "\n",
    "plt.rc('font', family='serif')\n",
    "plt.rcParams.update({'font.size': 11})\n",
    "\n",
    "plt.rcParams['figure.dpi'] = 200\n",
    "plt.rcParams['savefig.dpi'] = 300"
   ]
  },
  {
   "cell_type": "code",
   "execution_count": 4,
   "id": "bc973dae",
   "metadata": {},
   "outputs": [],
   "source": [
    "# Change the work directory to the parent\n",
    "try:\n",
    "    if chdir:\n",
    "        pass\n",
    "except:\n",
    "    current_dir = os.getcwd()\n",
    "    os.chdir(current_dir +\"/..\")\n",
    "    os.path.abspath(os.curdir)"
   ]
  },
  {
   "cell_type": "code",
   "execution_count": 5,
   "id": "4530909a",
   "metadata": {},
   "outputs": [],
   "source": [
    "chdir = True"
   ]
  },
  {
   "cell_type": "code",
   "execution_count": 6,
   "id": "764ccf63",
   "metadata": {},
   "outputs": [],
   "source": [
    "import itertools\n",
    "marker = itertools.cycle(('x',',', '+', '.', 'o', '*'))\n",
    "cycol = itertools.cycle('bgrcmk')"
   ]
  },
  {
   "cell_type": "markdown",
   "id": "f47499f9",
   "metadata": {},
   "source": [
    "# Service chain configuration"
   ]
  },
  {
   "cell_type": "code",
   "execution_count": 7,
   "id": "2878ef2b",
   "metadata": {
    "scrolled": true
   },
   "outputs": [
    {
     "name": "stdout",
     "output_type": "stream",
     "text": [
      "<class 'pandas.core.frame.DataFrame'>\n",
      "Int64Index: 7793 entries, 0 to 1018\n",
      "Data columns (total 19 columns):\n",
      " #   Column                        Non-Null Count  Dtype  \n",
      "---  ------                        --------------  -----  \n",
      " 0   input_rate                    7793 non-null   float64\n",
      " 1   output_rate                   7793 non-null   float64\n",
      " 2   latency                       7793 non-null   float64\n",
      " 3   bridge_instructions           7793 non-null   float64\n",
      " 4   bridge_branches               7793 non-null   float64\n",
      " 5   bridge_branch-misses          7793 non-null   float64\n",
      " 6   bridge_branch-load-misses     7793 non-null   float64\n",
      " 7   bridge_cache-misses           7793 non-null   float64\n",
      " 8   bridge_cache-references       7793 non-null   float64\n",
      " 9   bridge_cycles                 7793 non-null   float64\n",
      " 10  bridge_L1-dcache-load-misses  7793 non-null   float64\n",
      " 11  bridge_L1-dcache-loads        7793 non-null   float64\n",
      " 12  bridge_LLC-load-misses        7793 non-null   float64\n",
      " 13  bridge_LLC-stores             7793 non-null   float64\n",
      " 14  bridge_LLC-loads              7793 non-null   float64\n",
      " 15  bridge_mem-stores             7793 non-null   float64\n",
      " 16  bridge_iTLB-loads             7793 non-null   float64\n",
      " 17  bridge_mem-loads              7793 non-null   float64\n",
      " 18  bridge_bus-cycles             7793 non-null   float64\n",
      "dtypes: float64(19)\n",
      "memory usage: 1.2 MB\n"
     ]
    }
   ],
   "source": [
    "current_dir = os.getcwd()\n",
    "file_path = os.path.abspath('../linear/datasets/intervention_global.csv')\n",
    "#file_path = os.path.abspath('../linear/datasets/random_rates_exp-1.csv')\n",
    "data = pd.read_csv(file_path, index_col=0)\n",
    "data = data.replace(['<not counted>'], np.nan)\n",
    "#data = data.drop('latency', axis=1)\n",
    "df = data.dropna()\n",
    "df.info()"
   ]
  },
  {
   "cell_type": "code",
   "execution_count": 8,
   "id": "66ce8a13",
   "metadata": {},
   "outputs": [
    {
     "name": "stdout",
     "output_type": "stream",
     "text": [
      "Correlation between output_rate and bridge_LLC-stores: 0.91\n",
      "Correlation between output_rate and bridge_L1-dcache-load-misses: 0.90\n",
      "Correlation between output_rate and bridge_cache-references: 0.90\n",
      "Correlation between output_rate and bridge_LLC-loads: 0.88\n",
      "Correlation between output_rate and bridge_cycles: 0.74\n",
      "Correlation between output_rate and bridge_branch-load-misses: 0.71\n",
      "Correlation between output_rate and bridge_branch-misses: 0.71\n",
      "Correlation between output_rate and bridge_instructions: 0.60\n",
      "Correlation between output_rate and bridge_branches: 0.59\n",
      "Correlation between output_rate and bridge_L1-dcache-loads: 0.59\n",
      "Correlation between output_rate and latency: 0.53\n",
      "Correlation between output_rate and bridge_LLC-load-misses: 0.24\n",
      "Correlation between output_rate and bridge_cache-misses: 0.24\n",
      "Correlation between output_rate and bridge_mem-stores: nan\n",
      "Correlation between output_rate and bridge_iTLB-loads: 0.05\n",
      "Correlation between output_rate and bridge_mem-loads: nan\n",
      "Correlation between output_rate and bridge_bus-cycles: 0.74\n"
     ]
    }
   ],
   "source": [
    "current_dir = os.getcwd()\n",
    "file_path = os.path.abspath('../linear/datasets/intervention_global.csv')\n",
    "#file_path = os.path.abspath('../linear/datasets/random_rates_exp-1.csv')\n",
    "data = pd.read_csv(file_path, index_col=0)\n",
    "data = data.replace(['<not counted>'], np.nan)\n",
    "corr = data.corr()\n",
    "correlation_list = []\n",
    "for i in range(1, 2):\n",
    "    for j in range(i+1, len(corr.columns)):\n",
    "        correlation_list.append((corr.columns[i], corr.columns[j], abs(corr.iloc[i, j])))\n",
    "\n",
    "\n",
    "sorted_correlations = sorted(correlation_list, key=lambda x: x[2], reverse=True)\n",
    "\n",
    "for correlation in sorted_correlations:\n",
    "    print(f\"Correlation between {correlation[0]} and {correlation[1]}: {correlation[2]:.2f}\")"
   ]
  },
  {
   "cell_type": "code",
   "execution_count": 9,
   "id": "4c800599",
   "metadata": {},
   "outputs": [
    {
     "name": "stdout",
     "output_type": "stream",
     "text": [
      "Correlation between latency and bridge_branch-misses: 0.73\n",
      "Correlation between latency and bridge_branch-load-misses: 0.73\n",
      "Correlation between latency and bridge_cycles: 0.72\n",
      "Correlation between latency and bridge_instructions: 0.71\n",
      "Correlation between latency and bridge_L1-dcache-loads: 0.71\n",
      "Correlation between latency and bridge_branches: 0.71\n",
      "Correlation between latency and bridge_LLC-loads: 0.64\n",
      "Correlation between latency and bridge_cache-references: 0.64\n",
      "Correlation between latency and bridge_L1-dcache-load-misses: 0.64\n",
      "Correlation between latency and bridge_LLC-stores: 0.64\n",
      "Correlation between latency and bridge_LLC-load-misses: 0.24\n",
      "Correlation between latency and bridge_cache-misses: 0.22\n",
      "Correlation between latency and bridge_mem-stores: nan\n",
      "Correlation between latency and bridge_iTLB-loads: 0.05\n",
      "Correlation between latency and bridge_mem-loads: nan\n",
      "Correlation between latency and bridge_bus-cycles: 0.72\n"
     ]
    }
   ],
   "source": [
    "corr = data.corr()\n",
    "correlation_list = []\n",
    "for i in range(2,3):\n",
    "    for j in range(i+1, len(corr.columns)):\n",
    "        correlation_list.append((corr.columns[i], corr.columns[j], abs(corr.iloc[i, j])))\n",
    "\n",
    "\n",
    "sorted_correlations = sorted(correlation_list, key=lambda x: x[2], reverse=True)\n",
    "\n",
    "for correlation in sorted_correlations:\n",
    "    print(f\"Correlation between {correlation[0]} and {correlation[1]}: {correlation[2]:.2f}\")"
   ]
  },
  {
   "cell_type": "markdown",
   "id": "2e150895",
   "metadata": {},
   "source": [
    "# Slomo to predict rate"
   ]
  },
  {
   "cell_type": "code",
   "execution_count": 78,
   "id": "93ebebc0",
   "metadata": {},
   "outputs": [
    {
     "name": "stdout",
     "output_type": "stream",
     "text": [
      "Accuracy within 5% threshold: 19.888793840889647\n",
      "[0.0, 34.64499572284004, 54.49101796407185, 67.15141146278872, 74.67921300256629, 79.68349016253208, 83.14798973481608, 86.52694610778443, 88.23781009409753, 90.16253207869974, 91.27459366980325]\n"
     ]
    },
    {
     "name": "stderr",
     "output_type": "stream",
     "text": [
      "C:\\Users\\Qiong\\AppData\\Local\\Temp\\ipykernel_16852\\2872614842.py:26: RuntimeWarning: divide by zero encountered in double_scalars\n",
      "  distances = [abs(real - pred) / real for real, pred in zip(y_test.values.tolist(), y_pred)]\n",
      "C:\\Users\\Qiong\\AppData\\Local\\Temp\\ipykernel_16852\\2872614842.py:34: RuntimeWarning: divide by zero encountered in double_scalars\n",
      "  distances = [abs(real - pred) / real for real, pred in zip(y_test.values.tolist(), y_pred)]\n"
     ]
    }
   ],
   "source": [
    "# training  \n",
    "from sklearn.ensemble import GradientBoostingRegressor \n",
    "X = df.drop(['input_rate','output_rate', 'latency','bridge_bus-cycles','bridge_mem-loads','bridge_iTLB-loads','bridge_mem-stores','bridge_L1-dcache-load-misses','bridge_cache-misses'], axis=1)\n",
    "#X = df.drop(['input_rate','output_rate', 'latency'], axis=1)\n",
    "y = df['output_rate']\n",
    "\n",
    "X_train, X_test, y_train, y_test = train_test_split(X, y, test_size=0.3, random_state=0)\n",
    "\n",
    "# ML model\n",
    "#model = DecisionTreeRegressor(random_state=0)\n",
    "#model = LinearRegression()\n",
    "#model = RandomForestRegressor(n_estimators=100, random_state=42)\n",
    "model = GradientBoostingRegressor()\n",
    "\n",
    "# train the regressor\n",
    "model.fit(X_train, y_train)\n",
    "y_pred = model.predict(X_test)\n",
    "\n",
    "\n",
    "# Evaluate\n",
    "mse = mean_squared_error(y_test, y_pred)\n",
    "r2 = r2_score(y_test, y_pred)\n",
    "\n",
    "#accuracy\n",
    "threshold = 0.05 \n",
    "distances = [abs(real - pred) / real for real, pred in zip(y_test.values.tolist(), y_pred)]\n",
    "accuracy_within_threshold = sum(dist <= threshold for dist in distances) / len(distances) * 100\n",
    "print(\"Accuracy within 5% threshold:\", accuracy_within_threshold)\n",
    "\n",
    "\n",
    "accuracy_cdf=[]\n",
    "for threshold in range(11):\n",
    "    threshold = threshold/10\n",
    "    distances = [abs(real - pred) / real for real, pred in zip(y_test.values.tolist(), y_pred)]\n",
    "    accuracy_within_threshold = sum(dist <= threshold for dist in distances) / len(distances) * 100\n",
    "    accuracy_cdf.append(accuracy_within_threshold)\n",
    "print(accuracy_cdf)"
   ]
  },
  {
   "cell_type": "code",
   "execution_count": 77,
   "id": "6971a181",
   "metadata": {},
   "outputs": [
    {
     "data": {
      "image/png": "[encoded data removed]",
      "text/plain": [
       "<Figure size 320x240 with 1 Axes>"
      ]
     },
     "metadata": {},
     "output_type": "display_data"
    }
   ],
   "source": [
    "fig, ax = plt.subplots(figsize=(4,3))\n",
    "plt.plot(y_pred[:50], marker='o',c='r',markersize = 1, linestyle='-', dashes=(5, 3),label='Prediction')\n",
    "plt.plot(y_test[:50].tolist(), c='b',linestyle='-',linewidth = 1,label='Real')\n",
    "\n",
    "plt.xlabel('Time sequence [seconds]',fontsize=8)\n",
    "plt.ylabel('Throughput',fontsize=8)\n",
    "\n",
    "plt.legend(loc=\"upper right\", fontsize=6)\n",
    "plt.grid()"
   ]
  },
  {
   "cell_type": "code",
   "execution_count": 80,
   "id": "f3cf59fc",
   "metadata": {},
   "outputs": [
    {
     "name": "stdout",
     "output_type": "stream",
     "text": [
      "SMAPE (Symmetric Mean Absolute Percentage Error): 27.547845317245113\n"
     ]
    }
   ],
   "source": [
    "# SMAPE (Symmetric Mean Absolute Percentage Error)\n",
    "smape = np.mean(2 * np.abs(y_pred - y_test) / (np.abs(y_test) + np.abs(y_pred))) * 100\n",
    "print(\"SMAPE (Symmetric Mean Absolute Percentage Error):\", smape)"
   ]
  },
  {
   "cell_type": "code",
   "execution_count": 81,
   "id": "507db5af",
   "metadata": {},
   "outputs": [
    {
     "name": "stdout",
     "output_type": "stream",
     "text": [
      "R-squared: 0.8688032328140806\n"
     ]
    }
   ],
   "source": [
    "from sklearn.metrics import r2_score\n",
    "\n",
    "r2 = r2_score(y_test, y_pred)\n",
    "print(\"R-squared:\", r2)"
   ]
  },
  {
   "cell_type": "markdown",
   "id": "89a12f41",
   "metadata": {},
   "source": [
    "# Dobrescu"
   ]
  },
  {
   "cell_type": "code",
   "execution_count": 87,
   "id": "16bd4b91",
   "metadata": {},
   "outputs": [
    {
     "name": "stdout",
     "output_type": "stream",
     "text": [
      "Accuracy within 5% threshold: 8.426005132591959\n",
      "[0.0, 19.332763045337895, 39.43541488451668, 53.036783575705726, 63.47305389221557, 69.54662104362703, 74.50812660393498, 78.40034217279727, 82.24978614200171, 85.02994011976048, 86.91189050470489]\n"
     ]
    },
    {
     "name": "stderr",
     "output_type": "stream",
     "text": [
      "C:\\Users\\Qiong\\AppData\\Local\\Temp\\ipykernel_16852\\1231836685.py:26: RuntimeWarning: divide by zero encountered in double_scalars\n",
      "  distances = [abs(real - pred) / real for real, pred in zip(y_test.values.tolist(), y_pred)]\n",
      "C:\\Users\\Qiong\\AppData\\Local\\Temp\\ipykernel_16852\\1231836685.py:34: RuntimeWarning: divide by zero encountered in double_scalars\n",
      "  distances = [abs(real - pred) / real for real, pred in zip(y_test.values.tolist(), y_pred)]\n"
     ]
    }
   ],
   "source": [
    "# training  \n",
    "from sklearn.ensemble import GradientBoostingRegressor \n",
    "X = df['bridge_cache-references'].values.reshape(-1, 1)\n",
    "#X = df.drop(['input_rate','output_rate', 'latency'], axis=1)\n",
    "y = df['output_rate']\n",
    "\n",
    "X_train, X_test, y_train, y_test = train_test_split(X, y, test_size=0.3, random_state=0)\n",
    "\n",
    "# ML model\n",
    "#model = DecisionTreeRegressor(random_state=0)\n",
    "model = LinearRegression()\n",
    "#model = RandomForestRegressor(n_estimators=100, random_state=42)\n",
    "model = GradientBoostingRegressor()\n",
    "\n",
    "# train the regressor\n",
    "model.fit(X_train, y_train)\n",
    "y_pred = model.predict(X_test)\n",
    "\n",
    "\n",
    "# Evaluate\n",
    "mse = mean_squared_error(y_test, y_pred)\n",
    "r2 = r2_score(y_test, y_pred)\n",
    "\n",
    "#accuracy\n",
    "threshold = 0.05 \n",
    "distances = [abs(real - pred) / real for real, pred in zip(y_test.values.tolist(), y_pred)]\n",
    "accuracy_within_threshold = sum(dist <= threshold for dist in distances) / len(distances) * 100\n",
    "print(\"Accuracy within 5% threshold:\", accuracy_within_threshold)\n",
    "\n",
    "\n",
    "accuracy_cdf=[]\n",
    "for threshold in range(11):\n",
    "    threshold = threshold/10\n",
    "    distances = [abs(real - pred) / real for real, pred in zip(y_test.values.tolist(), y_pred)]\n",
    "    accuracy_within_threshold = sum(dist <= threshold for dist in distances) / len(distances) * 100\n",
    "    accuracy_cdf.append(accuracy_within_threshold)\n",
    "print(accuracy_cdf)"
   ]
  },
  {
   "cell_type": "code",
   "execution_count": 88,
   "id": "24bdad19",
   "metadata": {},
   "outputs": [
    {
     "data": {
      "image/png": "[encoded data removed]",
      "text/plain": [
       "<Figure size 320x240 with 1 Axes>"
      ]
     },
     "metadata": {},
     "output_type": "display_data"
    }
   ],
   "source": [
    "fig, ax = plt.subplots(figsize=(4,3))\n",
    "plt.plot(y_pred[:50], marker='o',c='r',markersize = 1, linestyle='-', dashes=(5, 3),label='Prediction')\n",
    "plt.plot(y_test[:50].tolist(), c='b',linestyle='-',linewidth = 1,label='Real')\n",
    "\n",
    "plt.xlabel('Time sequence [seconds]',fontsize=8)\n",
    "plt.ylabel('Throughput',fontsize=8)\n",
    "\n",
    "plt.legend(loc=\"upper right\", fontsize=6)\n",
    "plt.grid()"
   ]
  },
  {
   "cell_type": "code",
   "execution_count": 89,
   "id": "c84cd801",
   "metadata": {},
   "outputs": [
    {
     "name": "stdout",
     "output_type": "stream",
     "text": [
      "SMAPE (Symmetric Mean Absolute Percentage Error): 36.26621583412854\n"
     ]
    }
   ],
   "source": [
    "# SMAPE (Symmetric Mean Absolute Percentage Error)\n",
    "smape = np.mean(2 * np.abs(y_pred - y_test) / (np.abs(y_test) + np.abs(y_pred))) * 100\n",
    "print(\"SMAPE (Symmetric Mean Absolute Percentage Error):\", smape)"
   ]
  },
  {
   "cell_type": "code",
   "execution_count": 90,
   "id": "ca5a089a",
   "metadata": {},
   "outputs": [
    {
     "name": "stdout",
     "output_type": "stream",
     "text": [
      "R-squared: 0.7582429573791221\n"
     ]
    }
   ],
   "source": [
    "from sklearn.metrics import r2_score\n",
    "\n",
    "r2 = r2_score(y_test, y_pred)\n",
    "print(\"R-squared:\", r2)"
   ]
  },
  {
   "cell_type": "markdown",
   "id": "26b653e4",
   "metadata": {},
   "source": [
    "# ANN to predict rate"
   ]
  },
  {
   "cell_type": "code",
   "execution_count": 65,
   "id": "191f6304",
   "metadata": {},
   "outputs": [],
   "source": [
    "current_dir = os.getcwd()\n",
    "file_path = os.path.abspath('../linear/datasets/intervention_global.csv')\n",
    "#file_path = os.path.abspath('../linear/datasets/load_stimulus_global_4.csv')\n",
    "#file_path = os.path.abspath('../linear/datasets/random_rates_exp-1.csv')\n",
    "data = pd.read_csv(file_path, index_col=0)\n",
    "data = data.replace(['<not counted>'], np.nan)\n",
    "df = data.dropna()"
   ]
  },
  {
   "cell_type": "code",
   "execution_count": 66,
   "id": "23ce8ef9",
   "metadata": {},
   "outputs": [
    {
     "name": "stdout",
     "output_type": "stream",
     "text": [
      "7793\n"
     ]
    }
   ],
   "source": [
    "# training \n",
    "X = df.drop(['output_rate', 'latency'], axis=1)\n",
    "X = df.drop(['output_rate', 'latency','bridge_bus-cycles','bridge_mem-loads','bridge_iTLB-loads','bridge_mem-stores','bridge_L1-dcache-load-misses','bridge_cache-misses'], axis=1)\n",
    "y = df['output_rate']\n",
    "\n",
    "X_train, X_test, y_train, y_test = train_test_split(X, y, test_size=0.3, random_state=0)\n",
    "\n",
    "column_order = X_train.columns\n",
    "X_test = X_test[column_order]\n",
    "\n",
    "\n",
    "# Standardize the features\n",
    "scaler = StandardScaler()\n",
    "X_train = scaler.fit_transform(X_train)\n",
    "X_test = scaler.transform(X_test)\n",
    "print(len(y))"
   ]
  },
  {
   "cell_type": "code",
   "execution_count": 67,
   "id": "cd3fdc82",
   "metadata": {},
   "outputs": [],
   "source": [
    "# model\n",
    "model = Sequential()\n",
    "\n",
    "# Add input layer and hidden layers\n",
    "model.add(Dense(32, activation='relu', input_shape=(X_train.shape[1],)))\n",
    "model.add(Dense(16, activation='relu'))\n",
    "# Add output layer\n",
    "model.add(Dense(1))"
   ]
  },
  {
   "cell_type": "code",
   "execution_count": 63,
   "id": "6e045fe4",
   "metadata": {
    "scrolled": false
   },
   "outputs": [
    {
     "name": "stdout",
     "output_type": "stream",
     "text": [
      "Epoch 1/100\n",
      "682/682 [==============================] - 3s 3ms/step - loss: 2238642.7500\n",
      "Epoch 2/100\n",
      "682/682 [==============================] - 2s 3ms/step - loss: 494145.0938\n",
      "Epoch 3/100\n",
      "682/682 [==============================] - 2s 3ms/step - loss: 464164.0938\n",
      "Epoch 4/100\n",
      "682/682 [==============================] - 2s 3ms/step - loss: 453672.3125\n",
      "Epoch 5/100\n",
      "682/682 [==============================] - 2s 3ms/step - loss: 437335.2812\n",
      "Epoch 6/100\n",
      "682/682 [==============================] - 2s 3ms/step - loss: 429715.1562\n",
      "Epoch 7/100\n",
      "682/682 [==============================] - 2s 3ms/step - loss: 422223.7188\n",
      "Epoch 8/100\n",
      "682/682 [==============================] - 2s 3ms/step - loss: 420074.9688\n",
      "Epoch 9/100\n",
      "682/682 [==============================] - 2s 3ms/step - loss: 417607.0000\n",
      "Epoch 10/100\n",
      "682/682 [==============================] - 2s 3ms/step - loss: 422100.0312\n",
      "Epoch 11/100\n",
      "682/682 [==============================] - 2s 3ms/step - loss: 415684.2188\n",
      "Epoch 12/100\n",
      "682/682 [==============================] - 2s 3ms/step - loss: 417213.4062\n",
      "Epoch 13/100\n",
      "682/682 [==============================] - 2s 3ms/step - loss: 417159.0625\n",
      "Epoch 14/100\n",
      "682/682 [==============================] - 2s 3ms/step - loss: 414542.0000\n",
      "Epoch 15/100\n",
      "682/682 [==============================] - 2s 3ms/step - loss: 412459.5625\n",
      "Epoch 16/100\n",
      "682/682 [==============================] - 2s 3ms/step - loss: 409555.4062\n",
      "Epoch 17/100\n",
      "682/682 [==============================] - 2s 3ms/step - loss: 414386.0938\n",
      "Epoch 18/100\n",
      "682/682 [==============================] - 2s 3ms/step - loss: 408631.4375\n",
      "Epoch 19/100\n",
      "682/682 [==============================] - 2s 3ms/step - loss: 413459.0625\n",
      "Epoch 20/100\n",
      "682/682 [==============================] - 2s 3ms/step - loss: 411697.4688\n",
      "Epoch 21/100\n",
      "682/682 [==============================] - 2s 3ms/step - loss: 414320.4375\n",
      "Epoch 22/100\n",
      "682/682 [==============================] - 2s 3ms/step - loss: 411608.8125\n",
      "Epoch 23/100\n",
      "682/682 [==============================] - 2s 3ms/step - loss: 409793.4375\n",
      "Epoch 24/100\n",
      "682/682 [==============================] - 2s 3ms/step - loss: 410519.2500\n",
      "Epoch 25/100\n",
      "682/682 [==============================] - 2s 3ms/step - loss: 409936.9062\n",
      "Epoch 26/100\n",
      "682/682 [==============================] - 2s 3ms/step - loss: 410920.9688\n",
      "Epoch 27/100\n",
      "682/682 [==============================] - 2s 3ms/step - loss: 408177.9062\n",
      "Epoch 28/100\n",
      "682/682 [==============================] - 2s 3ms/step - loss: 409444.0625\n",
      "Epoch 29/100\n",
      "682/682 [==============================] - 2s 3ms/step - loss: 408540.7188\n",
      "Epoch 30/100\n",
      "682/682 [==============================] - 2s 4ms/step - loss: 404701.3125\n",
      "Epoch 31/100\n",
      "682/682 [==============================] - 3s 4ms/step - loss: 407722.0625\n",
      "Epoch 32/100\n",
      "682/682 [==============================] - 2s 3ms/step - loss: 410045.9688\n",
      "Epoch 33/100\n",
      "682/682 [==============================] - 2s 3ms/step - loss: 406846.2812\n",
      "Epoch 34/100\n",
      "682/682 [==============================] - 2s 4ms/step - loss: 407394.6875\n",
      "Epoch 35/100\n",
      "682/682 [==============================] - 2s 3ms/step - loss: 405765.4375\n",
      "Epoch 36/100\n",
      "682/682 [==============================] - 2s 3ms/step - loss: 407835.4062\n",
      "Epoch 37/100\n",
      "682/682 [==============================] - 2s 3ms/step - loss: 410623.8438\n",
      "Epoch 38/100\n",
      "682/682 [==============================] - 2s 3ms/step - loss: 407800.1250\n",
      "Epoch 39/100\n",
      "682/682 [==============================] - 2s 3ms/step - loss: 409430.3125\n",
      "Epoch 40/100\n",
      "682/682 [==============================] - 2s 3ms/step - loss: 406995.2188\n",
      "Epoch 41/100\n",
      "682/682 [==============================] - 2s 3ms/step - loss: 408363.2812\n",
      "Epoch 42/100\n",
      "682/682 [==============================] - 2s 3ms/step - loss: 405331.3125\n",
      "Epoch 43/100\n",
      "682/682 [==============================] - 2s 3ms/step - loss: 407270.0000\n",
      "Epoch 44/100\n",
      "682/682 [==============================] - 2s 3ms/step - loss: 406341.0938\n",
      "Epoch 45/100\n",
      "682/682 [==============================] - 2s 3ms/step - loss: 407045.4375\n",
      "Epoch 46/100\n",
      "682/682 [==============================] - 2s 3ms/step - loss: 405984.8438\n",
      "Epoch 47/100\n",
      "682/682 [==============================] - 2s 3ms/step - loss: 406810.5000\n",
      "Epoch 48/100\n",
      "682/682 [==============================] - 2s 3ms/step - loss: 405151.8750\n",
      "Epoch 49/100\n",
      "682/682 [==============================] - 2s 3ms/step - loss: 404884.7188\n",
      "Epoch 50/100\n",
      "682/682 [==============================] - 2s 2ms/step - loss: 403907.8438\n",
      "Epoch 51/100\n",
      "682/682 [==============================] - 2s 2ms/step - loss: 405688.4688\n",
      "Epoch 52/100\n",
      "682/682 [==============================] - 2s 2ms/step - loss: 403215.8750\n",
      "Epoch 53/100\n",
      "682/682 [==============================] - 2s 2ms/step - loss: 404890.5312\n",
      "Epoch 54/100\n",
      "682/682 [==============================] - 2s 3ms/step - loss: 403892.4375\n",
      "Epoch 55/100\n",
      "682/682 [==============================] - 2s 2ms/step - loss: 402255.5000\n",
      "Epoch 56/100\n",
      "682/682 [==============================] - 2s 2ms/step - loss: 404976.3125\n",
      "Epoch 57/100\n",
      "682/682 [==============================] - 2s 2ms/step - loss: 404051.9688\n",
      "Epoch 58/100\n",
      "682/682 [==============================] - 2s 2ms/step - loss: 407459.4688\n",
      "Epoch 59/100\n",
      "682/682 [==============================] - 2s 2ms/step - loss: 405149.8750\n",
      "Epoch 60/100\n",
      "682/682 [==============================] - 2s 2ms/step - loss: 405256.8750\n",
      "Epoch 61/100\n",
      "682/682 [==============================] - 2s 2ms/step - loss: 399228.5938\n",
      "Epoch 62/100\n",
      "682/682 [==============================] - 2s 2ms/step - loss: 377784.9375\n",
      "Epoch 63/100\n",
      "682/682 [==============================] - 2s 2ms/step - loss: 364595.4375\n",
      "Epoch 64/100\n",
      "682/682 [==============================] - 2s 2ms/step - loss: 356475.3125\n",
      "Epoch 65/100\n",
      "682/682 [==============================] - 2s 2ms/step - loss: 342839.9375\n",
      "Epoch 66/100\n",
      "682/682 [==============================] - 2s 2ms/step - loss: 333767.5000\n",
      "Epoch 67/100\n",
      "682/682 [==============================] - 2s 2ms/step - loss: 328231.1562\n",
      "Epoch 68/100\n",
      "682/682 [==============================] - 2s 2ms/step - loss: 323745.2188\n",
      "Epoch 69/100\n",
      "682/682 [==============================] - 2s 2ms/step - loss: 317048.0000\n",
      "Epoch 70/100\n",
      "682/682 [==============================] - 2s 2ms/step - loss: 315550.0938\n",
      "Epoch 71/100\n",
      "682/682 [==============================] - 2s 3ms/step - loss: 314745.9062\n",
      "Epoch 72/100\n",
      "682/682 [==============================] - 2s 2ms/step - loss: 309166.1250\n",
      "Epoch 73/100\n",
      "682/682 [==============================] - 2s 3ms/step - loss: 313837.0312\n",
      "Epoch 74/100\n",
      "682/682 [==============================] - 2s 3ms/step - loss: 308556.8125\n",
      "Epoch 75/100\n",
      "682/682 [==============================] - 2s 2ms/step - loss: 307182.7812\n",
      "Epoch 76/100\n",
      "682/682 [==============================] - 2s 2ms/step - loss: 308559.6562\n",
      "Epoch 77/100\n",
      "682/682 [==============================] - 2s 2ms/step - loss: 305525.7812\n",
      "Epoch 78/100\n",
      "682/682 [==============================] - 2s 2ms/step - loss: 307210.7500\n",
      "Epoch 79/100\n",
      "682/682 [==============================] - 2s 2ms/step - loss: 306173.8750\n",
      "Epoch 80/100\n",
      "682/682 [==============================] - 2s 2ms/step - loss: 303592.0000\n",
      "Epoch 81/100\n",
      "682/682 [==============================] - 2s 2ms/step - loss: 306052.2812\n",
      "Epoch 82/100\n",
      "682/682 [==============================] - 2s 3ms/step - loss: 303997.7812\n",
      "Epoch 83/100\n",
      "682/682 [==============================] - 2s 3ms/step - loss: 301980.0000\n",
      "Epoch 84/100\n",
      "682/682 [==============================] - 2s 3ms/step - loss: 302060.3750\n",
      "Epoch 85/100\n",
      "682/682 [==============================] - 2s 3ms/step - loss: 304009.9375\n",
      "Epoch 86/100\n",
      "682/682 [==============================] - 2s 3ms/step - loss: 301086.2812\n",
      "Epoch 87/100\n",
      "682/682 [==============================] - 2s 2ms/step - loss: 296998.3750\n",
      "Epoch 88/100\n",
      "682/682 [==============================] - 2s 2ms/step - loss: 297482.6875\n",
      "Epoch 89/100\n",
      "682/682 [==============================] - 2s 2ms/step - loss: 296479.4375\n",
      "Epoch 90/100\n",
      "682/682 [==============================] - 2s 2ms/step - loss: 294839.8125\n",
      "Epoch 91/100\n",
      "682/682 [==============================] - 2s 3ms/step - loss: 297659.8438\n",
      "Epoch 92/100\n",
      "682/682 [==============================] - 2s 2ms/step - loss: 294421.5625\n",
      "Epoch 93/100\n",
      "682/682 [==============================] - 2s 2ms/step - loss: 290583.7500\n",
      "Epoch 94/100\n",
      "682/682 [==============================] - 2s 2ms/step - loss: 293035.8750\n",
      "Epoch 95/100\n",
      "682/682 [==============================] - 2s 2ms/step - loss: 290708.7812\n",
      "Epoch 96/100\n",
      "682/682 [==============================] - 2s 2ms/step - loss: 289237.3750\n",
      "Epoch 97/100\n",
      "682/682 [==============================] - 2s 2ms/step - loss: 291905.4062\n",
      "Epoch 98/100\n",
      "682/682 [==============================] - 2s 2ms/step - loss: 288679.9375\n",
      "Epoch 99/100\n",
      "682/682 [==============================] - 2s 2ms/step - loss: 290342.1250\n",
      "Epoch 100/100\n",
      "682/682 [==============================] - 2s 3ms/step - loss: 284952.6562\n"
     ]
    },
    {
     "data": {
      "text/plain": [
       "<keras.callbacks.History at 0x27eb7f153c0>"
      ]
     },
     "execution_count": 63,
     "metadata": {},
     "output_type": "execute_result"
    }
   ],
   "source": [
    "# Compile the model\n",
    "model.compile(optimizer=Adam(learning_rate=0.01), loss='mean_squared_error')\n",
    "model.fit(X_train, y_train, batch_size=8, epochs=100, verbose=1)"
   ]
  },
  {
   "cell_type": "code",
   "execution_count": 68,
   "id": "96653e44",
   "metadata": {
    "scrolled": false
   },
   "outputs": [
    {
     "name": "stdout",
     "output_type": "stream",
     "text": [
      "Epoch 1/100\n",
      "682/682 [==============================] - 3s 3ms/step - loss: 2158886.2500\n",
      "Epoch 2/100\n",
      "682/682 [==============================] - 2s 3ms/step - loss: 494211.4062\n",
      "Epoch 3/100\n",
      "682/682 [==============================] - 2s 3ms/step - loss: 467610.8750\n",
      "Epoch 4/100\n",
      "682/682 [==============================] - 2s 3ms/step - loss: 450262.6875\n",
      "Epoch 5/100\n",
      "682/682 [==============================] - 2s 3ms/step - loss: 440856.8125\n",
      "Epoch 6/100\n",
      "682/682 [==============================] - 2s 3ms/step - loss: 431999.9375\n",
      "Epoch 7/100\n",
      "682/682 [==============================] - 2s 3ms/step - loss: 428088.1875\n",
      "Epoch 8/100\n",
      "682/682 [==============================] - 2s 3ms/step - loss: 427446.0312\n",
      "Epoch 9/100\n",
      "682/682 [==============================] - 2s 3ms/step - loss: 420405.0625\n",
      "Epoch 10/100\n",
      "682/682 [==============================] - 2s 3ms/step - loss: 423994.0625\n",
      "Epoch 11/100\n",
      "682/682 [==============================] - 2s 3ms/step - loss: 418179.9688\n",
      "Epoch 12/100\n",
      "682/682 [==============================] - 2s 3ms/step - loss: 418926.7500\n",
      "Epoch 13/100\n",
      "682/682 [==============================] - 2s 3ms/step - loss: 419297.7188\n",
      "Epoch 14/100\n",
      "682/682 [==============================] - 2s 3ms/step - loss: 415823.7188\n",
      "Epoch 15/100\n",
      "682/682 [==============================] - 2s 3ms/step - loss: 414965.9062\n",
      "Epoch 16/100\n",
      "682/682 [==============================] - 2s 3ms/step - loss: 414504.8750\n",
      "Epoch 17/100\n",
      "682/682 [==============================] - 2s 3ms/step - loss: 413269.1875\n",
      "Epoch 18/100\n",
      "682/682 [==============================] - 2s 3ms/step - loss: 413781.3125\n",
      "Epoch 19/100\n",
      "682/682 [==============================] - 2s 3ms/step - loss: 412529.0625\n",
      "Epoch 20/100\n",
      "682/682 [==============================] - 2s 3ms/step - loss: 411007.4688\n",
      "Epoch 21/100\n",
      "682/682 [==============================] - 2s 3ms/step - loss: 414536.5938\n",
      "Epoch 22/100\n",
      "682/682 [==============================] - 2s 3ms/step - loss: 411378.0000\n",
      "Epoch 23/100\n",
      "682/682 [==============================] - 2s 3ms/step - loss: 410079.8125\n",
      "Epoch 24/100\n",
      "682/682 [==============================] - 2s 3ms/step - loss: 412120.1562\n",
      "Epoch 25/100\n",
      "682/682 [==============================] - 2s 3ms/step - loss: 408144.5625\n",
      "Epoch 26/100\n",
      "682/682 [==============================] - 2s 3ms/step - loss: 410949.3125\n",
      "Epoch 27/100\n",
      "682/682 [==============================] - 2s 3ms/step - loss: 412396.0000\n",
      "Epoch 28/100\n",
      "682/682 [==============================] - 2s 3ms/step - loss: 411799.8750\n",
      "Epoch 29/100\n",
      "682/682 [==============================] - 2s 3ms/step - loss: 409030.8750\n",
      "Epoch 30/100\n",
      "682/682 [==============================] - 2s 3ms/step - loss: 408927.0312\n",
      "Epoch 31/100\n",
      "682/682 [==============================] - 2s 3ms/step - loss: 408800.3125\n",
      "Epoch 32/100\n",
      "682/682 [==============================] - 2s 3ms/step - loss: 410289.2500\n",
      "Epoch 33/100\n",
      "682/682 [==============================] - 2s 3ms/step - loss: 408147.8750\n",
      "Epoch 34/100\n",
      "682/682 [==============================] - 2s 3ms/step - loss: 410451.0312\n",
      "Epoch 35/100\n",
      "682/682 [==============================] - 2s 3ms/step - loss: 408625.5625\n",
      "Epoch 36/100\n",
      "682/682 [==============================] - 2s 3ms/step - loss: 410652.8125\n",
      "Epoch 37/100\n",
      "682/682 [==============================] - 2s 3ms/step - loss: 407283.9062\n",
      "Epoch 38/100\n",
      "682/682 [==============================] - 2s 3ms/step - loss: 409343.0000\n",
      "Epoch 39/100\n",
      "682/682 [==============================] - 2s 3ms/step - loss: 407395.4375\n",
      "Epoch 40/100\n",
      "682/682 [==============================] - 2s 3ms/step - loss: 410694.6250\n",
      "Epoch 41/100\n",
      "682/682 [==============================] - 2s 3ms/step - loss: 408970.4062\n",
      "Epoch 42/100\n",
      "682/682 [==============================] - 2s 3ms/step - loss: 409651.1562\n",
      "Epoch 43/100\n",
      "682/682 [==============================] - 2s 3ms/step - loss: 410738.3125\n",
      "Epoch 44/100\n",
      "682/682 [==============================] - 3s 4ms/step - loss: 406379.4688\n",
      "Epoch 45/100\n",
      "682/682 [==============================] - 2s 3ms/step - loss: 405905.3750\n",
      "Epoch 46/100\n",
      "682/682 [==============================] - 2s 3ms/step - loss: 404274.0312\n",
      "Epoch 47/100\n",
      "682/682 [==============================] - 2s 3ms/step - loss: 410175.2188\n",
      "Epoch 48/100\n",
      "682/682 [==============================] - 2s 3ms/step - loss: 408721.2812\n",
      "Epoch 49/100\n",
      "682/682 [==============================] - 2s 3ms/step - loss: 407642.1875\n",
      "Epoch 50/100\n",
      "682/682 [==============================] - 2s 3ms/step - loss: 405083.3750\n",
      "Epoch 51/100\n",
      "682/682 [==============================] - 2s 2ms/step - loss: 406564.8750\n",
      "Epoch 52/100\n",
      "682/682 [==============================] - 2s 3ms/step - loss: 408050.9062\n",
      "Epoch 53/100\n",
      "682/682 [==============================] - 2s 3ms/step - loss: 407337.4375\n",
      "Epoch 54/100\n",
      "682/682 [==============================] - 2s 3ms/step - loss: 406849.8750\n",
      "Epoch 55/100\n",
      "682/682 [==============================] - 2s 2ms/step - loss: 408704.1250\n",
      "Epoch 56/100\n",
      "682/682 [==============================] - 2s 3ms/step - loss: 404934.0938\n",
      "Epoch 57/100\n",
      "682/682 [==============================] - 2s 3ms/step - loss: 405837.6250\n",
      "Epoch 58/100\n",
      "682/682 [==============================] - 2s 3ms/step - loss: 405253.9062\n",
      "Epoch 59/100\n",
      "682/682 [==============================] - 2s 3ms/step - loss: 407446.2188\n",
      "Epoch 60/100\n",
      "682/682 [==============================] - 2s 3ms/step - loss: 408182.7188\n",
      "Epoch 61/100\n",
      "682/682 [==============================] - 2s 3ms/step - loss: 407469.5938\n",
      "Epoch 62/100\n",
      "682/682 [==============================] - 2s 3ms/step - loss: 406737.0625\n",
      "Epoch 63/100\n",
      "682/682 [==============================] - 2s 3ms/step - loss: 408224.4062\n",
      "Epoch 64/100\n",
      "682/682 [==============================] - 2s 3ms/step - loss: 406297.0938\n",
      "Epoch 65/100\n",
      "682/682 [==============================] - 2s 3ms/step - loss: 404322.6562\n",
      "Epoch 66/100\n",
      "682/682 [==============================] - 3s 5ms/step - loss: 404553.9062\n",
      "Epoch 67/100\n",
      "682/682 [==============================] - 2s 3ms/step - loss: 404242.2188\n",
      "Epoch 68/100\n",
      "682/682 [==============================] - 2s 3ms/step - loss: 406681.0312\n",
      "Epoch 69/100\n",
      "682/682 [==============================] - 2s 3ms/step - loss: 406347.5938\n",
      "Epoch 70/100\n",
      "682/682 [==============================] - 2s 3ms/step - loss: 405422.0000\n",
      "Epoch 71/100\n",
      "682/682 [==============================] - 1s 2ms/step - loss: 405966.0312\n",
      "Epoch 72/100\n",
      "682/682 [==============================] - 2s 3ms/step - loss: 404563.6250\n",
      "Epoch 73/100\n",
      "682/682 [==============================] - 2s 3ms/step - loss: 402486.2188\n",
      "Epoch 74/100\n",
      "682/682 [==============================] - 2s 3ms/step - loss: 403567.4688\n",
      "Epoch 75/100\n",
      "682/682 [==============================] - 2s 3ms/step - loss: 406145.6250\n",
      "Epoch 76/100\n",
      "682/682 [==============================] - 2s 3ms/step - loss: 403358.5312\n",
      "Epoch 77/100\n",
      "682/682 [==============================] - 2s 3ms/step - loss: 409692.0625\n",
      "Epoch 78/100\n",
      "682/682 [==============================] - 2s 3ms/step - loss: 393584.8750\n",
      "Epoch 79/100\n",
      "682/682 [==============================] - 2s 3ms/step - loss: 366517.6875\n",
      "Epoch 80/100\n",
      "682/682 [==============================] - 2s 3ms/step - loss: 355029.0938\n",
      "Epoch 81/100\n",
      "682/682 [==============================] - 2s 3ms/step - loss: 342778.0312\n",
      "Epoch 82/100\n",
      "682/682 [==============================] - 2s 2ms/step - loss: 332503.6562\n",
      "Epoch 83/100\n",
      "682/682 [==============================] - 2s 3ms/step - loss: 321480.2812\n",
      "Epoch 84/100\n",
      "682/682 [==============================] - 2s 3ms/step - loss: 314472.4375\n",
      "Epoch 85/100\n",
      "682/682 [==============================] - 2s 3ms/step - loss: 309505.7500\n",
      "Epoch 86/100\n",
      "682/682 [==============================] - 2s 3ms/step - loss: 309352.1250\n",
      "Epoch 87/100\n",
      "682/682 [==============================] - 2s 3ms/step - loss: 307143.4375\n",
      "Epoch 88/100\n",
      "682/682 [==============================] - 2s 3ms/step - loss: 303936.0312\n",
      "Epoch 89/100\n",
      "682/682 [==============================] - 2s 3ms/step - loss: 302503.6250\n",
      "Epoch 90/100\n",
      "682/682 [==============================] - 2s 3ms/step - loss: 299176.2500\n",
      "Epoch 91/100\n",
      "682/682 [==============================] - 2s 3ms/step - loss: 299833.2500\n",
      "Epoch 92/100\n",
      "682/682 [==============================] - 2s 3ms/step - loss: 296880.1562\n",
      "Epoch 93/100\n",
      "682/682 [==============================] - 2s 3ms/step - loss: 295059.2188\n",
      "Epoch 94/100\n",
      "682/682 [==============================] - 2s 3ms/step - loss: 294036.1250\n",
      "Epoch 95/100\n",
      "682/682 [==============================] - 2s 3ms/step - loss: 296213.1562\n",
      "Epoch 96/100\n",
      "682/682 [==============================] - 2s 3ms/step - loss: 293967.4062\n",
      "Epoch 97/100\n",
      "682/682 [==============================] - 2s 3ms/step - loss: 291678.7500\n",
      "Epoch 98/100\n",
      "682/682 [==============================] - 2s 3ms/step - loss: 291057.9375\n",
      "Epoch 99/100\n",
      "682/682 [==============================] - 2s 3ms/step - loss: 291740.5938\n",
      "Epoch 100/100\n",
      "682/682 [==============================] - 2s 3ms/step - loss: 292116.9688\n"
     ]
    },
    {
     "data": {
      "text/plain": [
       "<keras.callbacks.History at 0x27eb77cae90>"
      ]
     },
     "execution_count": 68,
     "metadata": {},
     "output_type": "execute_result"
    }
   ],
   "source": [
    "from keras import regularizers\n",
    "model = Sequential()\n",
    "\n",
    "# Add input layer and hidden layers with L2 regularization\n",
    "model.add(Dense(32, activation='relu', input_shape=(X_train.shape[1],), kernel_regularizer=regularizers.l2(0.01)))\n",
    "model.add(Dense(16, activation='relu', kernel_regularizer=regularizers.l2(0.01)))\n",
    "\n",
    "# Add output layer\n",
    "model.add(Dense(1))\n",
    "\n",
    "# Compile the model\n",
    "model.compile(optimizer=Adam(learning_rate=0.01), loss='mean_squared_error')\n",
    "\n",
    "# Fit the model\n",
    "model.fit(X_train, y_train, batch_size=8, epochs=100, verbose=1)"
   ]
  },
  {
   "cell_type": "code",
   "execution_count": 69,
   "id": "c99297b5",
   "metadata": {},
   "outputs": [
    {
     "name": "stdout",
     "output_type": "stream",
     "text": [
      "74/74 [==============================] - 0s 2ms/step\n",
      "[0.0, 61.24893071000855, 77.88708297690333, 85.11548331907613, 89.86313088109496, 92.51497005988024, 94.09751924721984, 95.42343883661249, 95.85115483319076, 96.27887082976903, 96.57827202737383]\n"
     ]
    },
    {
     "name": "stderr",
     "output_type": "stream",
     "text": [
      "C:\\Users\\Qiong\\AppData\\Local\\Temp\\ipykernel_16852\\1821169440.py:13: RuntimeWarning: divide by zero encountered in double_scalars\n",
      "  distances = [abs(real - pred) / real for real, pred in zip(y_test, y_pred)]\n",
      "C:\\Users\\Qiong\\AppData\\Local\\Temp\\ipykernel_16852\\1821169440.py:19: RuntimeWarning: divide by zero encountered in double_scalars\n",
      "  distances = [abs(real - pred) / real for real, pred in zip(y_test, y_pred)]\n"
     ]
    },
    {
     "data": {
      "image/png": "[encoded data removed]",
      "text/plain": [
       "<Figure size 640x480 with 1 Axes>"
      ]
     },
     "metadata": {},
     "output_type": "display_data"
    }
   ],
   "source": [
    "# Make predictions on the test set\n",
    "import matplotlib.ticker as mticker\n",
    "\n",
    "y_pred = model.predict(X_test)\n",
    "mse = mean_squared_error(y_test, y_pred)\n",
    "r2 = r2_score(y_test, y_pred)\n",
    "\n",
    "# accuracy\n",
    "threshold = 0.05  \n",
    "y_pred=np.array(y_pred)\n",
    "y_pred = [item for subset in y_pred for item in subset]\n",
    "y_test=np.array(y_test)\n",
    "distances = [abs(real - pred) / real for real, pred in zip(y_test, y_pred)]\n",
    "accuracy_within_threshold = sum(dist <= threshold for dist in distances) / len(distances) * 100\n",
    "accuracy_cdf=[]\n",
    "# plot cdf of accurancy\n",
    "for threshold in range(11):\n",
    "    threshold = threshold/10\n",
    "    distances = [abs(real - pred) / real for real, pred in zip(y_test, y_pred)]\n",
    "    accuracy_within_threshold = sum(dist <= threshold for dist in distances) / len(distances) * 100\n",
    "    accuracy_cdf.append(accuracy_within_threshold)\n",
    "print(accuracy_cdf)\n",
    "\n",
    "# plot\n",
    "\n",
    "fig, ax = plt.subplots(facecolor='white', figsize=(8,6))\n",
    "#ax.set_facecolor('white')\n",
    "plt.style.use('classic')\n",
    "\n",
    "plt.plot(y_pred[0:80], marker='o',c='r',markersize = 2, linewidth = 0.8, linestyle='-', markeredgecolor='red', dashes=(5, 3),label='Prediction')\n",
    "plt.plot(y_test.tolist()[0:80], c='b',linestyle='-',linewidth = 0.8,label='Real data')\n",
    "\n",
    "\n",
    "plt.legend(loc=\"upper right\", fontsize=8)\n",
    "fig.text(0.5, 0.01, 'Series', size='12', ha='center')\n",
    "fig.text(0.01, 0.5, 'Values', size='12', va='center', rotation='vertical')\n",
    "plt.subplots_adjust(left=0.12, right=0.9, bottom=0.15, top=0.9, wspace=0.3, hspace=0.4)\n",
    "#plt.grid()\n",
    "ax.set_facecolor('white')\n",
    "\n",
    "# Set y-axis tick format\n",
    "formatter = mticker.FuncFormatter(lambda x, pos: f\"{int(x/1000)}\")\n",
    "ax.yaxis.set_major_formatter(formatter)\n",
    "# Set text in the upper left corner of the figure\n",
    "fig.text(0.12, 0.98, '1e3', size='12', ha='left', va='top')\n",
    "\n",
    "#save figure\n",
    "#folder_path = 'figure/rate_prediction'\n",
    "#if not os.path.exists(folder_path):\n",
    "#    os.makedirs(folder_path)\n",
    "#file_path = os.path.join(folder_path, 'accuracy-linear.pdf' )\n",
    "#plt.savefig(file_path)\n",
    "\n",
    "plt.show()"
   ]
  },
  {
   "cell_type": "code",
   "execution_count": 70,
   "id": "1b488942",
   "metadata": {},
   "outputs": [
    {
     "name": "stdout",
     "output_type": "stream",
     "text": [
      "R-squared: 0.954656724061651\n"
     ]
    }
   ],
   "source": [
    "from sklearn.metrics import r2_score\n",
    "\n",
    "r2 = r2_score(y_test, y_pred)\n",
    "print(\"R-squared:\", r2)"
   ]
  },
  {
   "cell_type": "code",
   "execution_count": 71,
   "id": "1460a97f",
   "metadata": {},
   "outputs": [
    {
     "name": "stdout",
     "output_type": "stream",
     "text": [
      "[0.0, 61.24893071000855, 77.88708297690333, 85.11548331907613, 89.86313088109496, 92.51497005988024, 94.09751924721984, 95.42343883661249, 95.85115483319076, 96.27887082976903, 96.57827202737383]\n"
     ]
    },
    {
     "name": "stderr",
     "output_type": "stream",
     "text": [
      "C:\\Users\\Qiong\\AppData\\Local\\Temp\\ipykernel_16852\\3953428266.py:7: RuntimeWarning: divide by zero encountered in double_scalars\n",
      "  distances = [abs(real - pred) / real for real, pred in zip(y_test, y_pred)]\n"
     ]
    }
   ],
   "source": [
    "# Initialize the list to store the MAPE values\n",
    "mape_values = []\n",
    "\n",
    "# Calculate MAPE for each threshold\n",
    "for threshold in range(11):\n",
    "    threshold = threshold / 10\n",
    "    distances = [abs(real - pred) / real for real, pred in zip(y_test, y_pred)]\n",
    "    mape = sum(dist <= threshold for dist in distances) / len(distances) * 100\n",
    "    mape_values.append(mape)\n",
    "\n",
    "print(mape_values)\n"
   ]
  },
  {
   "cell_type": "code",
   "execution_count": 75,
   "id": "4e8b2264",
   "metadata": {},
   "outputs": [
    {
     "name": "stdout",
     "output_type": "stream",
     "text": [
      "SMAPE (Symmetric Mean Absolute Percentage Error): 16.813530752483498\n"
     ]
    }
   ],
   "source": [
    "# SMAPE (Symmetric Mean Absolute Percentage Error)\n",
    "smape = np.mean(2 * np.abs(y_pred - y_test) / (np.abs(y_test) + np.abs(y_pred))) * 100\n",
    "print(\"SMAPE (Symmetric Mean Absolute Percentage Error):\", smape)"
   ]
  },
  {
   "cell_type": "code",
   "execution_count": null,
   "id": "7a4184b8",
   "metadata": {},
   "outputs": [],
   "source": []
  }
 ],
 "metadata": {
  "kernelspec": {
   "display_name": "Python 3 (ipykernel)",
   "language": "python",
   "name": "python3"
  },
  "language_info": {
   "codemirror_mode": {
    "name": "ipython",
    "version": 3
   },
   "file_extension": ".py",
   "mimetype": "text/x-python",
   "name": "python",
   "nbconvert_exporter": "python",
   "pygments_lexer": "ipython3",
   "version": "3.10.9"
  }
 },
 "nbformat": 4,
 "nbformat_minor": 5
}
