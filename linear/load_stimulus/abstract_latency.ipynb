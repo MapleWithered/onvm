{
 "cells": [
  {
   "cell_type": "code",
   "execution_count": 13,
   "id": "a394e648",
   "metadata": {},
   "outputs": [],
   "source": [
    "# process latency\n",
    "import csv\n",
    "\n",
    "def extract_second_column(input_file, output_file):\n",
    "    with open(input_file, 'r') as csvfile:\n",
    "        csvreader = csv.reader(csvfile, delimiter=' ')\n",
    "        with open(output_file, 'w', newline='') as newfile:\n",
    "            csvwriter = csv.writer(newfile)\n",
    "            for row in csvreader:\n",
    "                csvwriter.writerow([row[1]])\n",
    "\n",
    "\n",
    "\n",
    "# extract_second_column('latency-7500COPY.csv', 'output_file.csv')\n"
   ]
  },
  {
   "cell_type": "code",
   "execution_count": 15,
   "id": "880e0448",
   "metadata": {},
   "outputs": [
    {
     "name": "stderr",
     "output_type": "stream",
     "text": [
      "C:\\Users\\Qiong\\AppData\\Local\\Temp\\ipykernel_16676\\3934274661.py:18: DeprecationWarning: In a future version, `df.iloc[:, i] = newvals` will attempt to set the values inplace instead of always setting a new array. To retain the old behavior, use either `df[df.columns[i]] = newvals` or, if columns are non-unique, `df.isetitem(i, newvals)`\n",
      "  df.loc[:, \"input_rate\"] = fixed_input_rate\n"
     ]
    }
   ],
   "source": [
    "# delete N/A, and delete the first column\n",
    "import pandas as pd\n",
    "\n",
    "def process_csv(input_file, output_file, fixed_input_rate):\n",
    "    # Read CSV file into a DataFrame\n",
    "    df = pd.read_csv(input_file)\n",
    "    \n",
    "    # Drop the first column\n",
    "    df = df.drop(df.columns[0], axis=1)\n",
    "    \n",
    "    # Drop the first two rows\n",
    "    df = df.iloc[2:]\n",
    "    \n",
    "    # Drop the last row\n",
    "    df = df.iloc[:-1]\n",
    "    \n",
    "    # Set the \"input_rate\" column to a fixed value\n",
    "    df.loc[:, \"input_rate\"] = fixed_input_rate\n",
    "    \n",
    "    # Write the processed DataFrame to a new CSV file\n",
    "    df.to_csv(output_file, index=False)\n",
    "   \n",
    "    \n",
    "    \n",
    "process_csv(\"load_stimulus_fixed_rate_7500.csv\", \"load_stimulus_fixed_rate_7500_modified.csv\", 5250)\n",
    "    "
   ]
  },
  {
   "cell_type": "code",
   "execution_count": null,
   "id": "7e3e921f",
   "metadata": {},
   "outputs": [],
   "source": []
  }
 ],
 "metadata": {
  "kernelspec": {
   "display_name": "Python 3 (ipykernel)",
   "language": "python",
   "name": "python3"
  },
  "language_info": {
   "codemirror_mode": {
    "name": "ipython",
    "version": 3
   },
   "file_extension": ".py",
   "mimetype": "text/x-python",
   "name": "python",
   "nbconvert_exporter": "python",
   "pygments_lexer": "ipython3",
   "version": "3.10.9"
  }
 },
 "nbformat": 4,
 "nbformat_minor": 5
}
