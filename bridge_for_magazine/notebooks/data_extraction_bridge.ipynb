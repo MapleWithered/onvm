{
 "cells": [
  {
   "cell_type": "code",
   "execution_count": 1,
   "id": "9939eb58",
   "metadata": {},
   "outputs": [],
   "source": [
    "import pandas as pd\n",
    "import os, re\n",
    "import csv\n",
    "import numpy as np"
   ]
  },
  {
   "cell_type": "code",
   "execution_count": 2,
   "id": "55826968",
   "metadata": {},
   "outputs": [],
   "source": [
    "# Change the work directory to the parent\n",
    "try:\n",
    "    if chdir:\n",
    "        pass\n",
    "except:\n",
    "    current_dir = os.getcwd()\n",
    "    os.chdir(current_dir +\"/..\")\n",
    "    os.path.abspath(os.curdir)"
   ]
  },
  {
   "cell_type": "code",
   "execution_count": 3,
   "id": "3ea5ec29",
   "metadata": {},
   "outputs": [],
   "source": [
    "chdir = True"
   ]
  },
  {
   "cell_type": "code",
   "execution_count": 4,
   "id": "c2b78803",
   "metadata": {},
   "outputs": [],
   "source": [
    "import matplotlib.pyplot as plt\n",
    "%matplotlib inline\n",
    "\n",
    "plt.rc('font', family='serif')\n",
    "plt.rcParams.update({'font.size': 11})\n",
    "\n",
    "plt.rcParams['figure.dpi'] = 200\n",
    "plt.rcParams['savefig.dpi'] = 300"
   ]
  },
  {
   "cell_type": "code",
   "execution_count": 5,
   "id": "fa7dad89",
   "metadata": {},
   "outputs": [],
   "source": [
    "# Metadata for specific SFC configurations\n",
    "exp_ls = \"exp-6\"\n",
    "vnfs = [\"bridge.csv\"]"
   ]
  },
  {
   "cell_type": "code",
   "execution_count": 6,
   "id": "be756abe",
   "metadata": {},
   "outputs": [],
   "source": [
    "def parse_reg(exp_type, exp_num, file, stat_name, index=1):\n",
    "    \"Parse the Perf data\"\n",
    "    stat = []\n",
    "    with open(os.path.join(\"..\\\\bridge\\\\data\", exp_type, exp_num, file)) as file:\n",
    "        for line in file:\n",
    "            if re.search(stat_name, line):\n",
    "                try:\n",
    "                    value = float(line.strip().split(',')[index])\n",
    "                except ValueError:\n",
    "                    value = np.nan\n",
    "                stat.append(value)\n",
    "\n",
    "    return list(map(lambda x:float(x), stat[:-1]))"
   ]
  },
  {
   "cell_type": "code",
   "execution_count": 7,
   "id": "ca5059ab",
   "metadata": {},
   "outputs": [],
   "source": [
    "def parse_seq(exp_type, exp_num, file, index=5):\n",
    "    \"Parse sequential data, specialized for the TX/RX/Latency experiments\"\n",
    "    tmp = []\n",
    "    \n",
    "    if file.startswith(\"latency.csv\"):\n",
    "        with open(os.path.join(\"..\\\\bridge\\\\data\", exp_type, exp_num, file)) as f:\n",
    "            lines = f.readlines()[4:] if exp_type == \"load_stimulus\" else f.readlines()\n",
    "            for i in range(len(lines)):\n",
    "                try:\n",
    "                    value = float(lines[i].strip()) / 1000\n",
    "                except ValueError:\n",
    "                    value= np.nan\n",
    "                tmp.append(value)\n",
    "    else:\n",
    "        with open(os.path.join(\"..\\\\bridge\\\\data\", exp_type, exp_num, file)) as f:\n",
    "            next(f)\n",
    "            for l in f:\n",
    "                try:\n",
    "                    value = float(l.strip().split(\",\")[index])\n",
    "                except ValueError:\n",
    "                    value = np.nan\n",
    "                tmp.append(value)\n",
    "                \n",
    "    return tmp"
   ]
  },
  {
   "cell_type": "code",
   "execution_count": 8,
   "id": "f5677589",
   "metadata": {},
   "outputs": [
    {
     "data": {
      "text/plain": [
       "1023"
      ]
     },
     "execution_count": 8,
     "metadata": {},
     "output_type": "execute_result"
    }
   ],
   "source": [
    "latency = parse_seq(\"load_stimulus\", exp_ls, \"latency.csv\")\n",
    "len(latency)"
   ]
  },
  {
   "cell_type": "code",
   "execution_count": 9,
   "id": "2c67471b",
   "metadata": {},
   "outputs": [
    {
     "data": {
      "text/plain": [
       "1025"
      ]
     },
     "execution_count": 9,
     "metadata": {},
     "output_type": "execute_result"
    }
   ],
   "source": [
    "tx_stats = parse_seq(\"load_stimulus\", exp_ls,  \"tx_stats.csv\")\n",
    "len(tx_stats)"
   ]
  },
  {
   "cell_type": "code",
   "execution_count": 10,
   "id": "95fe69b7",
   "metadata": {},
   "outputs": [
    {
     "data": {
      "text/plain": [
       "1025"
      ]
     },
     "execution_count": 10,
     "metadata": {},
     "output_type": "execute_result"
    }
   ],
   "source": [
    "rx_stats = parse_seq(\"load_stimulus\", exp_ls,  \"rx_stats.csv\")\n",
    "len(rx_stats)"
   ]
  },
  {
   "cell_type": "code",
   "execution_count": 11,
   "id": "2069d7f7",
   "metadata": {},
   "outputs": [
    {
     "data": {
      "text/plain": [
       "1024"
      ]
     },
     "execution_count": 11,
     "metadata": {},
     "output_type": "execute_result"
    }
   ],
   "source": [
    "firewall_instructions = parse_reg(\"load_stimulus\", exp_ls,  \"bridge.csv\", \"instructions\", 1)\n",
    "len(firewall_instructions)"
   ]
  },
  {
   "cell_type": "code",
   "execution_count": 12,
   "id": "486f96ae",
   "metadata": {},
   "outputs": [],
   "source": [
    "features = [\"instructions\", \"branches,\", \"branch-misses,\", \"branch-load-misses,\", \"cache-misses\", \\\n",
    "            \"cache-references\", \",cycles,\", \"L1-dcache-load-misses\", \"L1-dcache-loads\", \"LLC-load-misses\", \\\n",
    "            \"LLC-stores\", \"LLC-loads\",'mem-stores','iTLB-loads','mem-loads','bus-cycles',]"
   ]
  },
  {
   "cell_type": "code",
   "execution_count": 13,
   "id": "ad841f6e",
   "metadata": {},
   "outputs": [],
   "source": [
    "def make_df():\n",
    "    tmp = []\n",
    "    dic = dict()\n",
    "\n",
    "    tx_stats = parse_seq(\"load_stimulus\", exp_ls, \"tx_stats.csv\")\n",
    "    rx_stats = parse_seq(\"load_stimulus\", exp_ls, \"rx_stats.csv\")\n",
    "    latency = parse_seq(\"load_stimulus\", exp_ls, \"latency.csv\")\n",
    "\n",
    "    seq_length = min(len(tx_stats), len(rx_stats), len(latency), len(parse_reg(\"load_stimulus\", exp_ls, \"bridge.csv\", \"instructions\", 1)))\n",
    "\n",
    "    dic[\"input_rate\"] = tx_stats[:seq_length]\n",
    "    dic[\"output_rate\"] = rx_stats[:seq_length]\n",
    "    dic[\"latency\"] = latency[:seq_length]\n",
    "\n",
    "    for f in features:\n",
    "        for v in vnfs:\n",
    "            tmp = parse_reg(\"load_stimulus\", exp_ls, v, f, 1)\n",
    "            tmp = tmp[:seq_length]\n",
    "            if len(tmp) < seq_length:\n",
    "                tmp = np.pad(tmp, (0, seq_length - len(tmp)), mode='constant')\n",
    "            dic[v.split(\".\")[0] + \"_\" + f.replace(\",\", \"\")] = tmp\n",
    "\n",
    "    return pd.DataFrame(dic)\n"
   ]
  },
  {
   "cell_type": "code",
   "execution_count": 14,
   "id": "efeb9943",
   "metadata": {},
   "outputs": [],
   "source": [
    "df = make_df()"
   ]
  },
  {
   "cell_type": "code",
   "execution_count": 21,
   "id": "1333a439",
   "metadata": {},
   "outputs": [],
   "source": [
    "abs_path = os.path.join(\"..\\\\bridge\\\\datasets\", \"load_stimulus_\"+ exp_ls +\".csv\")\n",
    "df.to_csv(abs_path, sep=',')\n"
   ]
  },
  {
   "cell_type": "code",
   "execution_count": null,
   "id": "1aad135d",
   "metadata": {},
   "outputs": [],
   "source": []
  },
  {
   "cell_type": "code",
   "execution_count": null,
   "id": "77c6c021",
   "metadata": {},
   "outputs": [],
   "source": []
  }
 ],
 "metadata": {
  "kernelspec": {
   "display_name": "Python 3 (ipykernel)",
   "language": "python",
   "name": "python3"
  },
  "language_info": {
   "codemirror_mode": {
    "name": "ipython",
    "version": 3
   },
   "file_extension": ".py",
   "mimetype": "text/x-python",
   "name": "python",
   "nbconvert_exporter": "python",
   "pygments_lexer": "ipython3",
   "version": "3.10.9"
  }
 },
 "nbformat": 4,
 "nbformat_minor": 5
}
