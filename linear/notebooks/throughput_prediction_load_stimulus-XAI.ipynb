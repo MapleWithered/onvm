{
 "cells": [
  {
   "cell_type": "code",
   "execution_count": 21,
   "id": "a9e3a85b",
   "metadata": {},
   "outputs": [],
   "source": [
    "import pandas as pd\n",
    "import numpy as np\n",
    "import matplotlib.pyplot as plt\n",
    "import sys, re, os\n",
    "\n",
    "from sklearn.model_selection import train_test_split\n",
    "from sklearn.tree import DecisionTreeClassifier\n",
    "from sklearn.metrics import accuracy_score, classification_report\n",
    "from sklearn.tree import plot_tree\n",
    "from sklearn.tree import DecisionTreeRegressor\n",
    "from sklearn.metrics import mean_squared_error, r2_score\n",
    "from sklearn.linear_model import LinearRegression\n",
    "from sklearn.tree import DecisionTreeRegressor\n",
    "from sklearn.metrics import mean_absolute_percentage_error\n",
    "from sklearn.utils import shuffle\n",
    "from sklearn.preprocessing import StandardScaler\n",
    "from tensorflow.keras.models import Sequential\n",
    "from tensorflow.keras.layers import Dense\n",
    "from tensorflow.keras.optimizers import Adam\n",
    "from sklearn.ensemble import RandomForestRegressor"
   ]
  },
  {
   "cell_type": "code",
   "execution_count": 22,
   "id": "c70365ff",
   "metadata": {},
   "outputs": [],
   "source": [
    "%matplotlib inline\n",
    "\n",
    "plt.rc('font', family='serif')\n",
    "plt.rcParams.update({'font.size': 11})\n",
    "\n",
    "plt.rcParams['figure.dpi'] = 200\n",
    "plt.rcParams['savefig.dpi'] = 300"
   ]
  },
  {
   "cell_type": "code",
   "execution_count": 23,
   "id": "bc973dae",
   "metadata": {},
   "outputs": [],
   "source": [
    "# Change the work directory to the parent\n",
    "try:\n",
    "    if chdir:\n",
    "        pass\n",
    "except:\n",
    "    current_dir = os.getcwd()\n",
    "    os.chdir(current_dir +\"/..\")\n",
    "    os.path.abspath(os.curdir)"
   ]
  },
  {
   "cell_type": "code",
   "execution_count": 24,
   "id": "4530909a",
   "metadata": {},
   "outputs": [],
   "source": [
    "chdir = True"
   ]
  },
  {
   "cell_type": "code",
   "execution_count": 25,
   "id": "764ccf63",
   "metadata": {},
   "outputs": [],
   "source": [
    "import itertools\n",
    "marker = itertools.cycle(('x',',', '+', '.', 'o', '*'))\n",
    "cycol = itertools.cycle('bgrcmk')"
   ]
  },
  {
   "cell_type": "markdown",
   "id": "f47499f9",
   "metadata": {},
   "source": [
    "# Service chain configuration"
   ]
  },
  {
   "cell_type": "code",
   "execution_count": 26,
   "id": "356dcfe0",
   "metadata": {},
   "outputs": [
    {
     "data": {
      "text/html": [
       "\n",
       "        <iframe\n",
       "            width=\"850\"\n",
       "            height=\"480\"\n",
       "            src=\"../assets/testbed.png\"\n",
       "            frameborder=\"0\"\n",
       "            allowfullscreen\n",
       "            \n",
       "        ></iframe>\n",
       "        "
      ],
      "text/plain": [
       "<IPython.lib.display.IFrame at 0x1d1a693e380>"
      ]
     },
     "execution_count": 26,
     "metadata": {},
     "output_type": "execute_result"
    }
   ],
   "source": [
    "from IPython.display import IFrame\n",
    "IFrame(\"../assets/testbed.png\", width=850, height=480)"
   ]
  },
  {
   "cell_type": "code",
   "execution_count": 27,
   "id": "2878ef2b",
   "metadata": {
    "scrolled": true
   },
   "outputs": [
    {
     "name": "stdout",
     "output_type": "stream",
     "text": [
      "<class 'pandas.core.frame.DataFrame'>\n",
      "Int64Index: 1780 entries, 0 to 177\n",
      "Data columns (total 63 columns):\n",
      " #   Column                              Non-Null Count  Dtype  \n",
      "---  ------                              --------------  -----  \n",
      " 0   input_rate                          1780 non-null   float64\n",
      " 1   output_rate                         1780 non-null   float64\n",
      " 2   latency                             1780 non-null   float64\n",
      " 3   firewall_instructions               1780 non-null   float64\n",
      " 4   nf_router_instructions              1780 non-null   float64\n",
      " 5   ndpi_stats_instructions             1780 non-null   float64\n",
      " 6   payload_scan_instructions           1780 non-null   float64\n",
      " 7   bridge_instructions                 1780 non-null   float64\n",
      " 8   firewall_branches                   1780 non-null   float64\n",
      " 9   nf_router_branches                  1780 non-null   float64\n",
      " 10  ndpi_stats_branches                 1780 non-null   float64\n",
      " 11  payload_scan_branches               1780 non-null   float64\n",
      " 12  bridge_branches                     1780 non-null   float64\n",
      " 13  firewall_branch-misses              1780 non-null   float64\n",
      " 14  nf_router_branch-misses             1780 non-null   float64\n",
      " 15  ndpi_stats_branch-misses            1780 non-null   float64\n",
      " 16  payload_scan_branch-misses          1780 non-null   float64\n",
      " 17  bridge_branch-misses                1780 non-null   float64\n",
      " 18  firewall_branch-load-misses         1780 non-null   float64\n",
      " 19  nf_router_branch-load-misses        1780 non-null   float64\n",
      " 20  ndpi_stats_branch-load-misses       1780 non-null   float64\n",
      " 21  payload_scan_branch-load-misses     1780 non-null   float64\n",
      " 22  bridge_branch-load-misses           1780 non-null   float64\n",
      " 23  firewall_cache-misses               1780 non-null   float64\n",
      " 24  nf_router_cache-misses              1780 non-null   float64\n",
      " 25  ndpi_stats_cache-misses             1780 non-null   float64\n",
      " 26  payload_scan_cache-misses           1780 non-null   float64\n",
      " 27  bridge_cache-misses                 1780 non-null   float64\n",
      " 28  firewall_cache-references           1780 non-null   float64\n",
      " 29  nf_router_cache-references          1780 non-null   float64\n",
      " 30  ndpi_stats_cache-references         1780 non-null   float64\n",
      " 31  payload_scan_cache-references       1780 non-null   float64\n",
      " 32  bridge_cache-references             1780 non-null   float64\n",
      " 33  firewall_cycles                     1780 non-null   float64\n",
      " 34  nf_router_cycles                    1780 non-null   float64\n",
      " 35  ndpi_stats_cycles                   1780 non-null   float64\n",
      " 36  payload_scan_cycles                 1780 non-null   float64\n",
      " 37  bridge_cycles                       1780 non-null   float64\n",
      " 38  firewall_L1-dcache-load-misses      1780 non-null   float64\n",
      " 39  nf_router_L1-dcache-load-misses     1780 non-null   float64\n",
      " 40  ndpi_stats_L1-dcache-load-misses    1780 non-null   float64\n",
      " 41  payload_scan_L1-dcache-load-misses  1780 non-null   float64\n",
      " 42  bridge_L1-dcache-load-misses        1780 non-null   float64\n",
      " 43  firewall_L1-dcache-loads            1780 non-null   float64\n",
      " 44  nf_router_L1-dcache-loads           1780 non-null   float64\n",
      " 45  ndpi_stats_L1-dcache-loads          1780 non-null   float64\n",
      " 46  payload_scan_L1-dcache-loads        1780 non-null   float64\n",
      " 47  bridge_L1-dcache-loads              1780 non-null   float64\n",
      " 48  firewall_LLC-load-misses            1780 non-null   float64\n",
      " 49  nf_router_LLC-load-misses           1780 non-null   float64\n",
      " 50  ndpi_stats_LLC-load-misses          1780 non-null   float64\n",
      " 51  payload_scan_LLC-load-misses        1780 non-null   float64\n",
      " 52  bridge_LLC-load-misses              1780 non-null   float64\n",
      " 53  firewall_LLC-stores                 1780 non-null   float64\n",
      " 54  nf_router_LLC-stores                1780 non-null   float64\n",
      " 55  ndpi_stats_LLC-stores               1780 non-null   float64\n",
      " 56  payload_scan_LLC-stores             1780 non-null   float64\n",
      " 57  bridge_LLC-stores                   1780 non-null   float64\n",
      " 58  firewall_LLC-loads                  1780 non-null   float64\n",
      " 59  nf_router_LLC-loads                 1780 non-null   float64\n",
      " 60  ndpi_stats_LLC-loads                1780 non-null   float64\n",
      " 61  payload_scan_LLC-loads              1780 non-null   float64\n",
      " 62  bridge_LLC-loads                    1780 non-null   float64\n",
      "dtypes: float64(63)\n",
      "memory usage: 890.0 KB\n"
     ]
    }
   ],
   "source": [
    "current_dir = os.getcwd()\n",
    "file_path = os.path.abspath('../linear/datasets/load_stimulus_global.csv')\n",
    "#file_path = os.path.abspath('../linear/datasets/random_rates_exp-1.csv')\n",
    "data = pd.read_csv(file_path, index_col=0)\n",
    "data = data.replace(['<not counted>'], np.nan)\n",
    "#data = data.drop('latency', axis=1)\n",
    "df = data.dropna()\n",
    "df.info()"
   ]
  },
  {
   "cell_type": "code",
   "execution_count": 28,
   "id": "66ce8a13",
   "metadata": {},
   "outputs": [
    {
     "name": "stdout",
     "output_type": "stream",
     "text": [
      "Correlation between output_rate and ndpi_stats_LLC-loads: 0.98\n",
      "Correlation between output_rate and ndpi_stats_L1-dcache-load-misses: 0.98\n",
      "Correlation between output_rate and ndpi_stats_cache-references: 0.98\n",
      "Correlation between output_rate and payload_scan_LLC-loads: 0.98\n",
      "Correlation between output_rate and payload_scan_cache-references: 0.97\n",
      "Correlation between output_rate and nf_router_LLC-loads: 0.97\n",
      "Correlation between output_rate and payload_scan_L1-dcache-load-misses: 0.97\n",
      "Correlation between output_rate and firewall_LLC-stores: 0.97\n",
      "Correlation between output_rate and nf_router_cache-references: 0.97\n",
      "Correlation between output_rate and nf_router_L1-dcache-load-misses: 0.97\n",
      "Correlation between output_rate and firewall_cache-references: 0.97\n",
      "Correlation between output_rate and bridge_LLC-stores: 0.97\n",
      "Correlation between output_rate and ndpi_stats_LLC-stores: 0.97\n",
      "Correlation between output_rate and firewall_L1-dcache-load-misses: 0.97\n",
      "Correlation between output_rate and firewall_LLC-loads: 0.96\n",
      "Correlation between output_rate and payload_scan_LLC-stores: 0.96\n",
      "Correlation between output_rate and nf_router_LLC-stores: 0.96\n",
      "Correlation between output_rate and bridge_L1-dcache-load-misses: 0.95\n",
      "Correlation between output_rate and bridge_cache-references: 0.95\n",
      "Correlation between output_rate and bridge_LLC-loads: 0.94\n",
      "Correlation between output_rate and payload_scan_L1-dcache-loads: 0.92\n",
      "Correlation between output_rate and payload_scan_instructions: 0.92\n",
      "Correlation between output_rate and payload_scan_branches: 0.92\n",
      "Correlation between output_rate and firewall_L1-dcache-loads: 0.89\n",
      "Correlation between output_rate and firewall_instructions: 0.89\n",
      "Correlation between output_rate and firewall_branches: 0.89\n",
      "Correlation between output_rate and nf_router_L1-dcache-loads: 0.86\n",
      "Correlation between output_rate and nf_router_instructions: 0.86\n",
      "Correlation between output_rate and nf_router_branches: 0.86\n",
      "Correlation between output_rate and bridge_L1-dcache-loads: 0.79\n",
      "Correlation between output_rate and bridge_branches: 0.79\n",
      "Correlation between output_rate and bridge_instructions: 0.79\n",
      "Correlation between output_rate and ndpi_stats_branches: 0.78\n",
      "Correlation between output_rate and ndpi_stats_L1-dcache-loads: 0.78\n",
      "Correlation between output_rate and ndpi_stats_instructions: 0.78\n",
      "Correlation between output_rate and latency: 0.67\n",
      "Correlation between output_rate and firewall_branch-load-misses: 0.65\n",
      "Correlation between output_rate and firewall_branch-misses: 0.65\n",
      "Correlation between output_rate and ndpi_stats_cache-misses: 0.65\n",
      "Correlation between output_rate and bridge_branch-load-misses: 0.52\n",
      "Correlation between output_rate and bridge_branch-misses: 0.52\n",
      "Correlation between output_rate and payload_scan_branch-misses: 0.50\n",
      "Correlation between output_rate and payload_scan_branch-load-misses: 0.50\n",
      "Correlation between output_rate and nf_router_branch-misses: 0.40\n",
      "Correlation between output_rate and nf_router_branch-load-misses: 0.40\n",
      "Correlation between output_rate and ndpi_stats_LLC-load-misses: 0.40\n",
      "Correlation between output_rate and nf_router_LLC-load-misses: 0.37\n",
      "Correlation between output_rate and firewall_cache-misses: 0.36\n",
      "Correlation between output_rate and nf_router_cache-misses: 0.35\n",
      "Correlation between output_rate and firewall_LLC-load-misses: 0.33\n",
      "Correlation between output_rate and bridge_cache-misses: 0.32\n",
      "Correlation between output_rate and bridge_LLC-load-misses: 0.28\n",
      "Correlation between output_rate and payload_scan_cache-misses: 0.18\n",
      "Correlation between output_rate and payload_scan_LLC-load-misses: 0.16\n",
      "Correlation between output_rate and nf_router_cycles: 0.14\n",
      "Correlation between output_rate and bridge_cycles: 0.14\n",
      "Correlation between output_rate and ndpi_stats_cycles: 0.14\n",
      "Correlation between output_rate and ndpi_stats_branch-misses: 0.10\n",
      "Correlation between output_rate and ndpi_stats_branch-load-misses: 0.10\n",
      "Correlation between output_rate and payload_scan_cycles: 0.08\n",
      "Correlation between output_rate and firewall_cycles: 0.06\n"
     ]
    }
   ],
   "source": [
    "corr = data.corr()\n",
    "correlation_list = []\n",
    "for i in range(1, 2):\n",
    "    for j in range(i+1, len(corr.columns)):\n",
    "        correlation_list.append((corr.columns[i], corr.columns[j], abs(corr.iloc[i, j])))\n",
    "\n",
    "\n",
    "sorted_correlations = sorted(correlation_list, key=lambda x: x[2], reverse=True)\n",
    "\n",
    "for correlation in sorted_correlations:\n",
    "    print(f\"Correlation between {correlation[0]} and {correlation[1]}: {correlation[2]:.2f}\")"
   ]
  },
  {
   "cell_type": "code",
   "execution_count": 29,
   "id": "4c800599",
   "metadata": {},
   "outputs": [
    {
     "name": "stdout",
     "output_type": "stream",
     "text": [
      "Correlation between latency and ndpi_stats_LLC-loads: 0.59\n",
      "Correlation between latency and ndpi_stats_cache-references: 0.58\n",
      "Correlation between latency and ndpi_stats_L1-dcache-load-misses: 0.57\n",
      "Correlation between latency and payload_scan_LLC-loads: 0.57\n",
      "Correlation between latency and firewall_LLC-loads: 0.56\n",
      "Correlation between latency and firewall_cache-references: 0.56\n",
      "Correlation between latency and firewall_L1-dcache-load-misses: 0.56\n",
      "Correlation between latency and payload_scan_cache-references: 0.56\n",
      "Correlation between latency and nf_router_LLC-loads: 0.56\n",
      "Correlation between latency and payload_scan_L1-dcache-load-misses: 0.56\n",
      "Correlation between latency and firewall_LLC-stores: 0.56\n",
      "Correlation between latency and nf_router_L1-dcache-loads: 0.56\n",
      "Correlation between latency and nf_router_instructions: 0.55\n",
      "Correlation between latency and nf_router_branches: 0.55\n",
      "Correlation between latency and nf_router_cache-references: 0.55\n",
      "Correlation between latency and nf_router_L1-dcache-load-misses: 0.55\n",
      "Correlation between latency and ndpi_stats_LLC-stores: 0.54\n",
      "Correlation between latency and bridge_LLC-stores: 0.54\n",
      "Correlation between latency and nf_router_LLC-stores: 0.53\n",
      "Correlation between latency and payload_scan_LLC-stores: 0.53\n",
      "Correlation between latency and bridge_L1-dcache-load-misses: 0.50\n",
      "Correlation between latency and bridge_cache-references: 0.50\n",
      "Correlation between latency and payload_scan_L1-dcache-loads: 0.48\n",
      "Correlation between latency and firewall_L1-dcache-loads: 0.48\n",
      "Correlation between latency and payload_scan_instructions: 0.48\n",
      "Correlation between latency and bridge_LLC-loads: 0.48\n",
      "Correlation between latency and firewall_instructions: 0.48\n",
      "Correlation between latency and firewall_branches: 0.48\n",
      "Correlation between latency and payload_scan_branches: 0.48\n",
      "Correlation between latency and ndpi_stats_branches: 0.47\n",
      "Correlation between latency and ndpi_stats_L1-dcache-loads: 0.47\n",
      "Correlation between latency and ndpi_stats_instructions: 0.47\n",
      "Correlation between latency and bridge_branches: 0.41\n",
      "Correlation between latency and bridge_L1-dcache-loads: 0.41\n",
      "Correlation between latency and bridge_instructions: 0.41\n",
      "Correlation between latency and ndpi_stats_cache-misses: 0.33\n",
      "Correlation between latency and nf_router_branch-misses: 0.33\n",
      "Correlation between latency and nf_router_branch-load-misses: 0.33\n",
      "Correlation between latency and firewall_branch-load-misses: 0.30\n",
      "Correlation between latency and firewall_branch-misses: 0.29\n",
      "Correlation between latency and bridge_branch-load-misses: 0.27\n",
      "Correlation between latency and bridge_branch-misses: 0.27\n",
      "Correlation between latency and nf_router_cycles: 0.25\n",
      "Correlation between latency and ndpi_stats_LLC-load-misses: 0.24\n",
      "Correlation between latency and bridge_LLC-load-misses: 0.16\n",
      "Correlation between latency and nf_router_LLC-load-misses: 0.14\n",
      "Correlation between latency and ndpi_stats_cycles: 0.14\n",
      "Correlation between latency and ndpi_stats_branch-misses: 0.14\n",
      "Correlation between latency and ndpi_stats_branch-load-misses: 0.14\n",
      "Correlation between latency and firewall_LLC-load-misses: 0.13\n",
      "Correlation between latency and nf_router_cache-misses: 0.13\n",
      "Correlation between latency and bridge_cache-misses: 0.12\n",
      "Correlation between latency and payload_scan_branch-misses: 0.10\n",
      "Correlation between latency and payload_scan_branch-load-misses: 0.10\n",
      "Correlation between latency and firewall_cache-misses: 0.09\n",
      "Correlation between latency and bridge_cycles: 0.05\n",
      "Correlation between latency and payload_scan_LLC-load-misses: 0.05\n",
      "Correlation between latency and payload_scan_cache-misses: 0.05\n",
      "Correlation between latency and firewall_cycles: 0.04\n",
      "Correlation between latency and payload_scan_cycles: 0.02\n"
     ]
    }
   ],
   "source": [
    "corr = data.corr()\n",
    "correlation_list = []\n",
    "for i in range(2,3):\n",
    "    for j in range(i+1, len(corr.columns)):\n",
    "        correlation_list.append((corr.columns[i], corr.columns[j], abs(corr.iloc[i, j])))\n",
    "\n",
    "\n",
    "sorted_correlations = sorted(correlation_list, key=lambda x: x[2], reverse=True)\n",
    "\n",
    "for correlation in sorted_correlations:\n",
    "    print(f\"Correlation between {correlation[0]} and {correlation[1]}: {correlation[2]:.2f}\")"
   ]
  },
  {
   "cell_type": "markdown",
   "id": "26b653e4",
   "metadata": {},
   "source": [
    "# DNN to predict rate (training set: global)"
   ]
  },
  {
   "cell_type": "code",
   "execution_count": 30,
   "id": "191f6304",
   "metadata": {},
   "outputs": [],
   "source": [
    "current_dir = os.getcwd()\n",
    "file_path = os.path.abspath('../linear/datasets/load_stimulus_global.csv')\n",
    "#file_path = os.path.abspath('../linear/datasets/random_rates_exp-1.csv')\n",
    "data = pd.read_csv(file_path, index_col=0)\n",
    "data = data.replace(['<not counted>'], np.nan)\n",
    "#data = data.drop('latency', axis=1)\n",
    "df = data.dropna()"
   ]
  },
  {
   "cell_type": "code",
   "execution_count": 31,
   "id": "21d95fc6",
   "metadata": {},
   "outputs": [],
   "source": [
    "# data set\n",
    "# load_stimulus_global.csv: exp1_exp10\n",
    "# load_stimulus_global_1.csv:exp1_exp10+fixed_5000+fixed_7500\n",
    "# load_stimulus_global_2.csv:exp1_exp10+fixed_5000+fixed_7500+random\n",
    "# load_stimulus_global_3.csv:exp1_exp10+random\n",
    "#load_stimulus_global_4.csv:exp1_exp10+stage_random\n",
    "# performance: global>3>2>1"
   ]
  },
  {
   "cell_type": "code",
   "execution_count": 32,
   "id": "23ce8ef9",
   "metadata": {},
   "outputs": [
    {
     "name": "stdout",
     "output_type": "stream",
     "text": [
      "1780\n"
     ]
    }
   ],
   "source": [
    "# training \n",
    "X = df.drop(['input_rate','output_rate', 'latency'], axis=1)\n",
    "#X = df.drop(['input_rate','output_rate', 'latency','firewall_cycles','payload_scan_cycles','ndpi_stats_branch-load-misses',\n",
    "  #           'nf_router_cycles','bridge_cycles','payload_scan_LLC-load-misses','payload_scan_LLC-load-misses','bridge_LLC-load-misses',\n",
    "  #           'bridge_cache-misses','bridge_cache-misses','nf_router_cache-misses','firewall_cache-misses','nf_router_LLC-load-misses',\n",
    "    #         'ndpi_stats_LLC-load-misses','nf_router_branch-load-misses','nf_router_branch-misses','payload_scan_branch-load-misses',\n",
    "      #       'payload_scan_branch-misses','bridge_branch-misses','ndpi_stats_branch-load-misses','ndpi_stats_cache-misses','firewall_branch-misses'], axis=1)\n",
    "X=df.drop(['input_rate','output_rate', 'latency','ndpi_stats_branch-load-misses',\n",
    "            'payload_scan_LLC-load-misses','payload_scan_LLC-load-misses','bridge_LLC-load-misses',\n",
    "             'bridge_cache-misses','bridge_cache-misses','nf_router_cache-misses','firewall_cache-misses','nf_router_LLC-load-misses',\n",
    "             'ndpi_stats_LLC-load-misses','nf_router_branch-load-misses','nf_router_branch-misses','payload_scan_branch-load-misses',\n",
    "            'payload_scan_branch-misses','bridge_branch-misses','ndpi_stats_branch-load-misses','ndpi_stats_cache-misses','firewall_branch-misses','ndpi_stats_branches','firewall_branches','payload_scan_branches','bridge_branches'], axis=1)\n",
    "\n",
    "y = df['output_rate']\n",
    "\n",
    "X_train, X_test, y_train, y_test = train_test_split(X, y, test_size=0.3, random_state=0)\n",
    "\n",
    "column_order = X_train.columns\n",
    "X_test = X_test[column_order]\n",
    "\n",
    "\n",
    "# Standardize the features\n",
    "scaler = StandardScaler()\n",
    "X_train = scaler.fit_transform(X_train)\n",
    "X_test = scaler.transform(X_test)\n",
    "print(len(y))"
   ]
  },
  {
   "cell_type": "code",
   "execution_count": 33,
   "id": "cd3fdc82",
   "metadata": {},
   "outputs": [],
   "source": [
    "# model\n",
    "model = Sequential()\n",
    "\n",
    "# Add input layer and hidden layers\n",
    "model.add(Dense(32, activation='relu', input_shape=(X_train.shape[1],)))\n",
    "model.add(Dense(16, activation='relu'))\n",
    "\n",
    "# Add output layer\n",
    "model.add(Dense(1))"
   ]
  },
  {
   "cell_type": "code",
   "execution_count": 34,
   "id": "6e045fe4",
   "metadata": {
    "scrolled": false
   },
   "outputs": [
    {
     "name": "stdout",
     "output_type": "stream",
     "text": [
      "Epoch 1/100\n",
      "156/156 [==============================] - 1s 3ms/step - loss: 13096738.0000\n",
      "Epoch 2/100\n",
      "156/156 [==============================] - 1s 3ms/step - loss: 2295606.7500\n",
      "Epoch 3/100\n",
      "156/156 [==============================] - 1s 3ms/step - loss: 776741.6250\n",
      "Epoch 4/100\n",
      "156/156 [==============================] - 1s 4ms/step - loss: 405643.1875\n",
      "Epoch 5/100\n",
      "156/156 [==============================] - 1s 4ms/step - loss: 317608.0938\n",
      "Epoch 6/100\n",
      "156/156 [==============================] - 1s 4ms/step - loss: 282426.7500\n",
      "Epoch 7/100\n",
      "156/156 [==============================] - 0s 3ms/step - loss: 261207.0312\n",
      "Epoch 8/100\n",
      "156/156 [==============================] - 0s 3ms/step - loss: 258156.8594\n",
      "Epoch 9/100\n",
      "156/156 [==============================] - 1s 3ms/step - loss: 242486.8594\n",
      "Epoch 10/100\n",
      "156/156 [==============================] - 1s 3ms/step - loss: 231920.7500\n",
      "Epoch 11/100\n",
      "156/156 [==============================] - 0s 3ms/step - loss: 231742.0938\n",
      "Epoch 12/100\n",
      "156/156 [==============================] - 1s 3ms/step - loss: 221712.7500\n",
      "Epoch 13/100\n",
      "156/156 [==============================] - 1s 3ms/step - loss: 228370.7500\n",
      "Epoch 14/100\n",
      "156/156 [==============================] - 0s 3ms/step - loss: 216043.2031\n",
      "Epoch 15/100\n",
      "156/156 [==============================] - 0s 3ms/step - loss: 207800.3594\n",
      "Epoch 16/100\n",
      "156/156 [==============================] - 0s 3ms/step - loss: 200294.2656\n",
      "Epoch 17/100\n",
      "156/156 [==============================] - 0s 3ms/step - loss: 215612.0938\n",
      "Epoch 18/100\n",
      "156/156 [==============================] - 1s 3ms/step - loss: 200881.4219\n",
      "Epoch 19/100\n",
      "156/156 [==============================] - 0s 3ms/step - loss: 195814.8281\n",
      "Epoch 20/100\n",
      "156/156 [==============================] - 1s 3ms/step - loss: 201610.6406\n",
      "Epoch 21/100\n",
      "156/156 [==============================] - 0s 3ms/step - loss: 204467.5781\n",
      "Epoch 22/100\n",
      "156/156 [==============================] - 1s 3ms/step - loss: 182794.1250\n",
      "Epoch 23/100\n",
      "156/156 [==============================] - 0s 3ms/step - loss: 189945.0469\n",
      "Epoch 24/100\n",
      "156/156 [==============================] - 0s 3ms/step - loss: 190163.1562\n",
      "Epoch 25/100\n",
      "156/156 [==============================] - 0s 3ms/step - loss: 180249.5469\n",
      "Epoch 26/100\n",
      "156/156 [==============================] - 0s 3ms/step - loss: 184175.1562\n",
      "Epoch 27/100\n",
      "156/156 [==============================] - 1s 3ms/step - loss: 182502.4688\n",
      "Epoch 28/100\n",
      "156/156 [==============================] - 1s 3ms/step - loss: 178630.5938\n",
      "Epoch 29/100\n",
      "156/156 [==============================] - 0s 3ms/step - loss: 205753.3906\n",
      "Epoch 30/100\n",
      "156/156 [==============================] - 0s 3ms/step - loss: 190973.5938\n",
      "Epoch 31/100\n",
      "156/156 [==============================] - 0s 3ms/step - loss: 168746.1406\n",
      "Epoch 32/100\n",
      "156/156 [==============================] - 0s 3ms/step - loss: 163967.8594\n",
      "Epoch 33/100\n",
      "156/156 [==============================] - 1s 3ms/step - loss: 169847.9219\n",
      "Epoch 34/100\n",
      "156/156 [==============================] - 0s 3ms/step - loss: 171433.0625\n",
      "Epoch 35/100\n",
      "156/156 [==============================] - 0s 3ms/step - loss: 183059.0625\n",
      "Epoch 36/100\n",
      "156/156 [==============================] - 0s 3ms/step - loss: 169389.1094\n",
      "Epoch 37/100\n",
      "156/156 [==============================] - 1s 3ms/step - loss: 175794.5625\n",
      "Epoch 38/100\n",
      "156/156 [==============================] - 1s 3ms/step - loss: 171938.3438\n",
      "Epoch 39/100\n",
      "156/156 [==============================] - 0s 3ms/step - loss: 166481.2188\n",
      "Epoch 40/100\n",
      "156/156 [==============================] - 0s 3ms/step - loss: 162558.3594\n",
      "Epoch 41/100\n",
      "156/156 [==============================] - 1s 3ms/step - loss: 156697.4531\n",
      "Epoch 42/100\n",
      "156/156 [==============================] - 0s 3ms/step - loss: 159624.8438\n",
      "Epoch 43/100\n",
      "156/156 [==============================] - 1s 3ms/step - loss: 168219.4375\n",
      "Epoch 44/100\n",
      "156/156 [==============================] - 0s 3ms/step - loss: 181756.1250\n",
      "Epoch 45/100\n",
      "156/156 [==============================] - 1s 3ms/step - loss: 173316.6562\n",
      "Epoch 46/100\n",
      "156/156 [==============================] - 1s 3ms/step - loss: 158837.2969\n",
      "Epoch 47/100\n",
      "156/156 [==============================] - 0s 3ms/step - loss: 165327.7969\n",
      "Epoch 48/100\n",
      "156/156 [==============================] - 0s 3ms/step - loss: 159561.4844\n",
      "Epoch 49/100\n",
      "156/156 [==============================] - 0s 3ms/step - loss: 164765.3750\n",
      "Epoch 50/100\n",
      "156/156 [==============================] - 0s 3ms/step - loss: 161506.6094\n",
      "Epoch 51/100\n",
      "156/156 [==============================] - 1s 3ms/step - loss: 150265.1875\n",
      "Epoch 52/100\n",
      "156/156 [==============================] - 0s 3ms/step - loss: 168581.1406\n",
      "Epoch 53/100\n",
      "156/156 [==============================] - 1s 3ms/step - loss: 160912.0312\n",
      "Epoch 54/100\n",
      "156/156 [==============================] - 0s 3ms/step - loss: 165061.5469\n",
      "Epoch 55/100\n",
      "156/156 [==============================] - 0s 3ms/step - loss: 154314.4062\n",
      "Epoch 56/100\n",
      "156/156 [==============================] - 0s 3ms/step - loss: 155453.8906\n",
      "Epoch 57/100\n",
      "156/156 [==============================] - 0s 3ms/step - loss: 160716.1719\n",
      "Epoch 58/100\n",
      "156/156 [==============================] - 0s 3ms/step - loss: 152423.9844\n",
      "Epoch 59/100\n",
      "156/156 [==============================] - 0s 3ms/step - loss: 149066.7969\n",
      "Epoch 60/100\n",
      "156/156 [==============================] - 0s 3ms/step - loss: 152060.6875\n",
      "Epoch 61/100\n",
      "156/156 [==============================] - 0s 3ms/step - loss: 155291.3125\n",
      "Epoch 62/100\n",
      "156/156 [==============================] - 0s 3ms/step - loss: 167253.6875\n",
      "Epoch 63/100\n",
      "156/156 [==============================] - 0s 3ms/step - loss: 152792.3281\n",
      "Epoch 64/100\n",
      "156/156 [==============================] - 1s 3ms/step - loss: 153724.1094\n",
      "Epoch 65/100\n",
      "156/156 [==============================] - 1s 3ms/step - loss: 149257.5625\n",
      "Epoch 66/100\n",
      "156/156 [==============================] - 0s 3ms/step - loss: 148329.8750\n",
      "Epoch 67/100\n",
      "156/156 [==============================] - 0s 3ms/step - loss: 157376.3750\n",
      "Epoch 68/100\n",
      "156/156 [==============================] - 0s 3ms/step - loss: 152126.7812\n",
      "Epoch 69/100\n",
      "156/156 [==============================] - 1s 3ms/step - loss: 147244.5625\n",
      "Epoch 70/100\n",
      "156/156 [==============================] - 0s 3ms/step - loss: 157936.2188\n",
      "Epoch 71/100\n",
      "156/156 [==============================] - 0s 3ms/step - loss: 147419.3594\n",
      "Epoch 72/100\n",
      "156/156 [==============================] - 0s 3ms/step - loss: 149195.9062\n",
      "Epoch 73/100\n",
      "156/156 [==============================] - 0s 3ms/step - loss: 144026.6562\n",
      "Epoch 74/100\n",
      "156/156 [==============================] - 0s 3ms/step - loss: 150113.4062\n",
      "Epoch 75/100\n",
      "156/156 [==============================] - 1s 3ms/step - loss: 151195.4844\n",
      "Epoch 76/100\n",
      "156/156 [==============================] - 0s 3ms/step - loss: 146509.2031\n",
      "Epoch 77/100\n",
      "156/156 [==============================] - 0s 3ms/step - loss: 147840.9062\n",
      "Epoch 78/100\n",
      "156/156 [==============================] - 1s 3ms/step - loss: 147274.6719\n",
      "Epoch 79/100\n",
      "156/156 [==============================] - 0s 3ms/step - loss: 148632.7031\n",
      "Epoch 80/100\n",
      "156/156 [==============================] - 0s 3ms/step - loss: 159544.6406\n",
      "Epoch 81/100\n",
      "156/156 [==============================] - 1s 3ms/step - loss: 151382.7656\n",
      "Epoch 82/100\n",
      "156/156 [==============================] - 0s 3ms/step - loss: 148890.5312\n",
      "Epoch 83/100\n",
      "156/156 [==============================] - 0s 3ms/step - loss: 148515.6562\n",
      "Epoch 84/100\n",
      "156/156 [==============================] - 0s 3ms/step - loss: 142070.9531\n",
      "Epoch 85/100\n",
      "156/156 [==============================] - 0s 3ms/step - loss: 148609.6875\n",
      "Epoch 86/100\n",
      "156/156 [==============================] - 0s 3ms/step - loss: 156782.0938\n",
      "Epoch 87/100\n",
      "156/156 [==============================] - 0s 3ms/step - loss: 152593.4219\n",
      "Epoch 88/100\n",
      "156/156 [==============================] - 0s 3ms/step - loss: 145161.7500\n",
      "Epoch 89/100\n",
      "156/156 [==============================] - 1s 3ms/step - loss: 142561.8594\n",
      "Epoch 90/100\n",
      "156/156 [==============================] - 0s 3ms/step - loss: 142011.2812\n",
      "Epoch 91/100\n",
      "156/156 [==============================] - 1s 3ms/step - loss: 149922.5625\n",
      "Epoch 92/100\n",
      "156/156 [==============================] - 0s 3ms/step - loss: 151480.9688\n",
      "Epoch 93/100\n",
      "156/156 [==============================] - 1s 3ms/step - loss: 150629.5781\n",
      "Epoch 94/100\n",
      "156/156 [==============================] - 0s 3ms/step - loss: 143449.0625\n",
      "Epoch 95/100\n",
      "156/156 [==============================] - 0s 3ms/step - loss: 148165.1250\n",
      "Epoch 96/100\n",
      "156/156 [==============================] - 0s 3ms/step - loss: 152182.4062\n",
      "Epoch 97/100\n",
      "156/156 [==============================] - 0s 3ms/step - loss: 141498.3594\n",
      "Epoch 98/100\n",
      "156/156 [==============================] - 0s 3ms/step - loss: 150797.9375\n",
      "Epoch 99/100\n",
      "156/156 [==============================] - 0s 3ms/step - loss: 140555.6719\n",
      "Epoch 100/100\n",
      "156/156 [==============================] - 0s 3ms/step - loss: 158957.7188\n"
     ]
    },
    {
     "data": {
      "text/plain": [
       "<keras.callbacks.History at 0x1d1a804ffd0>"
      ]
     },
     "execution_count": 34,
     "metadata": {},
     "output_type": "execute_result"
    }
   ],
   "source": [
    "# Compile the model\n",
    "model.compile(optimizer=Adam(learning_rate=0.01), loss='mean_squared_error')\n",
    "model.fit(X_train, y_train, batch_size=8, epochs=100, verbose=1)"
   ]
  },
  {
   "cell_type": "code",
   "execution_count": 35,
   "id": "c99297b5",
   "metadata": {},
   "outputs": [
    {
     "name": "stdout",
     "output_type": "stream",
     "text": [
      "17/17 [==============================] - 0s 2ms/step\n",
      "[0.0, 76.40449438202246, 87.26591760299625, 94.00749063670412, 95.50561797752809, 97.37827715355806, 97.56554307116106, 97.75280898876404, 98.12734082397003, 98.50187265917603, 99.06367041198502]\n"
     ]
    },
    {
     "data": {
      "image/png": "[encoded data removed]",
      "text/plain": [
       "<Figure size 1600x1200 with 1 Axes>"
      ]
     },
     "metadata": {},
     "output_type": "display_data"
    }
   ],
   "source": [
    "# Make predictions on the test set\n",
    "import matplotlib.ticker as mticker\n",
    "\n",
    "y_pred = model.predict(X_test)\n",
    "mse = mean_squared_error(y_test, y_pred)\n",
    "r2 = r2_score(y_test, y_pred)\n",
    "\n",
    "# accuracy\n",
    "threshold = 0.05  \n",
    "y_pred=np.array(y_pred)\n",
    "y_pred = [item for subset in y_pred for item in subset]\n",
    "y_test=np.array(y_test)\n",
    "distances = [abs(real - pred) / real for real, pred in zip(y_test, y_pred)]\n",
    "accuracy_within_threshold = sum(dist <= threshold for dist in distances) / len(distances) * 100\n",
    "accuracy_cdf=[]\n",
    "# plot cdf of accurancy\n",
    "for threshold in range(11):\n",
    "    threshold = threshold/10\n",
    "    distances = [abs(real - pred) / real for real, pred in zip(y_test, y_pred)]\n",
    "    accuracy_within_threshold = sum(dist <= threshold for dist in distances) / len(distances) * 100\n",
    "    accuracy_cdf.append(accuracy_within_threshold)\n",
    "print(accuracy_cdf)\n",
    "\n",
    "# plot\n",
    "\n",
    "fig, ax = plt.subplots(facecolor='white', figsize=(8,6))\n",
    "#ax.set_facecolor('white')\n",
    "plt.style.use('classic')\n",
    "\n",
    "plt.plot(y_pred[0:100], marker='o',c='r',markersize = 2, linewidth = 0.8, linestyle='-', markeredgecolor='red', dashes=(5, 3),label='Prediction')\n",
    "plt.plot(y_test.tolist()[0:100], c='b',linestyle='-',linewidth = 0.8,label='Real data')\n",
    "\n",
    "\n",
    "plt.legend(loc=\"upper right\", fontsize=8)\n",
    "fig.text(0.5, 0.01, 'Series', size='12', ha='center')\n",
    "fig.text(0.01, 0.5, 'Values', size='12', va='center', rotation='vertical')\n",
    "plt.subplots_adjust(left=0.12, right=0.9, bottom=0.15, top=0.9, wspace=0.3, hspace=0.4)\n",
    "#plt.grid()\n",
    "ax.set_facecolor('white')\n",
    "\n",
    "# Set y-axis tick format\n",
    "formatter = mticker.FuncFormatter(lambda x, pos: f\"{int(x/1000)}\")\n",
    "ax.yaxis.set_major_formatter(formatter)\n",
    "# Set text in the upper left corner of the figure\n",
    "fig.text(0.12, 0.98, '1e3', size='12', ha='left', va='top')\n",
    "\n",
    "\n",
    "plt.show()\n"
   ]
  },
  {
   "cell_type": "code",
   "execution_count": 36,
   "id": "b2966be8",
   "metadata": {},
   "outputs": [
    {
     "name": "stdout",
     "output_type": "stream",
     "text": [
      "R-squared: 0.9792141574891883\n"
     ]
    }
   ],
   "source": [
    "\n",
    "from sklearn.metrics import r2_score\n",
    "\n",
    "r2 = r2_score(y_test, y_pred)\n",
    "print(\"R-squared:\", r2)"
   ]
  },
  {
   "cell_type": "markdown",
   "id": "a13596d3",
   "metadata": {},
   "source": [
    "# XAI: Analyze Sensitivity"
   ]
  },
  {
   "cell_type": "code",
   "execution_count": 37,
   "id": "090bc1da",
   "metadata": {},
   "outputs": [
    {
     "name": "stdout",
     "output_type": "stream",
     "text": [
      "17/17 [==============================] - 0s 1ms/step\n",
      "[0.06647537 0.14219122 0.30899436 0.03894    0.17849718 0.27186223\n",
      " 0.42885936 0.07540471 0.07284138 0.01006542 0.05688954 0.03016463\n",
      " 0.57917383 0.15889859 0.79104064 0.21650543 0.52672889 1.\n",
      " 0.11482666 0.25664516 0.19130909 0.10902065 0.73008021 0.36843139\n",
      " 0.65440943 0.10740794 0.63069083 0.58670477 0.1758911  0.02275286\n",
      " 0.         0.11985471 0.15761692 0.20398482 0.09672241 0.01303983\n",
      " 0.26469669 0.46332274 0.73895765 0.66181173 0.84395087]\n",
      "{'firewall_instructions': 0.06647537295050418, 'nf_router_instructions': 0.14219121796361756, 'ndpi_stats_instructions': 0.308994358976176, 'payload_scan_instructions': 0.03894000253085057, 'bridge_instructions': 0.17849717710514598, 'nf_router_branches': 0.27186223468524306, 'ndpi_stats_branch-misses': 0.428859357334552, 'firewall_branch-load-misses': 0.07540470823648857, 'bridge_branch-load-misses': 0.07284137998690621, 'payload_scan_cache-misses': 0.010065418861988881, 'firewall_cache-references': 0.05688954150487675, 'nf_router_cache-references': 0.03016462634118306, 'ndpi_stats_cache-references': 0.5791738302708903, 'payload_scan_cache-references': 0.15889859272192836, 'bridge_cache-references': 0.7910406441703303, 'firewall_cycles': 0.21650542592433192, 'nf_router_cycles': 0.5267288911049866, 'ndpi_stats_cycles': 1.0, 'payload_scan_cycles': 0.11482665697366308, 'bridge_cycles': 0.25664516170393714, 'firewall_L1-dcache-load-misses': 0.19130908970308, 'nf_router_L1-dcache-load-misses': 0.10902065016829532, 'ndpi_stats_L1-dcache-load-misses': 0.7300802124121637, 'payload_scan_L1-dcache-load-misses': 0.36843139391994767, 'bridge_L1-dcache-load-misses': 0.6544094254751173, 'firewall_L1-dcache-loads': 0.10740793896861137, 'nf_router_L1-dcache-loads': 0.630690833370646, 'ndpi_stats_L1-dcache-loads': 0.5867047687612705, 'payload_scan_L1-dcache-loads': 0.17589110315283651, 'bridge_L1-dcache-loads': 0.022752855147479666, 'firewall_LLC-load-misses': 0.0, 'firewall_LLC-stores': 0.11985470622661049, 'nf_router_LLC-stores': 0.15761692012225711, 'ndpi_stats_LLC-stores': 0.2039848234298345, 'payload_scan_LLC-stores': 0.0967224088044492, 'bridge_LLC-stores': 0.013039831535644085, 'firewall_LLC-loads': 0.2646966902992477, 'nf_router_LLC-loads': 0.46332273907699084, 'ndpi_stats_LLC-loads': 0.7389576496642559, 'payload_scan_LLC-loads': 0.6618117348764222, 'bridge_LLC-loads': 0.843950867242679}\n"
     ]
    }
   ],
   "source": [
    "import numpy as np\n",
    "import tensorflow as tf\n",
    "\n",
    "# Get the predictions for X_test\n",
    "y_pred = model.predict(X_test)\n",
    "\n",
    "# Calculate gradients with respect to each feature\n",
    "gradients = []\n",
    "for i in range(X_test.shape[0]):\n",
    "    input_instance = tf.convert_to_tensor(X_test[i].reshape(1, -1))\n",
    "    with tf.GradientTape() as tape:\n",
    "        tape.watch(input_instance)\n",
    "        output_instance = model(input_instance)\n",
    "    gradient = tape.gradient(output_instance, input_instance)\n",
    "    gradients.append(gradient.numpy())\n",
    "\n",
    "# Calculate the absolute average gradient for each feature\n",
    "avg_gradients = np.abs(np.mean(np.array(gradients), axis=0))\n",
    "\n",
    "# Perform min-max normalization on the gradients\n",
    "min_gradient = np.min(avg_gradients)\n",
    "max_gradient = np.max(avg_gradients)\n",
    "normalized_gradients = (avg_gradients - min_gradient) / (max_gradient - min_gradient)\n",
    "normalized_gradients =normalized_gradients[0]\n",
    "print(normalized_gradients)\n",
    "# Convert the normalized_gradients vector to a pandas Series with feature names as index\n",
    "sensitivity_series = pd.Series(normalized_gradients, index=column_order)\n",
    "\n",
    "# Convert the Series to a dictionary\n",
    "sensitivity_dict = sensitivity_series.to_dict()\n",
    "\n",
    "print(sensitivity_dict)\n"
   ]
  },
  {
   "cell_type": "markdown",
   "id": "28e7f122",
   "metadata": {},
   "source": [
    "# shap"
   ]
  },
  {
   "cell_type": "code",
   "execution_count": 38,
   "id": "213c482f",
   "metadata": {},
   "outputs": [],
   "source": [
    "#LIME (Local Interpretable Model-agnostic Explanations)"
   ]
  },
  {
   "cell_type": "code",
   "execution_count": 39,
   "id": "6d8d2a0f",
   "metadata": {},
   "outputs": [
    {
     "name": "stdout",
     "output_type": "stream",
     "text": [
      "260/260 [==============================] - 1s 2ms/step\n",
      "260/260 [==============================] - 1s 2ms/step\n",
      "260/260 [==============================] - 1s 2ms/step\n",
      "260/260 [==============================] - 1s 2ms/step\n",
      "260/260 [==============================] - 1s 2ms/step\n",
      "260/260 [==============================] - 1s 2ms/step\n",
      "260/260 [==============================] - 1s 2ms/step\n",
      "260/260 [==============================] - 1s 2ms/step\n",
      "132/132 [==============================] - 0s 2ms/step\n",
      "260/260 [==============================] - 1s 2ms/step\n",
      "260/260 [==============================] - 1s 2ms/step\n",
      "260/260 [==============================] - 1s 2ms/step\n",
      "260/260 [==============================] - 1s 2ms/step\n",
      "132/132 [==============================] - 0s 2ms/step\n",
      "260/260 [==============================] - 1s 2ms/step\n",
      "260/260 [==============================] - 1s 2ms/step\n",
      "260/260 [==============================] - 1s 2ms/step\n",
      "260/260 [==============================] - 1s 2ms/step\n",
      "132/132 [==============================] - 0s 2ms/step\n"
     ]
    },
    {
     "name": "stderr",
     "output_type": "stream",
     "text": [
      "\r",
      "Permutation explainer:   4%|██▋                                                                | 4/100 [00:00<?, ?it/s]"
     ]
    },
    {
     "name": "stdout",
     "output_type": "stream",
     "text": [
      "260/260 [==============================] - 1s 2ms/step\n",
      "260/260 [==============================] - 1s 2ms/step\n",
      "260/260 [==============================] - 1s 2ms/step\n",
      "260/260 [==============================] - 1s 2ms/step\n",
      "132/132 [==============================] - 0s 2ms/step\n"
     ]
    },
    {
     "name": "stderr",
     "output_type": "stream",
     "text": [
      "\r",
      "Permutation explainer:   6%|███▌                                                       | 6/100 [00:16<02:35,  1.65s/it]"
     ]
    },
    {
     "name": "stdout",
     "output_type": "stream",
     "text": [
      "260/260 [==============================] - 1s 2ms/step\n",
      "260/260 [==============================] - 1s 2ms/step\n",
      "260/260 [==============================] - 1s 2ms/step\n",
      "260/260 [==============================] - 1s 2ms/step\n",
      "132/132 [==============================] - 0s 2ms/step\n"
     ]
    },
    {
     "name": "stderr",
     "output_type": "stream",
     "text": [
      "\r",
      "Permutation explainer:   7%|████▏                                                      | 7/100 [00:19<03:39,  2.36s/it]"
     ]
    },
    {
     "name": "stdout",
     "output_type": "stream",
     "text": [
      "260/260 [==============================] - 1s 2ms/step\n",
      "260/260 [==============================] - 1s 2ms/step\n",
      "260/260 [==============================] - 1s 2ms/step\n",
      "260/260 [==============================] - 1s 2ms/step\n",
      "132/132 [==============================] - 0s 2ms/step\n"
     ]
    },
    {
     "name": "stderr",
     "output_type": "stream",
     "text": [
      "\r",
      "Permutation explainer:   8%|████▋                                                      | 8/100 [00:23<04:17,  2.80s/it]"
     ]
    },
    {
     "name": "stdout",
     "output_type": "stream",
     "text": [
      "260/260 [==============================] - 1s 2ms/step\n",
      "260/260 [==============================] - 1s 2ms/step\n",
      "260/260 [==============================] - 1s 2ms/step\n",
      "260/260 [==============================] - 1s 2ms/step\n",
      "132/132 [==============================] - 0s 2ms/step\n"
     ]
    },
    {
     "name": "stderr",
     "output_type": "stream",
     "text": [
      "\r",
      "Permutation explainer:   9%|█████▎                                                     | 9/100 [00:26<04:36,  3.04s/it]"
     ]
    },
    {
     "name": "stdout",
     "output_type": "stream",
     "text": [
      "260/260 [==============================] - 1s 2ms/step\n",
      "260/260 [==============================] - 1s 2ms/step\n",
      "260/260 [==============================] - 1s 2ms/step\n",
      "260/260 [==============================] - 1s 2ms/step\n",
      "132/132 [==============================] - 0s 2ms/step\n"
     ]
    },
    {
     "name": "stderr",
     "output_type": "stream",
     "text": [
      "\r",
      "Permutation explainer:  10%|█████▊                                                    | 10/100 [00:30<04:42,  3.14s/it]"
     ]
    },
    {
     "name": "stdout",
     "output_type": "stream",
     "text": [
      "260/260 [==============================] - 1s 2ms/step\n",
      "260/260 [==============================] - 1s 2ms/step\n",
      "260/260 [==============================] - 1s 2ms/step\n",
      "260/260 [==============================] - 1s 2ms/step\n",
      "132/132 [==============================] - 0s 2ms/step\n"
     ]
    },
    {
     "name": "stderr",
     "output_type": "stream",
     "text": [
      "\r",
      "Permutation explainer:  11%|██████▍                                                   | 11/100 [00:33<04:54,  3.30s/it]"
     ]
    },
    {
     "name": "stdout",
     "output_type": "stream",
     "text": [
      "260/260 [==============================] - 1s 2ms/step\n",
      "260/260 [==============================] - 1s 3ms/step\n",
      "260/260 [==============================] - 1s 2ms/step\n",
      "260/260 [==============================] - 1s 3ms/step\n",
      "132/132 [==============================] - 0s 3ms/step\n"
     ]
    },
    {
     "name": "stderr",
     "output_type": "stream",
     "text": [
      "\r",
      "Permutation explainer:  12%|██████▉                                                   | 12/100 [00:38<05:17,  3.61s/it]"
     ]
    },
    {
     "name": "stdout",
     "output_type": "stream",
     "text": [
      "260/260 [==============================] - 0s 2ms/step\n",
      "260/260 [==============================] - 1s 2ms/step\n",
      "260/260 [==============================] - 1s 2ms/step\n",
      "260/260 [==============================] - 0s 1ms/step\n",
      "132/132 [==============================] - 0s 2ms/step\n"
     ]
    },
    {
     "name": "stderr",
     "output_type": "stream",
     "text": [
      "\r",
      "Permutation explainer:  13%|███████▌                                                  | 13/100 [00:41<04:57,  3.41s/it]"
     ]
    },
    {
     "name": "stdout",
     "output_type": "stream",
     "text": [
      "260/260 [==============================] - 0s 2ms/step\n",
      "260/260 [==============================] - 1s 2ms/step\n",
      "260/260 [==============================] - 1s 3ms/step\n",
      "260/260 [==============================] - 1s 2ms/step\n",
      "132/132 [==============================] - 0s 2ms/step\n"
     ]
    },
    {
     "name": "stderr",
     "output_type": "stream",
     "text": [
      "\r",
      "Permutation explainer:  14%|████████                                                  | 14/100 [00:44<05:01,  3.50s/it]"
     ]
    },
    {
     "name": "stdout",
     "output_type": "stream",
     "text": [
      "260/260 [==============================] - 1s 3ms/step\n",
      "260/260 [==============================] - 1s 3ms/step\n",
      "260/260 [==============================] - 1s 2ms/step\n",
      "260/260 [==============================] - 1s 2ms/step\n",
      "132/132 [==============================] - 0s 3ms/step\n"
     ]
    },
    {
     "name": "stderr",
     "output_type": "stream",
     "text": [
      "\r",
      "Permutation explainer:  15%|████████▋                                                 | 15/100 [00:48<05:14,  3.70s/it]"
     ]
    },
    {
     "name": "stdout",
     "output_type": "stream",
     "text": [
      "260/260 [==============================] - 1s 3ms/step\n",
      "260/260 [==============================] - 1s 3ms/step\n",
      "260/260 [==============================] - 1s 3ms/step\n",
      "260/260 [==============================] - 1s 2ms/step\n",
      "132/132 [==============================] - 0s 2ms/step\n"
     ]
    },
    {
     "name": "stderr",
     "output_type": "stream",
     "text": [
      "\r",
      "Permutation explainer:  16%|█████████▎                                                | 16/100 [00:52<05:19,  3.80s/it]"
     ]
    },
    {
     "name": "stdout",
     "output_type": "stream",
     "text": [
      "260/260 [==============================] - 1s 2ms/step\n",
      "260/260 [==============================] - 1s 2ms/step\n",
      "260/260 [==============================] - 1s 3ms/step\n",
      "260/260 [==============================] - 1s 2ms/step\n",
      "132/132 [==============================] - 0s 3ms/step\n"
     ]
    },
    {
     "name": "stderr",
     "output_type": "stream",
     "text": [
      "\r",
      "Permutation explainer:  17%|█████████▊                                                | 17/100 [00:56<05:14,  3.79s/it]"
     ]
    },
    {
     "name": "stdout",
     "output_type": "stream",
     "text": [
      "260/260 [==============================] - 1s 2ms/step\n",
      "260/260 [==============================] - 1s 2ms/step\n",
      "260/260 [==============================] - 1s 2ms/step\n",
      "260/260 [==============================] - 1s 2ms/step\n",
      "132/132 [==============================] - 0s 3ms/step\n"
     ]
    },
    {
     "name": "stderr",
     "output_type": "stream",
     "text": [
      "\r",
      "Permutation explainer:  18%|██████████▍                                               | 18/100 [01:00<05:10,  3.79s/it]"
     ]
    },
    {
     "name": "stdout",
     "output_type": "stream",
     "text": [
      "260/260 [==============================] - 1s 3ms/step\n",
      "260/260 [==============================] - 1s 3ms/step\n",
      "260/260 [==============================] - 1s 3ms/step\n",
      "260/260 [==============================] - 1s 3ms/step\n",
      "132/132 [==============================] - 0s 3ms/step\n"
     ]
    },
    {
     "name": "stderr",
     "output_type": "stream",
     "text": [
      "\r",
      "Permutation explainer:  19%|███████████                                               | 19/100 [01:05<05:28,  4.05s/it]"
     ]
    },
    {
     "name": "stdout",
     "output_type": "stream",
     "text": [
      "260/260 [==============================] - 1s 3ms/step\n",
      "260/260 [==============================] - 1s 3ms/step\n",
      "260/260 [==============================] - 1s 3ms/step\n",
      "260/260 [==============================] - 1s 3ms/step\n",
      "132/132 [==============================] - 0s 2ms/step\n"
     ]
    },
    {
     "name": "stderr",
     "output_type": "stream",
     "text": [
      "\r",
      "Permutation explainer:  20%|███████████▌                                              | 20/100 [01:09<05:27,  4.10s/it]"
     ]
    },
    {
     "name": "stdout",
     "output_type": "stream",
     "text": [
      "260/260 [==============================] - 1s 2ms/step\n",
      "260/260 [==============================] - 1s 2ms/step\n",
      "260/260 [==============================] - 1s 2ms/step\n",
      "260/260 [==============================] - 1s 2ms/step\n",
      "132/132 [==============================] - 0s 2ms/step\n"
     ]
    },
    {
     "name": "stderr",
     "output_type": "stream",
     "text": [
      "\r",
      "Permutation explainer:  21%|████████████▏                                             | 21/100 [01:12<05:04,  3.86s/it]"
     ]
    },
    {
     "name": "stdout",
     "output_type": "stream",
     "text": [
      "260/260 [==============================] - 1s 2ms/step\n",
      "260/260 [==============================] - 1s 2ms/step\n",
      "260/260 [==============================] - 1s 3ms/step\n",
      "260/260 [==============================] - 1s 2ms/step\n",
      "132/132 [==============================] - 0s 2ms/step\n"
     ]
    },
    {
     "name": "stderr",
     "output_type": "stream",
     "text": [
      "\r",
      "Permutation explainer:  22%|████████████▊                                             | 22/100 [01:16<05:04,  3.91s/it]"
     ]
    },
    {
     "name": "stdout",
     "output_type": "stream",
     "text": [
      "260/260 [==============================] - 1s 2ms/step\n",
      "260/260 [==============================] - 1s 2ms/step\n",
      "260/260 [==============================] - 1s 2ms/step\n",
      "260/260 [==============================] - 1s 2ms/step\n",
      "132/132 [==============================] - 0s 2ms/step\n"
     ]
    },
    {
     "name": "stderr",
     "output_type": "stream",
     "text": [
      "\r",
      "Permutation explainer:  23%|█████████████▎                                            | 23/100 [01:20<05:01,  3.91s/it]"
     ]
    },
    {
     "name": "stdout",
     "output_type": "stream",
     "text": [
      "260/260 [==============================] - 1s 2ms/step\n",
      "260/260 [==============================] - 1s 2ms/step\n",
      "260/260 [==============================] - 1s 2ms/step\n",
      "260/260 [==============================] - 1s 2ms/step\n",
      "132/132 [==============================] - 0s 2ms/step\n"
     ]
    },
    {
     "name": "stderr",
     "output_type": "stream",
     "text": [
      "\r",
      "Permutation explainer:  24%|█████████████▉                                            | 24/100 [01:23<04:41,  3.71s/it]"
     ]
    },
    {
     "name": "stdout",
     "output_type": "stream",
     "text": [
      "260/260 [==============================] - 1s 2ms/step\n",
      "260/260 [==============================] - 1s 2ms/step\n",
      "260/260 [==============================] - 1s 2ms/step\n",
      "260/260 [==============================] - 1s 2ms/step\n",
      "132/132 [==============================] - 0s 2ms/step\n"
     ]
    },
    {
     "name": "stderr",
     "output_type": "stream",
     "text": [
      "\r",
      "Permutation explainer:  25%|██████████████▌                                           | 25/100 [01:27<04:27,  3.56s/it]"
     ]
    },
    {
     "name": "stdout",
     "output_type": "stream",
     "text": [
      "260/260 [==============================] - 1s 2ms/step\n",
      "260/260 [==============================] - 1s 2ms/step\n",
      "260/260 [==============================] - 1s 2ms/step\n",
      "260/260 [==============================] - 1s 2ms/step\n",
      "132/132 [==============================] - 0s 2ms/step\n"
     ]
    },
    {
     "name": "stderr",
     "output_type": "stream",
     "text": [
      "\r",
      "Permutation explainer:  26%|███████████████                                           | 26/100 [01:30<04:18,  3.49s/it]"
     ]
    },
    {
     "name": "stdout",
     "output_type": "stream",
     "text": [
      "260/260 [==============================] - 1s 2ms/step\n",
      "260/260 [==============================] - 1s 2ms/step\n",
      "260/260 [==============================] - 1s 3ms/step\n",
      "260/260 [==============================] - 1s 3ms/step\n",
      "132/132 [==============================] - 1s 9ms/step\n"
     ]
    },
    {
     "name": "stderr",
     "output_type": "stream",
     "text": [
      "\r",
      "Permutation explainer:  27%|███████████████▋                                          | 27/100 [01:35<04:55,  4.05s/it]"
     ]
    },
    {
     "name": "stdout",
     "output_type": "stream",
     "text": [
      "260/260 [==============================] - 0s 2ms/step\n",
      "260/260 [==============================] - 1s 2ms/step\n",
      "260/260 [==============================] - 0s 2ms/step\n",
      "260/260 [==============================] - 0s 690us/step\n",
      "132/132 [==============================] - 0s 2ms/step\n"
     ]
    },
    {
     "name": "stderr",
     "output_type": "stream",
     "text": [
      "\r",
      "Permutation explainer:  28%|████████████████▏                                         | 28/100 [01:39<04:54,  4.10s/it]"
     ]
    },
    {
     "name": "stdout",
     "output_type": "stream",
     "text": [
      "260/260 [==============================] - 0s 859us/step\n",
      "260/260 [==============================] - 0s 2ms/step\n",
      "260/260 [==============================] - 0s 1ms/step\n",
      "260/260 [==============================] - 1s 2ms/step\n",
      "132/132 [==============================] - 0s 2ms/step\n"
     ]
    },
    {
     "name": "stderr",
     "output_type": "stream",
     "text": [
      "\r",
      "Permutation explainer:  29%|████████████████▊                                         | 29/100 [01:42<04:28,  3.78s/it]"
     ]
    },
    {
     "name": "stdout",
     "output_type": "stream",
     "text": [
      "260/260 [==============================] - 1s 2ms/step\n",
      "260/260 [==============================] - 1s 2ms/step\n",
      "260/260 [==============================] - 1s 3ms/step\n",
      "260/260 [==============================] - 1s 2ms/step\n",
      "132/132 [==============================] - 0s 3ms/step\n"
     ]
    },
    {
     "name": "stderr",
     "output_type": "stream",
     "text": [
      "\r",
      "Permutation explainer:  30%|█████████████████▍                                        | 30/100 [01:48<04:58,  4.27s/it]"
     ]
    },
    {
     "name": "stdout",
     "output_type": "stream",
     "text": [
      "260/260 [==============================] - 1s 2ms/step\n",
      "260/260 [==============================] - 0s 847us/step\n",
      "260/260 [==============================] - 1s 3ms/step\n",
      "260/260 [==============================] - 0s 2ms/step\n",
      "132/132 [==============================] - 0s 3ms/step\n"
     ]
    },
    {
     "name": "stderr",
     "output_type": "stream",
     "text": [
      "\r",
      "Permutation explainer:  31%|█████████████████▉                                        | 31/100 [01:53<05:01,  4.37s/it]"
     ]
    },
    {
     "name": "stdout",
     "output_type": "stream",
     "text": [
      "260/260 [==============================] - 1s 2ms/step\n",
      "260/260 [==============================] - 1s 2ms/step\n",
      "260/260 [==============================] - 1s 2ms/step\n",
      "260/260 [==============================] - 1s 3ms/step\n",
      "132/132 [==============================] - 0s 2ms/step\n"
     ]
    },
    {
     "name": "stderr",
     "output_type": "stream",
     "text": [
      "\r",
      "Permutation explainer:  32%|██████████████████▌                                       | 32/100 [01:58<05:12,  4.59s/it]"
     ]
    },
    {
     "name": "stdout",
     "output_type": "stream",
     "text": [
      "260/260 [==============================] - 1s 3ms/step\n",
      "260/260 [==============================] - 1s 3ms/step\n",
      "260/260 [==============================] - 1s 3ms/step\n",
      "260/260 [==============================] - 1s 2ms/step\n",
      "132/132 [==============================] - 0s 3ms/step\n"
     ]
    },
    {
     "name": "stderr",
     "output_type": "stream",
     "text": [
      "\r",
      "Permutation explainer:  33%|███████████████████▏                                      | 33/100 [02:03<05:13,  4.68s/it]"
     ]
    },
    {
     "name": "stdout",
     "output_type": "stream",
     "text": [
      "260/260 [==============================] - 1s 2ms/step\n",
      "260/260 [==============================] - 1s 3ms/step\n",
      "260/260 [==============================] - 1s 3ms/step\n",
      "260/260 [==============================] - 0s 2ms/step\n",
      "132/132 [==============================] - 0s 1ms/step\n"
     ]
    },
    {
     "name": "stderr",
     "output_type": "stream",
     "text": [
      "\r",
      "Permutation explainer:  34%|███████████████████▋                                      | 34/100 [02:07<04:57,  4.50s/it]"
     ]
    },
    {
     "name": "stdout",
     "output_type": "stream",
     "text": [
      "260/260 [==============================] - 1s 3ms/step\n",
      "260/260 [==============================] - 1s 3ms/step\n",
      "260/260 [==============================] - 1s 2ms/step\n",
      "260/260 [==============================] - 1s 3ms/step\n",
      "132/132 [==============================] - 0s 2ms/step\n"
     ]
    },
    {
     "name": "stderr",
     "output_type": "stream",
     "text": [
      "\r",
      "Permutation explainer:  35%|████████████████████▎                                     | 35/100 [02:12<05:10,  4.77s/it]"
     ]
    },
    {
     "name": "stdout",
     "output_type": "stream",
     "text": [
      "260/260 [==============================] - 1s 3ms/step\n",
      "260/260 [==============================] - 1s 2ms/step\n",
      "260/260 [==============================] - 1s 2ms/step\n",
      "260/260 [==============================] - 1s 2ms/step\n",
      "132/132 [==============================] - 0s 906us/step\n"
     ]
    },
    {
     "name": "stderr",
     "output_type": "stream",
     "text": [
      "\r",
      "Permutation explainer:  36%|████████████████████▉                                     | 36/100 [02:17<05:08,  4.83s/it]"
     ]
    },
    {
     "name": "stdout",
     "output_type": "stream",
     "text": [
      "260/260 [==============================] - 1s 2ms/step\n",
      "260/260 [==============================] - 1s 2ms/step\n",
      "260/260 [==============================] - 1s 2ms/step\n",
      "260/260 [==============================] - 1s 2ms/step\n",
      "132/132 [==============================] - 0s 2ms/step\n"
     ]
    },
    {
     "name": "stderr",
     "output_type": "stream",
     "text": [
      "\r",
      "Permutation explainer:  37%|█████████████████████▍                                    | 37/100 [02:21<04:44,  4.52s/it]"
     ]
    },
    {
     "name": "stdout",
     "output_type": "stream",
     "text": [
      "260/260 [==============================] - 1s 2ms/step\n",
      "260/260 [==============================] - 1s 2ms/step\n",
      "260/260 [==============================] - 1s 2ms/step\n",
      "260/260 [==============================] - 1s 2ms/step\n",
      "132/132 [==============================] - 0s 2ms/step\n"
     ]
    },
    {
     "name": "stderr",
     "output_type": "stream",
     "text": [
      "\r",
      "Permutation explainer:  38%|██████████████████████                                    | 38/100 [02:26<04:46,  4.62s/it]"
     ]
    },
    {
     "name": "stdout",
     "output_type": "stream",
     "text": [
      "260/260 [==============================] - 1s 2ms/step\n",
      "260/260 [==============================] - 0s 2ms/step\n",
      "260/260 [==============================] - 0s 2ms/step\n",
      "260/260 [==============================] - 1s 3ms/step\n",
      "132/132 [==============================] - 0s 3ms/step\n"
     ]
    },
    {
     "name": "stderr",
     "output_type": "stream",
     "text": [
      "\r",
      "Permutation explainer:  39%|██████████████████████▌                                   | 39/100 [02:29<04:24,  4.33s/it]"
     ]
    },
    {
     "name": "stdout",
     "output_type": "stream",
     "text": [
      "260/260 [==============================] - 1s 2ms/step\n",
      "260/260 [==============================] - 1s 2ms/step\n",
      "260/260 [==============================] - 1s 2ms/step\n",
      "260/260 [==============================] - 1s 2ms/step\n",
      "132/132 [==============================] - 0s 2ms/step\n"
     ]
    },
    {
     "name": "stderr",
     "output_type": "stream",
     "text": [
      "\r",
      "Permutation explainer:  40%|███████████████████████▏                                  | 40/100 [02:33<04:09,  4.15s/it]"
     ]
    },
    {
     "name": "stdout",
     "output_type": "stream",
     "text": [
      "260/260 [==============================] - 1s 2ms/step\n",
      "260/260 [==============================] - 1s 2ms/step\n",
      "260/260 [==============================] - 1s 2ms/step\n",
      "260/260 [==============================] - 1s 3ms/step\n",
      "132/132 [==============================] - 0s 3ms/step\n"
     ]
    },
    {
     "name": "stderr",
     "output_type": "stream",
     "text": [
      "\r",
      "Permutation explainer:  41%|███████████████████████▊                                  | 41/100 [02:37<03:55,  4.00s/it]"
     ]
    },
    {
     "name": "stdout",
     "output_type": "stream",
     "text": [
      "260/260 [==============================] - 1s 3ms/step\n",
      "260/260 [==============================] - 1s 2ms/step\n",
      "260/260 [==============================] - 1s 3ms/step\n",
      "260/260 [==============================] - 1s 2ms/step\n",
      "132/132 [==============================] - 0s 2ms/step\n"
     ]
    },
    {
     "name": "stderr",
     "output_type": "stream",
     "text": [
      "\r",
      "Permutation explainer:  42%|████████████████████████▎                                 | 42/100 [02:41<03:54,  4.04s/it]"
     ]
    },
    {
     "name": "stdout",
     "output_type": "stream",
     "text": [
      "260/260 [==============================] - 1s 3ms/step\n",
      "260/260 [==============================] - 0s 1ms/step\n",
      "260/260 [==============================] - 1s 2ms/step\n",
      "260/260 [==============================] - 1s 2ms/step\n",
      "132/132 [==============================] - 0s 2ms/step\n"
     ]
    },
    {
     "name": "stderr",
     "output_type": "stream",
     "text": [
      "\r",
      "Permutation explainer:  43%|████████████████████████▉                                 | 43/100 [02:46<04:04,  4.28s/it]"
     ]
    },
    {
     "name": "stdout",
     "output_type": "stream",
     "text": [
      "260/260 [==============================] - 1s 2ms/step\n",
      "260/260 [==============================] - 0s 1ms/step\n",
      "260/260 [==============================] - 0s 1ms/step\n",
      "260/260 [==============================] - 1s 2ms/step\n",
      "132/132 [==============================] - 0s 1ms/step\n"
     ]
    },
    {
     "name": "stderr",
     "output_type": "stream",
     "text": [
      "\r",
      "Permutation explainer:  44%|█████████████████████████▌                                | 44/100 [02:49<03:44,  4.01s/it]"
     ]
    },
    {
     "name": "stdout",
     "output_type": "stream",
     "text": [
      "260/260 [==============================] - 1s 2ms/step\n",
      "260/260 [==============================] - 1s 3ms/step\n",
      "260/260 [==============================] - 1s 2ms/step\n",
      "260/260 [==============================] - 0s 1ms/step\n",
      "132/132 [==============================] - 0s 2ms/step\n"
     ]
    },
    {
     "name": "stderr",
     "output_type": "stream",
     "text": [
      "\r",
      "Permutation explainer:  45%|██████████████████████████                                | 45/100 [02:54<03:52,  4.23s/it]"
     ]
    },
    {
     "name": "stdout",
     "output_type": "stream",
     "text": [
      "260/260 [==============================] - 0s 2ms/step\n",
      "260/260 [==============================] - 0s 2ms/step\n",
      "260/260 [==============================] - 0s 2ms/step\n",
      "260/260 [==============================] - 0s 1ms/step\n",
      "132/132 [==============================] - 0s 2ms/step\n"
     ]
    },
    {
     "name": "stderr",
     "output_type": "stream",
     "text": [
      "\r",
      "Permutation explainer:  46%|██████████████████████████▋                               | 46/100 [02:56<03:24,  3.78s/it]"
     ]
    },
    {
     "name": "stdout",
     "output_type": "stream",
     "text": [
      "260/260 [==============================] - 0s 1ms/step\n",
      "260/260 [==============================] - 0s 2ms/step\n",
      "260/260 [==============================] - 1s 2ms/step\n",
      "260/260 [==============================] - 1s 3ms/step\n",
      "132/132 [==============================] - 0s 1ms/step\n"
     ]
    },
    {
     "name": "stderr",
     "output_type": "stream",
     "text": [
      "\r",
      "Permutation explainer:  47%|███████████████████████████▎                              | 47/100 [03:01<03:29,  3.95s/it]"
     ]
    },
    {
     "name": "stdout",
     "output_type": "stream",
     "text": [
      "260/260 [==============================] - 0s 2ms/step\n",
      "260/260 [==============================] - 0s 745us/step\n",
      "260/260 [==============================] - 0s 2ms/step\n",
      "260/260 [==============================] - 0s 896us/step\n",
      "132/132 [==============================] - 0s 975us/step\n"
     ]
    },
    {
     "name": "stderr",
     "output_type": "stream",
     "text": [
      "\r",
      "Permutation explainer:  48%|███████████████████████████▊                              | 48/100 [03:03<03:01,  3.50s/it]"
     ]
    },
    {
     "name": "stdout",
     "output_type": "stream",
     "text": [
      "260/260 [==============================] - 0s 1ms/step\n",
      "260/260 [==============================] - 0s 1ms/step\n",
      "260/260 [==============================] - 1s 2ms/step\n",
      "260/260 [==============================] - 1s 2ms/step\n",
      "132/132 [==============================] - 0s 2ms/step\n"
     ]
    },
    {
     "name": "stderr",
     "output_type": "stream",
     "text": [
      "\r",
      "Permutation explainer:  49%|████████████████████████████▍                             | 49/100 [03:06<02:52,  3.38s/it]"
     ]
    },
    {
     "name": "stdout",
     "output_type": "stream",
     "text": [
      "260/260 [==============================] - 1s 4ms/step\n",
      "260/260 [==============================] - 1s 2ms/step\n",
      "260/260 [==============================] - 1s 3ms/step\n",
      "260/260 [==============================] - 1s 3ms/step\n",
      "132/132 [==============================] - 0s 3ms/step\n"
     ]
    },
    {
     "name": "stderr",
     "output_type": "stream",
     "text": [
      "\r",
      "Permutation explainer:  50%|█████████████████████████████                             | 50/100 [03:11<03:13,  3.87s/it]"
     ]
    },
    {
     "name": "stdout",
     "output_type": "stream",
     "text": [
      "260/260 [==============================] - 1s 2ms/step\n",
      "260/260 [==============================] - 1s 3ms/step\n",
      "260/260 [==============================] - 1s 2ms/step\n",
      "260/260 [==============================] - 1s 2ms/step\n",
      "132/132 [==============================] - 0s 2ms/step\n"
     ]
    },
    {
     "name": "stderr",
     "output_type": "stream",
     "text": [
      "\r",
      "Permutation explainer:  51%|█████████████████████████████▌                            | 51/100 [03:15<03:10,  3.89s/it]"
     ]
    },
    {
     "name": "stdout",
     "output_type": "stream",
     "text": [
      "260/260 [==============================] - 1s 2ms/step\n",
      "260/260 [==============================] - 0s 2ms/step\n",
      "260/260 [==============================] - 1s 2ms/step\n",
      "260/260 [==============================] - 1s 2ms/step\n",
      "132/132 [==============================] - 0s 2ms/step\n"
     ]
    },
    {
     "name": "stderr",
     "output_type": "stream",
     "text": [
      "\r",
      "Permutation explainer:  52%|██████████████████████████████▏                           | 52/100 [03:19<02:58,  3.73s/it]"
     ]
    },
    {
     "name": "stdout",
     "output_type": "stream",
     "text": [
      "260/260 [==============================] - 0s 2ms/step\n",
      "260/260 [==============================] - 0s 1ms/step\n",
      "260/260 [==============================] - 0s 1ms/step\n",
      "260/260 [==============================] - 0s 2ms/step\n",
      "132/132 [==============================] - 0s 1ms/step\n"
     ]
    },
    {
     "name": "stderr",
     "output_type": "stream",
     "text": [
      "\r",
      "Permutation explainer:  53%|██████████████████████████████▋                           | 53/100 [03:21<02:38,  3.38s/it]"
     ]
    },
    {
     "name": "stdout",
     "output_type": "stream",
     "text": [
      "260/260 [==============================] - 0s 2ms/step\n",
      "260/260 [==============================] - 1s 2ms/step\n",
      "260/260 [==============================] - 1s 3ms/step\n",
      "260/260 [==============================] - 1s 3ms/step\n",
      "132/132 [==============================] - 0s 2ms/step\n"
     ]
    },
    {
     "name": "stderr",
     "output_type": "stream",
     "text": [
      "\r",
      "Permutation explainer:  54%|███████████████████████████████▎                          | 54/100 [03:25<02:36,  3.41s/it]"
     ]
    },
    {
     "name": "stdout",
     "output_type": "stream",
     "text": [
      "260/260 [==============================] - 1s 2ms/step\n",
      "260/260 [==============================] - 1s 2ms/step\n",
      "260/260 [==============================] - 0s 2ms/step\n",
      "260/260 [==============================] - 0s 2ms/step\n",
      "132/132 [==============================] - 0s 871us/step\n"
     ]
    },
    {
     "name": "stderr",
     "output_type": "stream",
     "text": [
      "\r",
      "Permutation explainer:  55%|███████████████████████████████▉                          | 55/100 [03:29<02:44,  3.65s/it]"
     ]
    },
    {
     "name": "stdout",
     "output_type": "stream",
     "text": [
      "260/260 [==============================] - 1s 3ms/step\n",
      "260/260 [==============================] - 1s 2ms/step\n",
      "260/260 [==============================] - 0s 2ms/step\n",
      "260/260 [==============================] - 1s 2ms/step\n",
      "132/132 [==============================] - 0s 2ms/step\n"
     ]
    },
    {
     "name": "stderr",
     "output_type": "stream",
     "text": [
      "\r",
      "Permutation explainer:  56%|████████████████████████████████▍                         | 56/100 [03:33<02:48,  3.84s/it]"
     ]
    },
    {
     "name": "stdout",
     "output_type": "stream",
     "text": [
      "260/260 [==============================] - 1s 3ms/step\n",
      "260/260 [==============================] - 1s 2ms/step\n",
      "260/260 [==============================] - 1s 2ms/step\n",
      "260/260 [==============================] - 1s 2ms/step\n",
      "132/132 [==============================] - 0s 2ms/step\n"
     ]
    },
    {
     "name": "stderr",
     "output_type": "stream",
     "text": [
      "\r",
      "Permutation explainer:  57%|█████████████████████████████████                         | 57/100 [03:38<02:56,  4.11s/it]"
     ]
    },
    {
     "name": "stdout",
     "output_type": "stream",
     "text": [
      "260/260 [==============================] - 1s 2ms/step\n",
      "260/260 [==============================] - 1s 2ms/step\n",
      "260/260 [==============================] - 1s 3ms/step\n",
      "260/260 [==============================] - 1s 2ms/step\n",
      "132/132 [==============================] - 0s 2ms/step\n"
     ]
    },
    {
     "name": "stderr",
     "output_type": "stream",
     "text": [
      "\r",
      "Permutation explainer:  58%|█████████████████████████████████▋                        | 58/100 [03:42<02:50,  4.05s/it]"
     ]
    },
    {
     "name": "stdout",
     "output_type": "stream",
     "text": [
      "260/260 [==============================] - 1s 2ms/step\n",
      "260/260 [==============================] - 1s 3ms/step\n",
      "260/260 [==============================] - 1s 3ms/step\n",
      "260/260 [==============================] - 1s 2ms/step\n",
      "132/132 [==============================] - 0s 3ms/step\n"
     ]
    },
    {
     "name": "stderr",
     "output_type": "stream",
     "text": [
      "\r",
      "Permutation explainer:  59%|██████████████████████████████████▏                       | 59/100 [03:46<02:44,  4.01s/it]"
     ]
    },
    {
     "name": "stdout",
     "output_type": "stream",
     "text": [
      "260/260 [==============================] - 1s 2ms/step\n",
      "260/260 [==============================] - 1s 3ms/step\n",
      "260/260 [==============================] - 1s 2ms/step\n",
      "260/260 [==============================] - 1s 3ms/step\n",
      "132/132 [==============================] - 0s 3ms/step\n"
     ]
    },
    {
     "name": "stderr",
     "output_type": "stream",
     "text": [
      "\r",
      "Permutation explainer:  60%|██████████████████████████████████▊                       | 60/100 [03:50<02:40,  4.01s/it]"
     ]
    },
    {
     "name": "stdout",
     "output_type": "stream",
     "text": [
      "260/260 [==============================] - 1s 2ms/step\n",
      "260/260 [==============================] - 1s 2ms/step\n",
      "260/260 [==============================] - 1s 2ms/step\n",
      "260/260 [==============================] - 1s 3ms/step\n",
      "132/132 [==============================] - 0s 2ms/step\n"
     ]
    },
    {
     "name": "stderr",
     "output_type": "stream",
     "text": [
      "\r",
      "Permutation explainer:  61%|███████████████████████████████████▍                      | 61/100 [03:54<02:34,  3.97s/it]"
     ]
    },
    {
     "name": "stdout",
     "output_type": "stream",
     "text": [
      "260/260 [==============================] - 1s 2ms/step\n",
      "260/260 [==============================] - 1s 2ms/step\n",
      "260/260 [==============================] - 1s 3ms/step\n",
      "260/260 [==============================] - 1s 2ms/step\n",
      "132/132 [==============================] - 0s 3ms/step\n"
     ]
    },
    {
     "name": "stderr",
     "output_type": "stream",
     "text": [
      "\r",
      "Permutation explainer:  62%|███████████████████████████████████▉                      | 62/100 [03:58<02:38,  4.17s/it]"
     ]
    },
    {
     "name": "stdout",
     "output_type": "stream",
     "text": [
      "260/260 [==============================] - 1s 3ms/step\n",
      "260/260 [==============================] - 1s 2ms/step\n",
      "260/260 [==============================] - 1s 2ms/step\n",
      "260/260 [==============================] - 1s 3ms/step\n",
      "132/132 [==============================] - 0s 3ms/step\n"
     ]
    },
    {
     "name": "stderr",
     "output_type": "stream",
     "text": [
      "\r",
      "Permutation explainer:  63%|████████████████████████████████████▌                     | 63/100 [04:03<02:35,  4.21s/it]"
     ]
    },
    {
     "name": "stdout",
     "output_type": "stream",
     "text": [
      "260/260 [==============================] - 1s 3ms/step\n",
      "260/260 [==============================] - 1s 2ms/step\n",
      "260/260 [==============================] - 1s 3ms/step\n",
      "260/260 [==============================] - 1s 3ms/step\n",
      "132/132 [==============================] - 0s 3ms/step\n"
     ]
    },
    {
     "name": "stderr",
     "output_type": "stream",
     "text": [
      "\r",
      "Permutation explainer:  64%|█████████████████████████████████████                     | 64/100 [04:07<02:35,  4.32s/it]"
     ]
    },
    {
     "name": "stdout",
     "output_type": "stream",
     "text": [
      "260/260 [==============================] - 1s 2ms/step\n",
      "260/260 [==============================] - 1s 2ms/step\n",
      "260/260 [==============================] - 0s 2ms/step\n",
      "260/260 [==============================] - 0s 2ms/step\n",
      "132/132 [==============================] - 0s 3ms/step\n"
     ]
    },
    {
     "name": "stderr",
     "output_type": "stream",
     "text": [
      "\r",
      "Permutation explainer:  65%|█████████████████████████████████████▋                    | 65/100 [04:11<02:20,  4.03s/it]"
     ]
    },
    {
     "name": "stdout",
     "output_type": "stream",
     "text": [
      "260/260 [==============================] - 0s 2ms/step\n",
      "260/260 [==============================] - 1s 2ms/step\n",
      "260/260 [==============================] - 1s 2ms/step\n",
      "260/260 [==============================] - 1s 2ms/step\n",
      "132/132 [==============================] - 0s 2ms/step\n"
     ]
    },
    {
     "name": "stderr",
     "output_type": "stream",
     "text": [
      "\r",
      "Permutation explainer:  66%|██████████████████████████████████████▎                   | 66/100 [04:14<02:09,  3.82s/it]"
     ]
    },
    {
     "name": "stdout",
     "output_type": "stream",
     "text": [
      "260/260 [==============================] - 1s 2ms/step\n",
      "260/260 [==============================] - 1s 3ms/step\n",
      "260/260 [==============================] - 1s 3ms/step\n",
      "260/260 [==============================] - 1s 3ms/step\n",
      "132/132 [==============================] - 0s 3ms/step\n"
     ]
    },
    {
     "name": "stderr",
     "output_type": "stream",
     "text": [
      "\r",
      "Permutation explainer:  67%|██████████████████████████████████████▊                   | 67/100 [04:18<02:08,  3.90s/it]"
     ]
    },
    {
     "name": "stdout",
     "output_type": "stream",
     "text": [
      "260/260 [==============================] - 1s 3ms/step\n",
      "260/260 [==============================] - 1s 3ms/step\n",
      "260/260 [==============================] - 1s 2ms/step\n",
      "260/260 [==============================] - 1s 3ms/step\n",
      "132/132 [==============================] - 0s 3ms/step\n"
     ]
    },
    {
     "name": "stderr",
     "output_type": "stream",
     "text": [
      "\r",
      "Permutation explainer:  68%|███████████████████████████████████████▍                  | 68/100 [04:24<02:25,  4.53s/it]"
     ]
    },
    {
     "name": "stdout",
     "output_type": "stream",
     "text": [
      "260/260 [==============================] - 1s 2ms/step\n",
      "260/260 [==============================] - 1s 2ms/step\n",
      "260/260 [==============================] - 1s 2ms/step\n",
      "260/260 [==============================] - 1s 2ms/step\n",
      "132/132 [==============================] - 0s 2ms/step\n"
     ]
    },
    {
     "name": "stderr",
     "output_type": "stream",
     "text": [
      "\r",
      "Permutation explainer:  69%|████████████████████████████████████████                  | 69/100 [04:28<02:14,  4.33s/it]"
     ]
    },
    {
     "name": "stdout",
     "output_type": "stream",
     "text": [
      "260/260 [==============================] - 1s 2ms/step\n",
      "260/260 [==============================] - 1s 2ms/step\n",
      "260/260 [==============================] - 1s 3ms/step\n",
      "260/260 [==============================] - 1s 2ms/step\n",
      "132/132 [==============================] - 0s 3ms/step\n"
     ]
    },
    {
     "name": "stderr",
     "output_type": "stream",
     "text": [
      "\r",
      "Permutation explainer:  70%|████████████████████████████████████████▌                 | 70/100 [04:32<02:07,  4.26s/it]"
     ]
    },
    {
     "name": "stdout",
     "output_type": "stream",
     "text": [
      "260/260 [==============================] - 1s 2ms/step\n",
      "260/260 [==============================] - 1s 2ms/step\n",
      "260/260 [==============================] - 1s 3ms/step\n",
      "260/260 [==============================] - 1s 2ms/step\n",
      "132/132 [==============================] - 0s 2ms/step\n"
     ]
    },
    {
     "name": "stderr",
     "output_type": "stream",
     "text": [
      "\r",
      "Permutation explainer:  71%|█████████████████████████████████████████▏                | 71/100 [04:36<01:59,  4.12s/it]"
     ]
    },
    {
     "name": "stdout",
     "output_type": "stream",
     "text": [
      "260/260 [==============================] - 0s 2ms/step\n",
      "260/260 [==============================] - 1s 2ms/step\n",
      "260/260 [==============================] - 1s 3ms/step\n",
      "260/260 [==============================] - 0s 2ms/step\n",
      "132/132 [==============================] - 0s 2ms/step\n"
     ]
    },
    {
     "name": "stderr",
     "output_type": "stream",
     "text": [
      "\r",
      "Permutation explainer:  72%|█████████████████████████████████████████▊                | 72/100 [04:39<01:50,  3.93s/it]"
     ]
    },
    {
     "name": "stdout",
     "output_type": "stream",
     "text": [
      "260/260 [==============================] - 0s 1ms/step\n",
      "260/260 [==============================] - 0s 2ms/step\n",
      "260/260 [==============================] - 0s 2ms/step\n",
      "260/260 [==============================] - 1s 2ms/step\n",
      "132/132 [==============================] - 0s 2ms/step\n"
     ]
    },
    {
     "name": "stderr",
     "output_type": "stream",
     "text": [
      "\r",
      "Permutation explainer:  73%|██████████████████████████████████████████▎               | 73/100 [04:42<01:37,  3.59s/it]"
     ]
    },
    {
     "name": "stdout",
     "output_type": "stream",
     "text": [
      "260/260 [==============================] - 1s 2ms/step\n",
      "260/260 [==============================] - 1s 2ms/step\n",
      "260/260 [==============================] - 1s 3ms/step\n",
      "260/260 [==============================] - 1s 3ms/step\n",
      "132/132 [==============================] - 0s 2ms/step\n"
     ]
    },
    {
     "name": "stderr",
     "output_type": "stream",
     "text": [
      "\r",
      "Permutation explainer:  74%|██████████████████████████████████████████▉               | 74/100 [04:46<01:35,  3.66s/it]"
     ]
    },
    {
     "name": "stdout",
     "output_type": "stream",
     "text": [
      "260/260 [==============================] - 1s 2ms/step\n",
      "260/260 [==============================] - 1s 3ms/step\n",
      "260/260 [==============================] - 1s 3ms/step\n",
      "260/260 [==============================] - 1s 2ms/step\n",
      "132/132 [==============================] - 0s 3ms/step\n"
     ]
    },
    {
     "name": "stderr",
     "output_type": "stream",
     "text": [
      "\r",
      "Permutation explainer:  75%|███████████████████████████████████████████▌              | 75/100 [04:50<01:35,  3.81s/it]"
     ]
    },
    {
     "name": "stdout",
     "output_type": "stream",
     "text": [
      "260/260 [==============================] - 1s 2ms/step\n",
      "260/260 [==============================] - 1s 2ms/step\n",
      "260/260 [==============================] - 1s 2ms/step\n",
      "260/260 [==============================] - 1s 2ms/step\n",
      "132/132 [==============================] - 0s 2ms/step\n"
     ]
    },
    {
     "name": "stderr",
     "output_type": "stream",
     "text": [
      "\r",
      "Permutation explainer:  76%|████████████████████████████████████████████              | 76/100 [04:53<01:28,  3.68s/it]"
     ]
    },
    {
     "name": "stdout",
     "output_type": "stream",
     "text": [
      "260/260 [==============================] - 1s 2ms/step\n",
      "260/260 [==============================] - 1s 2ms/step\n",
      "260/260 [==============================] - 1s 2ms/step\n",
      "260/260 [==============================] - 1s 2ms/step\n",
      "132/132 [==============================] - 0s 2ms/step\n"
     ]
    },
    {
     "name": "stderr",
     "output_type": "stream",
     "text": [
      "\r",
      "Permutation explainer:  77%|████████████████████████████████████████████▋             | 77/100 [04:57<01:22,  3.58s/it]"
     ]
    },
    {
     "name": "stdout",
     "output_type": "stream",
     "text": [
      "260/260 [==============================] - 1s 3ms/step\n",
      "260/260 [==============================] - 1s 3ms/step\n",
      "260/260 [==============================] - 1s 3ms/step\n",
      "260/260 [==============================] - 1s 2ms/step\n",
      "132/132 [==============================] - 0s 2ms/step\n"
     ]
    },
    {
     "name": "stderr",
     "output_type": "stream",
     "text": [
      "\r",
      "Permutation explainer:  78%|█████████████████████████████████████████████▏            | 78/100 [05:02<01:29,  4.05s/it]"
     ]
    },
    {
     "name": "stdout",
     "output_type": "stream",
     "text": [
      "260/260 [==============================] - 1s 3ms/step\n",
      "260/260 [==============================] - 0s 2ms/step\n",
      "260/260 [==============================] - 1s 2ms/step\n",
      "260/260 [==============================] - 1s 2ms/step\n",
      "132/132 [==============================] - 0s 2ms/step\n"
     ]
    },
    {
     "name": "stderr",
     "output_type": "stream",
     "text": [
      "\r",
      "Permutation explainer:  79%|█████████████████████████████████████████████▊            | 79/100 [05:06<01:25,  4.07s/it]"
     ]
    },
    {
     "name": "stdout",
     "output_type": "stream",
     "text": [
      "260/260 [==============================] - 1s 2ms/step\n",
      "260/260 [==============================] - 1s 3ms/step\n",
      "260/260 [==============================] - 1s 3ms/step\n",
      "260/260 [==============================] - 1s 3ms/step\n",
      "132/132 [==============================] - 0s 3ms/step\n"
     ]
    },
    {
     "name": "stderr",
     "output_type": "stream",
     "text": [
      "\r",
      "Permutation explainer:  80%|██████████████████████████████████████████████▍           | 80/100 [05:10<01:21,  4.07s/it]"
     ]
    },
    {
     "name": "stdout",
     "output_type": "stream",
     "text": [
      "260/260 [==============================] - 0s 1ms/step\n",
      "260/260 [==============================] - 1s 3ms/step\n",
      "260/260 [==============================] - 1s 4ms/step\n",
      "260/260 [==============================] - 1s 2ms/step\n",
      "132/132 [==============================] - 0s 2ms/step\n"
     ]
    },
    {
     "name": "stderr",
     "output_type": "stream",
     "text": [
      "\r",
      "Permutation explainer:  81%|██████████████████████████████████████████████▉           | 81/100 [05:15<01:22,  4.33s/it]"
     ]
    },
    {
     "name": "stdout",
     "output_type": "stream",
     "text": [
      "260/260 [==============================] - 0s 1ms/step\n",
      "260/260 [==============================] - 1s 2ms/step\n",
      "260/260 [==============================] - 1s 2ms/step\n",
      "260/260 [==============================] - 1s 2ms/step\n",
      "132/132 [==============================] - 0s 2ms/step\n"
     ]
    },
    {
     "name": "stderr",
     "output_type": "stream",
     "text": [
      "\r",
      "Permutation explainer:  82%|███████████████████████████████████████████████▌          | 82/100 [05:18<01:12,  4.02s/it]"
     ]
    },
    {
     "name": "stdout",
     "output_type": "stream",
     "text": [
      "260/260 [==============================] - 1s 2ms/step\n",
      "260/260 [==============================] - 1s 2ms/step\n",
      "260/260 [==============================] - 1s 2ms/step\n",
      "260/260 [==============================] - 1s 2ms/step\n",
      "132/132 [==============================] - 0s 2ms/step\n"
     ]
    },
    {
     "name": "stderr",
     "output_type": "stream",
     "text": [
      "\r",
      "Permutation explainer:  83%|████████████████████████████████████████████████▏         | 83/100 [05:22<01:05,  3.86s/it]"
     ]
    },
    {
     "name": "stdout",
     "output_type": "stream",
     "text": [
      "260/260 [==============================] - 1s 2ms/step\n",
      "260/260 [==============================] - 1s 2ms/step\n",
      "260/260 [==============================] - 1s 2ms/step\n",
      "260/260 [==============================] - 1s 2ms/step\n",
      "132/132 [==============================] - 0s 2ms/step\n"
     ]
    },
    {
     "name": "stderr",
     "output_type": "stream",
     "text": [
      "\r",
      "Permutation explainer:  84%|████████████████████████████████████████████████▋         | 84/100 [05:25<01:00,  3.77s/it]"
     ]
    },
    {
     "name": "stdout",
     "output_type": "stream",
     "text": [
      "260/260 [==============================] - 1s 2ms/step\n",
      "260/260 [==============================] - 1s 2ms/step\n",
      "260/260 [==============================] - 1s 2ms/step\n",
      "260/260 [==============================] - 1s 3ms/step\n",
      "132/132 [==============================] - 0s 3ms/step\n"
     ]
    },
    {
     "name": "stderr",
     "output_type": "stream",
     "text": [
      "\r",
      "Permutation explainer:  85%|█████████████████████████████████████████████████▎        | 85/100 [05:30<00:58,  3.90s/it]"
     ]
    },
    {
     "name": "stdout",
     "output_type": "stream",
     "text": [
      "260/260 [==============================] - 0s 2ms/step\n",
      "260/260 [==============================] - 0s 2ms/step\n",
      "260/260 [==============================] - 1s 2ms/step\n",
      "260/260 [==============================] - 1s 2ms/step\n",
      "132/132 [==============================] - 0s 2ms/step\n"
     ]
    },
    {
     "name": "stderr",
     "output_type": "stream",
     "text": [
      "\r",
      "Permutation explainer:  86%|█████████████████████████████████████████████████▉        | 86/100 [05:34<00:57,  4.09s/it]"
     ]
    },
    {
     "name": "stdout",
     "output_type": "stream",
     "text": [
      "260/260 [==============================] - 1s 2ms/step\n",
      "260/260 [==============================] - 1s 2ms/step\n",
      "260/260 [==============================] - 1s 3ms/step\n",
      "260/260 [==============================] - 1s 2ms/step\n",
      "132/132 [==============================] - 0s 3ms/step\n"
     ]
    },
    {
     "name": "stderr",
     "output_type": "stream",
     "text": [
      "\r",
      "Permutation explainer:  87%|██████████████████████████████████████████████████▍       | 87/100 [05:39<00:55,  4.29s/it]"
     ]
    },
    {
     "name": "stdout",
     "output_type": "stream",
     "text": [
      "260/260 [==============================] - 0s 2ms/step\n",
      "260/260 [==============================] - 0s 2ms/step\n",
      "260/260 [==============================] - 1s 2ms/step\n",
      "260/260 [==============================] - 1s 2ms/step\n",
      "132/132 [==============================] - 0s 2ms/step\n"
     ]
    },
    {
     "name": "stderr",
     "output_type": "stream",
     "text": [
      "\r",
      "Permutation explainer:  88%|███████████████████████████████████████████████████       | 88/100 [05:42<00:46,  3.91s/it]"
     ]
    },
    {
     "name": "stdout",
     "output_type": "stream",
     "text": [
      "260/260 [==============================] - 1s 2ms/step\n",
      "260/260 [==============================] - 1s 2ms/step\n",
      "260/260 [==============================] - 1s 2ms/step\n",
      "260/260 [==============================] - 1s 2ms/step\n",
      "132/132 [==============================] - 0s 2ms/step\n"
     ]
    },
    {
     "name": "stderr",
     "output_type": "stream",
     "text": [
      "\r",
      "Permutation explainer:  89%|███████████████████████████████████████████████████▌      | 89/100 [05:45<00:41,  3.74s/it]"
     ]
    },
    {
     "name": "stdout",
     "output_type": "stream",
     "text": [
      "260/260 [==============================] - 1s 3ms/step\n",
      "260/260 [==============================] - 1s 2ms/step\n",
      "260/260 [==============================] - 1s 2ms/step\n",
      "260/260 [==============================] - 1s 2ms/step\n",
      "132/132 [==============================] - 0s 2ms/step\n"
     ]
    },
    {
     "name": "stderr",
     "output_type": "stream",
     "text": [
      "\r",
      "Permutation explainer:  90%|████████████████████████████████████████████████████▏     | 90/100 [05:49<00:37,  3.78s/it]"
     ]
    },
    {
     "name": "stdout",
     "output_type": "stream",
     "text": [
      "260/260 [==============================] - 1s 2ms/step\n",
      "260/260 [==============================] - 1s 3ms/step\n",
      "260/260 [==============================] - 1s 2ms/step\n",
      "260/260 [==============================] - 1s 2ms/step\n",
      "132/132 [==============================] - 0s 2ms/step\n"
     ]
    },
    {
     "name": "stderr",
     "output_type": "stream",
     "text": [
      "\r",
      "Permutation explainer:  91%|████████████████████████████████████████████████████▊     | 91/100 [05:53<00:33,  3.72s/it]"
     ]
    },
    {
     "name": "stdout",
     "output_type": "stream",
     "text": [
      "260/260 [==============================] - 1s 2ms/step\n",
      "260/260 [==============================] - 1s 2ms/step\n",
      "260/260 [==============================] - 1s 3ms/step\n",
      "260/260 [==============================] - 1s 2ms/step\n",
      "132/132 [==============================] - 0s 2ms/step\n"
     ]
    },
    {
     "name": "stderr",
     "output_type": "stream",
     "text": [
      "\r",
      "Permutation explainer:  92%|█████████████████████████████████████████████████████▎    | 92/100 [05:56<00:29,  3.69s/it]"
     ]
    },
    {
     "name": "stdout",
     "output_type": "stream",
     "text": [
      "260/260 [==============================] - 1s 3ms/step\n",
      "260/260 [==============================] - 1s 3ms/step\n",
      "260/260 [==============================] - 1s 3ms/step\n",
      "260/260 [==============================] - 1s 3ms/step\n",
      "132/132 [==============================] - 0s 2ms/step\n"
     ]
    },
    {
     "name": "stderr",
     "output_type": "stream",
     "text": [
      "\r",
      "Permutation explainer:  93%|█████████████████████████████████████████████████████▉    | 93/100 [06:00<00:26,  3.84s/it]"
     ]
    },
    {
     "name": "stdout",
     "output_type": "stream",
     "text": [
      "260/260 [==============================] - 1s 2ms/step\n",
      "260/260 [==============================] - 1s 3ms/step\n",
      "260/260 [==============================] - 1s 3ms/step\n",
      "260/260 [==============================] - 1s 2ms/step\n",
      "132/132 [==============================] - 0s 2ms/step\n"
     ]
    },
    {
     "name": "stderr",
     "output_type": "stream",
     "text": [
      "\r",
      "Permutation explainer:  94%|██████████████████████████████████████████████████████▌   | 94/100 [06:04<00:23,  3.90s/it]"
     ]
    },
    {
     "name": "stdout",
     "output_type": "stream",
     "text": [
      "260/260 [==============================] - 1s 2ms/step\n",
      "260/260 [==============================] - 1s 2ms/step\n",
      "260/260 [==============================] - 0s 1ms/step\n",
      "260/260 [==============================] - 1s 2ms/step\n",
      "132/132 [==============================] - 0s 2ms/step\n"
     ]
    },
    {
     "name": "stderr",
     "output_type": "stream",
     "text": [
      "\r",
      "Permutation explainer:  95%|███████████████████████████████████████████████████████   | 95/100 [06:08<00:19,  3.82s/it]"
     ]
    },
    {
     "name": "stdout",
     "output_type": "stream",
     "text": [
      "260/260 [==============================] - 1s 3ms/step\n",
      "260/260 [==============================] - 1s 2ms/step\n",
      "260/260 [==============================] - 1s 3ms/step\n",
      "260/260 [==============================] - 1s 3ms/step\n",
      "132/132 [==============================] - 0s 2ms/step\n"
     ]
    },
    {
     "name": "stderr",
     "output_type": "stream",
     "text": [
      "\r",
      "Permutation explainer:  96%|███████████████████████████████████████████████████████▋  | 96/100 [06:12<00:15,  3.94s/it]"
     ]
    },
    {
     "name": "stdout",
     "output_type": "stream",
     "text": [
      "260/260 [==============================] - 2s 7ms/step\n",
      "260/260 [==============================] - 1s 3ms/step\n",
      "260/260 [==============================] - 1s 2ms/step\n",
      "260/260 [==============================] - 0s 2ms/step\n",
      "132/132 [==============================] - 1s 3ms/step\n"
     ]
    },
    {
     "name": "stderr",
     "output_type": "stream",
     "text": [
      "\r",
      "Permutation explainer:  97%|████████████████████████████████████████████████████████▎ | 97/100 [06:19<00:13,  4.64s/it]"
     ]
    },
    {
     "name": "stdout",
     "output_type": "stream",
     "text": [
      "260/260 [==============================] - 1s 3ms/step\n",
      "260/260 [==============================] - 0s 2ms/step\n",
      "260/260 [==============================] - 1s 2ms/step\n",
      "260/260 [==============================] - 1s 2ms/step\n",
      "132/132 [==============================] - 0s 1ms/step\n"
     ]
    },
    {
     "name": "stderr",
     "output_type": "stream",
     "text": [
      "\r",
      "Permutation explainer:  98%|████████████████████████████████████████████████████████▊ | 98/100 [06:25<00:10,  5.03s/it]"
     ]
    },
    {
     "name": "stdout",
     "output_type": "stream",
     "text": [
      "260/260 [==============================] - 0s 1ms/step\n",
      "260/260 [==============================] - 1s 2ms/step\n",
      "260/260 [==============================] - 1s 2ms/step\n",
      "260/260 [==============================] - 1s 2ms/step\n",
      "132/132 [==============================] - 0s 2ms/step\n"
     ]
    },
    {
     "name": "stderr",
     "output_type": "stream",
     "text": [
      "\r",
      "Permutation explainer:  99%|█████████████████████████████████████████████████████████▍| 99/100 [06:29<00:04,  4.96s/it]"
     ]
    },
    {
     "name": "stdout",
     "output_type": "stream",
     "text": [
      "260/260 [==============================] - 1s 2ms/step\n",
      "260/260 [==============================] - 1s 2ms/step\n",
      "260/260 [==============================] - 1s 3ms/step\n",
      "260/260 [==============================] - 0s 988us/step\n",
      "132/132 [==============================] - 0s 3ms/step\n"
     ]
    },
    {
     "name": "stderr",
     "output_type": "stream",
     "text": [
      "\r",
      "Permutation explainer: 100%|█████████████████████████████████████████████████████████| 100/100 [06:34<00:00,  4.86s/it]"
     ]
    },
    {
     "name": "stdout",
     "output_type": "stream",
     "text": [
      "260/260 [==============================] - 0s 2ms/step\n",
      "260/260 [==============================] - 0s 2ms/step\n",
      "260/260 [==============================] - 1s 3ms/step\n",
      "260/260 [==============================] - 1s 2ms/step\n",
      "132/132 [==============================] - 0s 645us/step\n"
     ]
    },
    {
     "name": "stderr",
     "output_type": "stream",
     "text": [
      "Permutation explainer: 101it [06:38,  4.10s/it]                                                                        \n"
     ]
    }
   ],
   "source": [
    "import shap\n",
    "\n",
    "# Create a function to predict the output of the model\n",
    "predict_fn = lambda x: model.predict(x)\n",
    "\n",
    "# Create a SHAP explainer with the permutation method\n",
    "explainer = shap.Explainer(predict_fn, X_train, algorithm=\"permutation\")\n",
    "\n",
    "# Calculate SHAP values for a subset of the test data\n",
    "num_samples = 100  # You can adjust this value to make it smaller\n",
    "shap_values = explainer.shap_values(X_test[:num_samples])\n"
   ]
  },
  {
   "cell_type": "code",
   "execution_count": 52,
   "id": "37d426d4",
   "metadata": {},
   "outputs": [
    {
     "data": {
      "image/png": "[encoded data removed]",
      "text/plain": [
       "<Figure size 800x640 with 1 Axes>"
      ]
     },
     "metadata": {},
     "output_type": "display_data"
    },
    {
     "name": "stdout",
     "output_type": "stream",
     "text": [
      "[0.81696238 0.79481655 0.77057671 0.75885072 0.71249617 0.71229257\n",
      " 0.68347978 0.68010843 0.66455586 0.64108326 0.63869591 0.63782402\n",
      " 0.62420563 0.61695823 0.61471976 0.6131237  0.61120415 0.60361581\n",
      " 0.59614057 0.59482305 0.59306878 0.58992711 0.58483016 0.58477886\n",
      " 0.58196675 0.58112989 0.57945633 0.5779857  0.57705212 0.57677004\n",
      " 0.57442548 0.57337635 0.56989958 0.55150728 0.54693524 0.53479817\n",
      " 0.53275743 0.52286072 0.39977287 0.37741622 0.34792403]\n",
      "[38 22 39 12 26 37 23 27 36 20  5  2 13 31 28  1 21 25 17 10  0  7  3  8\n",
      " 19 15 18 16 29 30 35  9 11 34  6  4 32 33 24 14 40]\n"
     ]
    }
   ],
   "source": [
    "# Normalize the SHAP values to [0, 1]\n",
    "shap_values_normalized = (shap_values - shap_values.min()) / (shap_values.max() - shap_values.min())\n",
    "\n",
    "# Create a new DataFrame from the numpy array with the original column names\n",
    "# (This part is omitted as it was already defined in the previous code)\n",
    "\n",
    "# Sort the features based on their sensitivity (SHAP values) for the specific data point\n",
    "sorted_indices = np.argsort(shap_values_normalized[0])[::-1]\n",
    "\n",
    "# Set the background color of the plot to white\n",
    "plt.rcParams['figure.facecolor'] = 'white'\n",
    "\n",
    "# Create a horizontal bar plot of the normalized SHAP values for the specific data point\n",
    "plt.figure(figsize=(10, 8))  # Increase the figure size\n",
    "\n",
    "bars = plt.barh(range(30), shap_values_normalized[0][sorted_indices][:30], height=0.5, color='grey')  # Increase bar height\n",
    "plt.yticks(range(30), np.array(feature_names)[sorted_indices][:30])\n",
    "plt.xlabel('Normalized SHAP Value')\n",
    "\n",
    "# Add SHAP values as labels for each bar, avoiding overlapping with bars\n",
    "for i, bar in enumerate(bars):\n",
    "    value = shap_values_normalized[0][sorted_indices][i]\n",
    "    plt.text(bar.get_width() + 0.02, bar.get_y() + bar.get_height() / 2, f'{value:.2f}', ha='left', va='center')\n",
    "\n",
    "# Adjust the x-axis limits to reduce empty space on both ends\n",
    "plt.xlim(0, 1)  \n",
    "# Adjust the y-axis limits and margins to reduce the distance to the boundary\n",
    "plt.ylim(-1, 30)  \n",
    "plt.margins(y=0.02)  \n",
    "\n",
    "plt.tight_layout()\n",
    "plt.show()\n",
    "\n",
    "print(shap_values_normalized[0][sorted_indices])\n",
    "print(sorted_indices)\n"
   ]
  },
  {
   "cell_type": "code",
   "execution_count": null,
   "id": "d38115ad",
   "metadata": {},
   "outputs": [],
   "source": []
  }
 ],
 "metadata": {
  "kernelspec": {
   "display_name": "Python 3 (ipykernel)",
   "language": "python",
   "name": "python3"
  },
  "language_info": {
   "codemirror_mode": {
    "name": "ipython",
    "version": 3
   },
   "file_extension": ".py",
   "mimetype": "text/x-python",
   "name": "python",
   "nbconvert_exporter": "python",
   "pygments_lexer": "ipython3",
   "version": "3.10.9"
  }
 },
 "nbformat": 4,
 "nbformat_minor": 5
}
