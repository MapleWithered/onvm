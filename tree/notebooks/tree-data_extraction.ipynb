{
 "cells": [
  {
   "cell_type": "code",
   "execution_count": 639,
   "id": "5952e99c",
   "metadata": {},
   "outputs": [],
   "source": [
    "import pandas as pd\n",
    "import os, re\n",
    "import numpy as np"
   ]
  },
  {
   "cell_type": "code",
   "execution_count": 640,
   "id": "4e4c5649",
   "metadata": {},
   "outputs": [],
   "source": [
    "# Specify the experiment type, i.e., 0: load stimulus, 1: resource stimulus\n",
    "exp_type = 0"
   ]
  },
  {
   "cell_type": "code",
   "execution_count": 641,
   "id": "5ebcb810",
   "metadata": {},
   "outputs": [],
   "source": [
    "# Change the work directory to the parent\n",
    "try:\n",
    "    if chdir:\n",
    "        pass\n",
    "except:\n",
    "    current_dir = os.getcwd()\n",
    "    os.chdir(current_dir +\"/..\")\n",
    "    os.path.abspath(os.curdir)"
   ]
  },
  {
   "cell_type": "code",
   "execution_count": 642,
   "id": "8acdd3a7",
   "metadata": {},
   "outputs": [],
   "source": [
    "chdir = True"
   ]
  },
  {
   "cell_type": "code",
   "execution_count": 643,
   "id": "6f24df57",
   "metadata": {},
   "outputs": [],
   "source": [
    "# Metadata for specific SFC configurations\n",
    "exp_ls = \"exp10\"\n",
    "exp_rs = \"exp-5-3-2\"\n",
    "vnfs = [\"flow_tracker.csv\", \"nf_router.csv\", \"ndpi_stats.csv\", \"payload_scan.csv\"]"
   ]
  },
  {
   "cell_type": "code",
   "execution_count": 644,
   "id": "e2b17385",
   "metadata": {},
   "outputs": [],
   "source": [
    "import matplotlib.pyplot as plt\n",
    "%matplotlib inline\n",
    "\n",
    "plt.rc('font', family='serif')\n",
    "plt.rcParams.update({'font.size': 11})\n",
    "\n",
    "plt.rcParams['figure.dpi'] = 200\n",
    "plt.rcParams['savefig.dpi'] = 300"
   ]
  },
  {
   "cell_type": "code",
   "execution_count": 645,
   "id": "73494004",
   "metadata": {},
   "outputs": [],
   "source": [
    "# this function is good for long_exp\n",
    "def parse_seq(exp_type, exp_num, file, index=5):\n",
    "    \"Parse sequential data, specialized for the TX/RX/Latency experiments\"\n",
    "    tmp = []\n",
    "    \n",
    "    if file.startswith(\"latency.csv\"):\n",
    "        with open(os.path.join(\"..\\\\tree\\\\data\", exp_type, exp_num, file)) as f:\n",
    "            lines = f.readlines()[4:] if exp_type == \"load_stimulus\" else f.readlines()\n",
    "            for line in lines:\n",
    "                value = float(line.strip()) /1000\n",
    "                tmp.append(value)\n",
    "                \n",
    "    else:\n",
    "        with open(os.path.join(\"..\\\\tree\\\\data\", exp_type, exp_num, file)) as f:\n",
    "            next(f)\n",
    "            for l in f:\n",
    "                try:\n",
    "                    value = float(l.strip().split(\",\")[index])\n",
    "                except ValueError:\n",
    "                    value = \"N/A\"\n",
    "                tmp.append(value)\n",
    "                \n",
    "    return tmp"
   ]
  },
  {
   "cell_type": "code",
   "execution_count": 646,
   "id": "2ed7d2b5",
   "metadata": {},
   "outputs": [],
   "source": [
    "# this function is good for exp1-exp10, pay attention the latency feature\n",
    "def parse_seq(exp_type, exp_num, file, index=5):\n",
    "    \"Parse sequential data, specialized for the TX/RX/Latency experiments\"\n",
    "    tmp = []\n",
    "    \n",
    "    if file.startswith(\"latency.csv\"):\n",
    "        with open(os.path.join(\"..\\\\tree\\\\data\", exp_type, exp_num, file)) as f:\n",
    "            lines = f.readlines()[4:] if exp_type == \"load_stimulus\" else f.readlines()\n",
    "            for i in range(len(lines)):\n",
    "                if i % 2 != 0:  # Check if the index is odd\n",
    "                    value = float(lines[i].strip()) / 1000\n",
    "                    tmp.append(value)\n",
    "    else:\n",
    "        with open(os.path.join(\"..\\\\tree\\\\data\", exp_type, exp_num, file)) as f:\n",
    "            next(f)\n",
    "            for l in f:\n",
    "                try:\n",
    "                    value = float(l.strip().split(\",\")[index])\n",
    "                except ValueError:\n",
    "                    value = \"N/A\"\n",
    "                tmp.append(value)\n",
    "                \n",
    "    return tmp"
   ]
  },
  {
   "cell_type": "code",
   "execution_count": 647,
   "id": "53c7cb6e",
   "metadata": {},
   "outputs": [],
   "source": [
    "def parse_reg(exp_type, exp_num, file, stat_name, index=1):\n",
    "    \"Parse the Perf data\"\n",
    "    stat = []\n",
    "    with open(os.path.join(\"..\\\\tree\\\\data\", exp_type, exp_num, file)) as f:\n",
    "        for line in f:\n",
    "            if re.search(stat_name, line):\n",
    "                stat.append(line.strip().split(',')[index])\n",
    "    \n",
    "    return list(map(lambda x:float(x), stat[:-1]))\n"
   ]
  },
  {
   "cell_type": "code",
   "execution_count": 648,
   "id": "2794cc5b",
   "metadata": {},
   "outputs": [],
   "source": [
    "latency = parse_seq(\"load_stimulus\", exp_ls, \"latency.csv\")\n",
    "len(latency)"
   ]
  },
  {
   "cell_type": "code",
   "execution_count": 649,
   "id": "18f6d08e",
   "metadata": {},
   "outputs": [],
   "source": [
    "tx_stats = parse_seq(\"load_stimulus\", exp_ls, \"tx_stats.csv\")\n",
    "len(tx_stats)"
   ]
  },
  {
   "cell_type": "code",
   "execution_count": 650,
   "id": "caf40fed",
   "metadata": {},
   "outputs": [],
   "source": [
    "rx_stats = parse_seq(\"load_stimulus\", exp_ls, \"rx_stats.csv\")\n",
    "len(rx_stats)"
   ]
  },
  {
   "cell_type": "code",
   "execution_count": 651,
   "id": "8719c370",
   "metadata": {},
   "outputs": [],
   "source": [
    "flow_tracker_instructions = parse_reg(\"load_stimulus\", exp_ls, \"flow_tracker.csv\", \"instructions\", 1)\n",
    "len(flow_tracker_instructions)"
   ]
  },
  {
   "cell_type": "code",
   "execution_count": 652,
   "id": "07db1f7b",
   "metadata": {},
   "outputs": [],
   "source": [
    "features = [\"instructions\", \"branches,\", \"branch-misses,\", \"branch-load-misses,\", \"cache-misses\", \\\n",
    "            \"cache-references\", \",cycles,\", \"L1-dcache-load-misses\", \"L1-dcache-loads\", \"LLC-load-misses\", \\\n",
    "            \"LLC-stores\", \"LLC-loads\",]"
   ]
  },
  {
   "cell_type": "code",
   "execution_count": 653,
   "id": "e3e35a6f",
   "metadata": {},
   "outputs": [],
   "source": [
    "def make_df():\n",
    "    tmp = []\n",
    "    dic = dict()\n",
    "\n",
    "    tx_stats = parse_seq(\"load_stimulus\", exp_ls, \"tx_stats.csv\")\n",
    "    rx_stats = parse_seq(\"load_stimulus\", exp_ls, \"rx_stats.csv\")\n",
    "    latency = parse_seq(\"load_stimulus\", exp_ls, \"latency.csv\")\n",
    "\n",
    "    seq_length = min(len(tx_stats), len(rx_stats), len(latency), len(parse_reg(\"load_stimulus\", exp_ls, \"flow_tracker.csv\", \"instructions\", 1)))\n",
    "\n",
    "    dic[\"input_rate\"] = tx_stats[:seq_length]\n",
    "    dic[\"output_rate\"] = rx_stats[:seq_length]\n",
    "    dic[\"latency\"] = latency[:seq_length]\n",
    "\n",
    "    for f in features:\n",
    "        for v in vnfs:\n",
    "            tmp = parse_reg(\"load_stimulus\", exp_ls, v, f, 1)\n",
    "            tmp = tmp[:seq_length]\n",
    "            if len(tmp) < seq_length:\n",
    "                tmp = np.pad(tmp, (0, seq_length - len(tmp)), mode='constant')\n",
    "            dic[v.split(\".\")[0] + \"_\" + f.replace(\",\", \"\")] = tmp\n",
    "\n",
    "    return pd.DataFrame(dic)\n"
   ]
  },
  {
   "cell_type": "code",
   "execution_count": 654,
   "id": "f51f71a3",
   "metadata": {},
   "outputs": [],
   "source": [
    "df = make_df()\n",
    "df\n",
    "abs_path = os.path.join(\"..\\\\tree\\\\datasets\", \"load_stimulus_\"+ exp_ls +\".csv\")\n",
    "df.to_csv(abs_path, sep=',')"
   ]
  },
  {
   "cell_type": "code",
   "execution_count": 655,
   "id": "19c822de",
   "metadata": {},
   "outputs": [],
   "source": [
    "df.iloc[:, :3].plot(logy=True)"
   ]
  },
  {
   "cell_type": "markdown",
   "id": "f1a02923",
   "metadata": {},
   "source": [
    "# Resource stimulus"
   ]
  },
  {
   "cell_type": "code",
   "execution_count": 656,
   "id": "575a22eb",
   "metadata": {},
   "outputs": [],
   "source": [
    "def make_df_rl(exp_rs):\n",
    "    tmp = []\n",
    "    dic = dict()\n",
    "\n",
    "    tx_stats = parse_seq(\"resource_stimulus\", exp_rs, \"tx_stats.csv\")\n",
    "    rx_stats = parse_seq(\"resource_stimulus\", exp_rs, \"rx_stats.csv\")\n",
    "    latency = parse_seq(\"resource_stimulus\", exp_rs, \"latency.csv\")\n",
    "    seq_length = min(len(tx_stats), len(rx_stats), len(latency), len(parse_reg(\"resource_stimulus\", exp_rs, \"flow_tracker.csv\", \"instructions\", 1)))\n",
    "\n",
    "    dic[\"input_rate\"] = tx_stats[:seq_length]\n",
    "    dic[\"output_rate\"] = rx_stats[:seq_length]\n",
    "    dic[\"latency\"] = latency[:seq_length]\n",
    "\n",
    "    for f in features:\n",
    "        for v in vnfs:\n",
    "            tmp = parse_reg(\"resource_stimulus\", exp_rs, v, f, 1)\n",
    "            tmp = tmp[:seq_length]\n",
    "            if len(tmp) < seq_length:\n",
    "                tmp = np.pad(tmp, (0, seq_length - len(tmp)), mode='constant')\n",
    "            dic[v.split(\".\")[0] + \"_\" + f.replace(\",\", \"\")] = tmp\n",
    "\n",
    "    return pd.DataFrame(dic)"
   ]
  },
  {
   "cell_type": "code",
   "execution_count": 657,
   "id": "afc2ca14",
   "metadata": {},
   "outputs": [],
   "source": [
    "df_rl = make_df_rl(\"exp-4-1-1\")\n",
    "df_rl"
   ]
  },
  {
   "cell_type": "code",
   "execution_count": 658,
   "id": "e793ce93",
   "metadata": {},
   "outputs": [],
   "source": [
    "df_rl.iloc[:, :3].plot(logy=True)"
   ]
  },
  {
   "cell_type": "code",
   "execution_count": 659,
   "id": "1adebf3a",
   "metadata": {},
   "outputs": [],
   "source": [
    "df_rl[[\"flow_tracker_cycles\",\"nf_router_cycles\",\"ndpi_stats_cycles\",\"payload_scan_cycles\"]].plot()"
   ]
  },
  {
   "cell_type": "code",
   "execution_count": 661,
   "id": "7910fd14",
   "metadata": {},
   "outputs": [],
   "source": [
    "exp_rs=[\"exp-3-1-2\",\"exp-3-1-3\",\"exp-3-1-4\",\"exp-3-1-5\",\"exp-3-3-1\",\"exp-3-3-2\",\"exp-3-3-3\",\"exp-3-3-4\",\"exp-3-3-5\",\"exp-4-1-1\",\"exp-4-1-2\",\"exp-4-1-3\",\"exp-4-1-4\",\"exp-4-1-5\",\"exp-4-3-1\",\"exp-4-3-2\",\"exp-4-3-3\",\"exp-4-3-4\",\"exp-4-3-5\",\"exp-5-1-1\",\"exp-5-1-2\",\"exp-5-1-3\",\"exp-5-1-4\",\"exp-5-1-5\",\"exp-5-3-1\",\"exp-5-3-2\",\"exp-5-3-3\",\"exp-5-3-4\",\"exp-5-3-5\",\"exp-6-1-1\",\"exp-6-1-2\",\"exp-6-1-3\",\"exp-6-1-4\",\"exp-6-1-5\",\"exp-6-3-1\",\"exp-6-3-2\",\"exp-6-3-3\",\"exp-6-3-4\",\"exp-6-3-5\",\"exp-7-1-1\",\"exp-7-1-2\",\"exp-7-1-3\",\"exp-7-1-4\",\"exp-7-1-5\",\"exp-7-3-1\",\"exp-7-3-2\",\"exp-7-3-3\",\"exp-7-3-4\",\"exp-7-3-5\"]\n",
    "print(exp_rs)\n",
    "for item in exp_rs:\n",
    "    df_rl = make_df_rl(item) \n",
    "    abs_path = os.path.join(\"..\\\\tree\\\\datasets\", \"resource_stimulus_\"+ item +\".csv\")\n",
    "    df_rl.to_csv(abs_path, sep=',')\n"
   ]
  },
  {
   "cell_type": "code",
   "execution_count": 662,
   "id": "9ec37714",
   "metadata": {},
   "outputs": [],
   "source": [
    "exp_rs=[\"exp-3-1-1\",\"exp-8-1-1\",\"exp-8-1-2\",\"exp-8-1-3\",\"exp-8-1-4\",\"exp-8-1-5\",\"exp-8-3-1\",\"exp-8-3-2\",\"exp-8-3-3\",\"exp-8-3-4\",\"exp-8-3-5\",\"exp-9-1-1\",\"exp-9-1-2\",\"exp-9-1-3\",\"exp-9-1-4\",\"exp-9-1-5\",\"exp-9-3-1\",\"exp-9-3-2\",\"exp-9-3-3\",\"exp-9-3-4\",\"exp-9-3-5\"]\n",
    "for item in exp_rs:\n",
    "    df_rl = make_df_rl(item) \n",
    "    abs_path = os.path.join(\"..\\\\tree\\\\datasets\", \"resource_stimulus_\"+ item +\".csv\")\n",
    "    df_rl.to_csv(abs_path, sep=',')"
   ]
  },
  {
   "cell_type": "code",
   "execution_count": null,
   "id": "d188e4db",
   "metadata": {},
   "outputs": [],
   "source": []
  }
 ],
 "metadata": {
  "kernelspec": {
   "display_name": "Python 3 (ipykernel)",
   "language": "python",
   "name": "python3"
  },
  "language_info": {
   "codemirror_mode": {
    "name": "ipython",
    "version": 3
   },
   "file_extension": ".py",
   "mimetype": "text/x-python",
   "name": "python",
   "nbconvert_exporter": "python",
   "pygments_lexer": "ipython3",
   "version": "3.10.9"
  }
 },
 "nbformat": 4,
 "nbformat_minor": 5
}
