{
 "cells": [
  {
   "cell_type": "code",
   "execution_count": 7,
   "id": "db4fe776",
   "metadata": {},
   "outputs": [],
   "source": [
    "import os\n",
    "import pandas as pd\n",
    "import numpy as np\n",
    "import matplotlib.pyplot as plt"
   ]
  },
  {
   "cell_type": "code",
   "execution_count": 5,
   "id": "a02d678a",
   "metadata": {},
   "outputs": [],
   "source": [
    "file_names = []\n",
    "for i in range(1, 11):\n",
    "    item = 'load_stimulus_exp-{}.csv'.format(i)\n",
    "    file_names.append(item)\n",
    "\n",
    "folder_path = os.path.abspath(os.path.join(\"../datasets\"))\n",
    "load_stimulus_global = pd.DataFrame()\n",
    "\n",
    "for file_name in file_names:\n",
    "    file_path = os.path.join(folder_path, file_name)\n",
    "    df = pd.read_csv(file_path)\n",
    "    load_stimulus_global = pd.concat([load_stimulus_global, df], ignore_index=True)\n",
    "\n",
    "# Save the combined DataFrame as a new CSV file\n",
    "abs_path = os.path.join(\"..\\\\datasets\", 'load_stimulus_global.csv')\n",
    "load_stimulus_global.to_csv(abs_path, index=False)\n"
   ]
  },
  {
   "cell_type": "code",
   "execution_count": 2,
   "id": "e4dc561c",
   "metadata": {},
   "outputs": [
    {
     "ename": "NameError",
     "evalue": "name 'os' is not defined",
     "output_type": "error",
     "traceback": [
      "\u001B[1;31m---------------------------------------------------------------------------\u001B[0m",
      "\u001B[1;31mNameError\u001B[0m                                 Traceback (most recent call last)",
      "Cell \u001B[1;32mIn[2], line 3\u001B[0m\n\u001B[0;32m      1\u001B[0m exp_ls \u001B[38;5;241m=\u001B[39m \u001B[38;5;124m\"\u001B[39m\u001B[38;5;124mload_stimulus_global.csv\u001B[39m\u001B[38;5;124m\"\u001B[39m\n\u001B[0;32m      2\u001B[0m \u001B[38;5;66;03m#exp_ls=\"load_stimulus_exp1.csv\"\u001B[39;00m\n\u001B[1;32m----> 3\u001B[0m file_path \u001B[38;5;241m=\u001B[39m \u001B[43mos\u001B[49m\u001B[38;5;241m.\u001B[39mpath\u001B[38;5;241m.\u001B[39mabspath(os\u001B[38;5;241m.\u001B[39mpath\u001B[38;5;241m.\u001B[39mjoin(\u001B[38;5;124m\"\u001B[39m\u001B[38;5;124m..\u001B[39m\u001B[38;5;130;01m\\\\\u001B[39;00m\u001B[38;5;124mdatasets\u001B[39m\u001B[38;5;124m\"\u001B[39m, exp_ls))\n\u001B[0;32m      5\u001B[0m data \u001B[38;5;241m=\u001B[39m pd\u001B[38;5;241m.\u001B[39mread_csv(file_path, index_col\u001B[38;5;241m=\u001B[39m\u001B[38;5;241m0\u001B[39m)\n\u001B[0;32m      6\u001B[0m data \u001B[38;5;241m=\u001B[39m data\u001B[38;5;241m.\u001B[39mreplace([\u001B[38;5;124m'\u001B[39m\u001B[38;5;124m<not counted>\u001B[39m\u001B[38;5;124m'\u001B[39m], np\u001B[38;5;241m.\u001B[39mnan)\n",
      "\u001B[1;31mNameError\u001B[0m: name 'os' is not defined"
     ]
    }
   ],
   "source": [
    "current_dir = os.getcwd()\n",
    "\n",
    "exp_ls = \"load_stimulus_global.csv\"\n",
    "#exp_ls=\"load_stimulus_exp1.csv\"\n",
    "file_path = os.path.abspath(os.path.join(\"..\\\\datasets\", exp_ls))\n",
    "\n",
    "data = pd.read_csv(file_path, index_col=0)\n",
    "data = data.replace(['<not counted>'], np.nan)\n",
    "data.info()"
   ]
  },
  {
   "cell_type": "code",
   "execution_count": 6,
   "id": "750b8e53",
   "metadata": {},
   "outputs": [],
   "source": []
  }
 ],
 "metadata": {
  "kernelspec": {
   "display_name": "Python 3 (ipykernel)",
   "language": "python",
   "name": "python3"
  },
  "language_info": {
   "codemirror_mode": {
    "name": "ipython",
    "version": 3
   },
   "file_extension": ".py",
   "mimetype": "text/x-python",
   "name": "python",
   "nbconvert_exporter": "python",
   "pygments_lexer": "ipython3",
   "version": "3.10.9"
  }
 },
 "nbformat": 4,
 "nbformat_minor": 5
}
