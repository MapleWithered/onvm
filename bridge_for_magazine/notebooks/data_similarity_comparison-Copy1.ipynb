{
 "cells": [
  {
   "cell_type": "code",
   "execution_count": 2,
   "id": "e10b7e2e",
   "metadata": {},
   "outputs": [],
   "source": [
    "import pandas as pd\n",
    "from scipy.stats import ks_2samp, chi2_contingency,entropy\n",
    "import numpy as np\n",
    "import matplotlib.pyplot as plt\n",
    "import sys, re, os\n",
    "from scipy.spatial.distance import jensenshannon\n",
    "import time"
   ]
  },
  {
   "cell_type": "code",
   "execution_count": 3,
   "id": "7326f786",
   "metadata": {},
   "outputs": [],
   "source": [
    "# Function to compare two columns using appropriate statistical test\n",
    "def compare_columns_ks(col1, col2, column_name):\n",
    "    if col1.dtype == 'O':  \n",
    "        # Chi-squared test for categorical data\n",
    "        contingency_table = pd.crosstab(col1, col2)\n",
    "        chi2, p, _, _ = chi2_contingency(contingency_table)\n",
    "        test = 'Chi-squared'\n",
    "    else:\n",
    "        # KS test for numerical data\n",
    "        ks_statistic, p = ks_2samp(col1, col2)\n",
    "        test = 'Kolmogorov-Smirnov'\n",
    "\n",
    "    if p < 0.2:\n",
    "        print(f\"{column_name}: No Significant difference (p-value: {p:.3f}) - {test} test\")\n",
    "    else:\n",
    "        print(f\"{column_name}: Significant difference (p-value: {p:.3f}) - {test} test\")"
   ]
  },
  {
   "cell_type": "code",
   "execution_count": 4,
   "id": "e6ffbcc1",
   "metadata": {},
   "outputs": [],
   "source": [
    "def kl_divergence(p, q):\n",
    "    return entropy(p, q)\n",
    "\n",
    "def compare_columns_kl(col1, col2, column_name):\n",
    "    if col1.dtype == 'O':\n",
    "        # Chi-squared test for categorical data\n",
    "        contingency_table = pd.crosstab(col1, col2)\n",
    "        chi2, p, _, _ = chi2_contingency(contingency_table)\n",
    "        test = 'Chi-squared'\n",
    "        if p < 0.05:\n",
    "            print(f\"{column_name}: Significant difference (p-value: {p:.3f}) - {test} test\")\n",
    "        else:\n",
    "            print(f\"{column_name}: No significant difference (p-value: {p:.3f}) - {test} test\")\n",
    "    else:\n",
    "        # Convert data to probability distributions\n",
    "        # Here, using histograms\n",
    "        p_hist, _ = np.histogram(col1, bins=30, range=(min(col1.min(), col2.min()), max(col1.max(), col2.max())), density=True)\n",
    "        q_hist, _ = np.histogram(col2, bins=30, range=(min(col1.min(), col2.min()), max(col1.max(), col2.max())), density=True)\n",
    "        \n",
    "        # Calculate KL divergence\n",
    "        kl_div = kl_divergence(p_hist, q_hist)\n",
    "        print(f\"{column_name}: KL Divergence: {kl_div:.3f}\")\n"
   ]
  },
  {
   "cell_type": "code",
   "execution_count": 5,
   "id": "e3bf5fc0",
   "metadata": {},
   "outputs": [],
   "source": [
    "def js_divergence(p, q):\n",
    "    return jensenshannon(p, q)**2 \n",
    "\n",
    "def compare_columns_js(col1, col2, column_name):\n",
    "    if col1.dtype == 'O':\n",
    "        # Chi-squared test for categorical data\n",
    "        contingency_table = pd.crosstab(col1, col2)\n",
    "        chi2, p, _, _ = chi2_contingency(contingency_table)\n",
    "        test = 'Chi-squared'\n",
    "        if p < 0.05:\n",
    "            print(f\"{column_name}: Significant difference (p-value: {p:.3f}) - {test} test\")\n",
    "        else:\n",
    "            print(f\"{column_name}: No significant difference (p-value: {p:.3f}) - {test} test\")\n",
    "    else:\n",
    "        # Convert data to probability distributions\n",
    "        # Here, using histograms\n",
    "        p_hist, _ = np.histogram(col1, bins=30, range=(min(col1.min(), col2.min()), max(col1.max(), col2.max())), density=True)\n",
    "        q_hist, _ = np.histogram(col2, bins=30, range=(min(col1.min(), col2.min()), max(col1.max(), col2.max())), density=True)\n",
    "        \n",
    "        # Calculate JS divergence\n",
    "        js_div = js_divergence(p_hist, q_hist)\n",
    "        print(f\"{column_name}: JS Divergence: {js_div:.3f}\")\n"
   ]
  },
  {
   "cell_type": "code",
   "execution_count": 6,
   "id": "5a953d75",
   "metadata": {},
   "outputs": [],
   "source": [
    "def datavalue_similarity(col1, col2, column_name):\n",
    "    if col1.dtype == 'O':  \n",
    "        # Chi-squared test for categorical data\n",
    "        contingency_table = pd.crosstab(col1, col2)\n",
    "        chi2, p, _, _ = chi2_contingency(contingency_table)\n",
    "        test = 'Chi-squared'\n",
    "    else:\n",
    "        # mean\n",
    "        mean1, mean2 = col1.mean(), col2.mean()\n",
    "\n",
    "        # mean difference\n",
    "        mean_diff_percent = abs(mean1 - mean2) / mean1 * 100\n",
    "\n",
    "        # min,max difference\n",
    "        min1, max1 = col1.min(), col1.max()\n",
    "        min2, max2 = col2.min(), col2.max()\n",
    "        min_diff_percent = abs(min1 - min2) / min1 * 100\n",
    "        max_diff_percent = abs(max1 - max2) / max1 * 100\n",
    "\n",
    "        # check if difference within 5%\n",
    "        if mean_diff_percent < 5 and min_diff_percent < 5 and max_diff_percent < 5:\n",
    "            print(f\"Mean and extreme differences are less than 5%\")\n",
    "        else:\n",
    "            print(f\"Mean and extreme differences are more than 5%\")\n",
    "        print(f\"mean difference: {mean_diff_percent:.2f}%\")\n",
    "        print(f\"minimum difference: {min_diff_percent:.2f}%\")\n",
    "        print(f\"maximum difference: {max_diff_percent:.2f}%\")\n"
   ]
  },
  {
   "cell_type": "markdown",
   "id": "0969045c",
   "metadata": {},
   "source": [
    "# data test"
   ]
  },
  {
   "cell_type": "code",
   "execution_count": 7,
   "id": "9ca2c9ec",
   "metadata": {},
   "outputs": [],
   "source": [
    "exp = f\"load_stimulus_exp-1\"\n",
    "#exp_compare = f\"load_stimulus_exp-2\"\n",
    "exp_compare = f\"resource_stimulus_tree\""
   ]
  },
  {
   "cell_type": "code",
   "execution_count": 8,
   "id": "e2857cb5",
   "metadata": {},
   "outputs": [],
   "source": [
    "current_dir = os.getcwd()\n",
    "file_path = os.path.abspath(f'../datasets/{exp}.csv')"
   ]
  },
  {
   "cell_type": "code",
   "execution_count": 9,
   "id": "c8319072",
   "metadata": {},
   "outputs": [],
   "source": [
    "file_path_compare =  os.path.abspath(f'../datasets/{exp_compare}.csv')"
   ]
  },
  {
   "cell_type": "code",
   "execution_count": 10,
   "id": "85c3586e",
   "metadata": {},
   "outputs": [
    {
     "name": "stdout",
     "output_type": "stream",
     "text": [
      "input_rate: No Significant difference (p-value: 0.000) - Kolmogorov-Smirnov test\n",
      "output_rate: No Significant difference (p-value: 0.000) - Kolmogorov-Smirnov test\n",
      "latency: No Significant difference (p-value: 0.106) - Kolmogorov-Smirnov test\n"
     ]
    }
   ],
   "source": [
    "# Load data\n",
    "data1 = pd.read_csv(file_path)\n",
    "data2 = pd.read_csv(file_path_compare)\n",
    "\n",
    "# List of key columns to compare\n",
    "key_columns = [\"input_rate\",\"output_rate\",\"latency\"] \n",
    "\n",
    "# Compare key columns\n",
    "for column in key_columns:\n",
    "    if column in data1.columns and column in data2.columns:\n",
    "        compare_columns_ks(data1[column], data2[column], column)\n",
    "    else:\n",
    "        print(f\"{column} not found in both datasets\")"
   ]
  },
  {
   "cell_type": "code",
   "execution_count": 11,
   "id": "5eee2328",
   "metadata": {},
   "outputs": [
    {
     "name": "stdout",
     "output_type": "stream",
     "text": [
      "input_rate: KL Divergence: inf\n",
      "output_rate: KL Divergence: inf\n",
      "latency: KL Divergence: inf\n"
     ]
    }
   ],
   "source": [
    "# kl\n",
    "for column in key_columns:\n",
    "    if column in data1.columns and column in data2.columns:\n",
    "        compare_columns_kl(data1[column], data2[column], column)\n",
    "    else:\n",
    "        print(f\"{column} not found in both datasets\")"
   ]
  },
  {
   "cell_type": "code",
   "execution_count": 12,
   "id": "54eeefbd",
   "metadata": {},
   "outputs": [
    {
     "name": "stdout",
     "output_type": "stream",
     "text": [
      "input_rate: JS Divergence: 0.552\n",
      "output_rate: JS Divergence: 0.591\n",
      "latency: JS Divergence: 0.066\n"
     ]
    }
   ],
   "source": [
    "# js\n",
    "for column in key_columns:\n",
    "    if column in data1.columns and column in data2.columns:\n",
    "        compare_columns_js(data1[column], data2[column], column)\n",
    "    else:\n",
    "        print(f\"{column} not found in both datasets\")"
   ]
  },
  {
   "cell_type": "code",
   "execution_count": 13,
   "id": "8d3173ba",
   "metadata": {},
   "outputs": [
    {
     "name": "stdout",
     "output_type": "stream",
     "text": [
      "the feature is :input_rate\n",
      "Mean and extreme differences are more than 5%\n",
      "mean difference: 59.03%\n",
      "minimum difference: 72.06%\n",
      "maximum difference: 73.64%\n",
      "the feature is :output_rate\n",
      "Mean and extreme differences are more than 5%\n",
      "mean difference: 38.09%\n",
      "minimum difference: inf%\n",
      "maximum difference: 72.09%\n",
      "the feature is :latency\n",
      "Mean and extreme differences are more than 5%\n",
      "mean difference: 32.05%\n",
      "minimum difference: 0.22%\n",
      "maximum difference: 0.00%\n"
     ]
    },
    {
     "name": "stderr",
     "output_type": "stream",
     "text": [
      "C:\\Users\\Qiong\\AppData\\Local\\Temp\\ipykernel_22576\\1823704260.py:17: RuntimeWarning: divide by zero encountered in double_scalars\n",
      "  min_diff_percent = abs(min1 - min2) / min1 * 100\n"
     ]
    }
   ],
   "source": [
    "# data value difference\n",
    "for column in key_columns:\n",
    "    print(f'the feature is :{column}')\n",
    "    if column in data1.columns and column in data2.columns:\n",
    "        datavalue_similarity(data1[column], data2[column], column)\n",
    "    else:\n",
    "        print(f\"{column} not found in both datasets\")"
   ]
  },
  {
   "cell_type": "markdown",
   "id": "6ae018e1",
   "metadata": {},
   "source": [
    "# To distinguish dataset"
   ]
  },
  {
   "cell_type": "code",
   "execution_count": 14,
   "id": "5a76b579",
   "metadata": {},
   "outputs": [],
   "source": [
    "exp = f\"load_stimulus_exp-1\"\n",
    "#exp_compare = f\"load_stimulus_exp-2\"\n",
    "exp_compare = f\"resource_stimulus_tree\""
   ]
  },
  {
   "cell_type": "code",
   "execution_count": 15,
   "id": "464fde28",
   "metadata": {},
   "outputs": [],
   "source": [
    "current_dir = os.getcwd()\n",
    "file_path = os.path.abspath(f'../datasets/{exp}.csv')\n",
    "file_path_compare =  os.path.abspath(f'../datasets/{exp_compare}.csv')\n",
    "\n",
    "data1 = pd.read_csv(file_path)\n",
    "data2 = pd.read_csv(file_path_compare)"
   ]
  },
  {
   "cell_type": "code",
   "execution_count": 16,
   "id": "e19b429d",
   "metadata": {},
   "outputs": [],
   "source": [
    "import pandas as pd\n",
    "\n",
    "def compare_dataset_headers(file1, file2):\n",
    "    data1 = pd.read_csv(file1)\n",
    "    data2 = pd.read_csv(file2)\n",
    "\n",
    "    if list(data1.columns) == list(data2.columns):\n",
    "        print(\"same feature set\")\n",
    "        return True\n",
    "    else:\n",
    "        print(\"different feature set\")\n",
    "        return False"
   ]
  },
  {
   "cell_type": "code",
   "execution_count": 17,
   "id": "ffffe1d4",
   "metadata": {},
   "outputs": [
    {
     "name": "stdout",
     "output_type": "stream",
     "text": [
      "different feature set\n"
     ]
    },
    {
     "data": {
      "text/plain": [
       "False"
      ]
     },
     "execution_count": 17,
     "metadata": {},
     "output_type": "execute_result"
    }
   ],
   "source": [
    "compare_dataset_headers(file_path, file_path_compare)"
   ]
  },
  {
   "cell_type": "code",
   "execution_count": 18,
   "id": "c4245663",
   "metadata": {},
   "outputs": [
    {
     "name": "stdout",
     "output_type": "stream",
     "text": [
      "the feature is :input_rate\n",
      "Mean and extreme differences are more than 5%\n",
      "mean difference: 59.03%\n",
      "minimum difference: 72.06%\n",
      "maximum difference: 73.64%\n",
      "the feature is :output_rate\n",
      "Mean and extreme differences are more than 5%\n",
      "mean difference: 38.09%\n",
      "minimum difference: inf%\n",
      "maximum difference: 72.09%\n",
      "the feature is :latency\n",
      "Mean and extreme differences are more than 5%\n",
      "mean difference: 32.05%\n",
      "minimum difference: 0.22%\n",
      "maximum difference: 0.00%\n"
     ]
    },
    {
     "name": "stderr",
     "output_type": "stream",
     "text": [
      "C:\\Users\\Qiong\\AppData\\Local\\Temp\\ipykernel_22576\\1823704260.py:17: RuntimeWarning: divide by zero encountered in double_scalars\n",
      "  min_diff_percent = abs(min1 - min2) / min1 * 100\n"
     ]
    }
   ],
   "source": [
    "# data value difference\n",
    "for column in key_columns:\n",
    "    print(f'the feature is :{column}')\n",
    "    if column in data1.columns and column in data2.columns:\n",
    "        datavalue_similarity(data1[column], data2[column], column)\n",
    "    else:\n",
    "        print(f\"{column} not found in both datasets\")"
   ]
  },
  {
   "cell_type": "code",
   "execution_count": 19,
   "id": "982cdf6d",
   "metadata": {},
   "outputs": [
    {
     "name": "stdout",
     "output_type": "stream",
     "text": [
      "input_rate: JS Divergence: 0.552\n",
      "output_rate: JS Divergence: 0.591\n",
      "latency: JS Divergence: 0.066\n"
     ]
    }
   ],
   "source": [
    "# js\n",
    "for column in key_columns:\n",
    "    if column in data1.columns and column in data2.columns:\n",
    "        compare_columns_js(data1[column], data2[column], column)\n",
    "    else:\n",
    "        print(f\"{column} not found in both datasets\")"
   ]
  },
  {
   "cell_type": "code",
   "execution_count": 41,
   "id": "a37dfea9",
   "metadata": {},
   "outputs": [
    {
     "name": "stdout",
     "output_type": "stream",
     "text": [
      "['flow_tracker_LLC-loads', 'nf_router_LLC-loads', 'ndpi_stats_LLC-loads', 'payload_scan_LLC-loads', 'flow_tracker_LLC-load-misses', 'nf_router_LLC-load-misses', 'ndpi_stats_LLC-load-misses', 'payload_scan_LLC-load-misses', 'flow_tracker_L1-dcache-load-misses', 'nf_router_L1-dcache-load-misses', 'ndpi_stats_L1-dcache-load-misses', 'payload_scan_L1-dcache-load-misses', 'flow_tracker_cache-references', 'nf_router_cache-references', 'ndpi_stats_cache-references', 'payload_scan_cache-references', 'output_rate', 'latency']\n",
      "different feature set\n",
      "flow_tracker_LLC-loads not found in both datasets\n",
      "nf_router_LLC-loads not found in both datasets\n",
      "ndpi_stats_LLC-loads not found in both datasets\n",
      "payload_scan_LLC-loads not found in both datasets\n",
      "flow_tracker_LLC-load-misses not found in both datasets\n",
      "nf_router_LLC-load-misses not found in both datasets\n",
      "ndpi_stats_LLC-load-misses not found in both datasets\n",
      "payload_scan_LLC-load-misses not found in both datasets\n",
      "flow_tracker_L1-dcache-load-misses not found in both datasets\n",
      "nf_router_L1-dcache-load-misses not found in both datasets\n",
      "ndpi_stats_L1-dcache-load-misses not found in both datasets\n",
      "payload_scan_L1-dcache-load-misses not found in both datasets\n",
      "flow_tracker_cache-references not found in both datasets\n",
      "nf_router_cache-references not found in both datasets\n",
      "ndpi_stats_cache-references not found in both datasets\n",
      "payload_scan_cache-references not found in both datasets\n",
      "Mean and extreme differences are more than 5%\n",
      "mean difference: 61.52%\n",
      "minimum difference: 100.00%\n",
      "maximum difference: 258.33%\n",
      "output_rate: JS Divergence: 0.591\n",
      "Mean and extreme differences are more than 5%\n",
      "mean difference: 47.16%\n",
      "minimum difference: 0.22%\n",
      "maximum difference: 0.00%\n",
      "latency: JS Divergence: 0.066\n",
      "elapsed time :0.040924072265625\n"
     ]
    }
   ],
   "source": [
    "import time \n",
    "\n",
    "start_time=time.time()\n",
    "\n",
    "\n",
    "\n",
    "\n",
    "# explort data\n",
    "exp = f\"load_stimulus_exp-1\"\n",
    "#exp_compare = f\"load_stimulus_exp-2\"\n",
    "exp_compare = f\"resource_stimulus_tree\"\n",
    "\n",
    "current_dir = os.getcwd()\n",
    "file_path = os.path.abspath(f'../datasets/{exp}.csv')\n",
    "file_path_compare =  os.path.abspath(f'../datasets/{exp_compare}.csv')\n",
    "\n",
    "data2 = pd.read_csv(file_path)\n",
    "data1 = pd.read_csv(file_path_compare)\n",
    "\n",
    "#columns to be compare\n",
    "\n",
    "additional_columns = [\"output_rate\", \"latency\"]\n",
    "key_columns = [col for col in data1.columns if 'LLC-loads' in col] +[col for col in data1.columns if 'LLC-load-misses' in col] +[col for col in data1.columns if 'L1-dcache-load-misses' in col] +[col for col in data1.columns if 'cache-references' in col] + additional_columns\n",
    "            \n",
    "\n",
    "print(key_columns)\n",
    "\n",
    "#step 1\n",
    "compare_dataset_headers(file_path, file_path_compare)\n",
    "#step 2, compare data samilarity and data distribution\n",
    "for column in key_columns:\n",
    "    if column in data1.columns and column in data2.columns:\n",
    "        datavalue_similarity(data1[column], data2[column], column)\n",
    "        compare_columns_js(data1[column], data2[column], column)\n",
    "    else:\n",
    "        print(f\"{column} not found in both datasets\")\n",
    "        \n",
    "end_time = time.time()\n",
    "elapsed_time = end_time - start_time\n",
    "print(f'elapsed time :{elapsed_time}')"
   ]
  },
  {
   "cell_type": "code",
   "execution_count": null,
   "id": "7ec13940",
   "metadata": {},
   "outputs": [],
   "source": []
  }
 ],
 "metadata": {
  "kernelspec": {
   "display_name": "Python 3 (ipykernel)",
   "language": "python",
   "name": "python3"
  },
  "language_info": {
   "codemirror_mode": {
    "name": "ipython",
    "version": 3
   },
   "file_extension": ".py",
   "mimetype": "text/x-python",
   "name": "python",
   "nbconvert_exporter": "python",
   "pygments_lexer": "ipython3",
   "version": "3.10.9"
  }
 },
 "nbformat": 4,
 "nbformat_minor": 5
}
