{
 "cells": [
  {
   "cell_type": "code",
   "execution_count": 13,
   "id": "a394e648",
   "metadata": {},
   "outputs": [],
   "source": [
    "# process latency\n",
    "import csv\n",
    "\n",
    "def extract_second_column(input_file, output_file):\n",
    "    with open(input_file, 'r') as csvfile:\n",
    "        csvreader = csv.reader(csvfile, delimiter=' ')\n",
    "        with open(output_file, 'w', newline='') as newfile:\n",
    "            csvwriter = csv.writer(newfile)\n",
    "            for row in csvreader:\n",
    "                csvwriter.writerow([row[1]])\n",
    "\n",
    "\n",
    "\n",
    "# extract_second_column('latency-7500COPY.csv', 'output_file.csv')\n"
   ]
  },
  {
   "cell_type": "code",
   "execution_count": null,
   "id": "7e3e921f",
   "metadata": {},
   "outputs": [],
   "source": []
  }
 ],
 "metadata": {
  "kernelspec": {
   "display_name": "Python 3 (ipykernel)",
   "language": "python",
   "name": "python3"
  },
  "language_info": {
   "codemirror_mode": {
    "name": "ipython",
    "version": 3
   },
   "file_extension": ".py",
   "mimetype": "text/x-python",
   "name": "python",
   "nbconvert_exporter": "python",
   "pygments_lexer": "ipython3",
   "version": "3.10.9"
  }
 },
 "nbformat": 4,
 "nbformat_minor": 5
}
