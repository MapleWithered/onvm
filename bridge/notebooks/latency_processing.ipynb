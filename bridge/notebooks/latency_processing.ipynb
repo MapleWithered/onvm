{
 "cells": [
  {
   "cell_type": "code",
   "execution_count": 6,
   "id": "e30959d3",
   "metadata": {},
   "outputs": [],
   "source": [
    "import sys, re, os\n",
    "import numpy as np\n",
    "import pandas as pd\n",
    "\n",
    "import numpy as np\n",
    "import matplotlib.pyplot as plt\n",
    "from sklearn.linear_model import LinearRegression"
   ]
  },
  {
   "cell_type": "code",
   "execution_count": 7,
   "id": "0737b85c",
   "metadata": {},
   "outputs": [],
   "source": [
    "# Change the work directory to the parent\n",
    "try:\n",
    "    if chdir:\n",
    "        pass\n",
    "except:\n",
    "    current_dir = os.getcwd()\n",
    "    os.chdir(current_dir +\"/..\")\n",
    "    os.path.abspath(os.curdir)"
   ]
  },
  {
   "cell_type": "code",
   "execution_count": 8,
   "id": "a2bc8b3b",
   "metadata": {},
   "outputs": [],
   "source": [
    "chdir = True"
   ]
  },
  {
   "cell_type": "code",
   "execution_count": 21,
   "id": "c102a16d",
   "metadata": {},
   "outputs": [],
   "source": [
    "# Read the CSV file with space-separated values and no header\n",
    "df = pd.read_csv(\"..\\\\bridge\\\\data\\\\load_stimulus\\\\exp-12\\\\latency.csv\", sep=' ', header=None)\n",
    "\n",
    "# Drop the second column\n",
    "df.drop(columns=[0], inplace=True)\n",
    "# Save the new dataframe to a new CSV file\n",
    "df.to_csv(\"..\\\\bridge\\\\data\\\\load_stimulus\\\\exp-12\\\\latency.csv\", index=False, header=False)\n"
   ]
  },
  {
   "cell_type": "code",
   "execution_count": null,
   "id": "11a86ef5",
   "metadata": {},
   "outputs": [],
   "source": []
  }
 ],
 "metadata": {
  "kernelspec": {
   "display_name": "Python 3 (ipykernel)",
   "language": "python",
   "name": "python3"
  },
  "language_info": {
   "codemirror_mode": {
    "name": "ipython",
    "version": 3
   },
   "file_extension": ".py",
   "mimetype": "text/x-python",
   "name": "python",
   "nbconvert_exporter": "python",
   "pygments_lexer": "ipython3",
   "version": "3.10.9"
  }
 },
 "nbformat": 4,
 "nbformat_minor": 5
}
